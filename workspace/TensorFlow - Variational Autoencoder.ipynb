{
 "cells": [
  {
   "cell_type": "markdown",
   "metadata": {},
   "source": [
    "Reference:\n",
    "\n",
    "https://github.com/tensorflow/probability/blob/v0.7/tensorflow_probability/examples/jupyter_notebooks/Probabilistic_Layers_VAE.ipynb"
   ]
  },
  {
   "cell_type": "code",
   "execution_count": 1,
   "metadata": {},
   "outputs": [
    {
     "name": "stdout",
     "output_type": "stream",
     "text": [
      "TensorFlow 2.0.0-beta1\n",
      "TensorFlow Probability 0.7.0\n",
      "TensorFlow Datasets 1.0.2\n",
      "GPU Available: /device:GPU:0\n"
     ]
    }
   ],
   "source": [
    "import tensorflow as tf\n",
    "import tensorflow_probability as tfp\n",
    "import tensorflow_datasets as tfds\n",
    "import numpy as np\n",
    "\n",
    "print(\"TensorFlow\", tf.__version__)\n",
    "print(\"TensorFlow Probability\", tfp.__version__)\n",
    "print(\"TensorFlow Datasets\", tfds.version.__version__)\n",
    "print(\"GPU Available:\", tf.test.gpu_device_name())"
   ]
  },
  {
   "cell_type": "code",
   "execution_count": 2,
   "metadata": {},
   "outputs": [],
   "source": [
    "%matplotlib inline\n",
    "\n",
    "import matplotlib.pyplot as plt\n",
    "from IPython.display import SVG\n",
    "\n",
    "def display_images(x, y=None):\n",
    "    if not isinstance(x, (np.ndarray, np.generic)):\n",
    "        x = np.array(x)\n",
    "    plt.ioff()\n",
    "    n = x.shape[0]\n",
    "    fig, axs = plt.subplots(1, n, figsize=(n, 1))\n",
    "    if y is not None:\n",
    "        fig.suptitle(np.argmax(y, axis=1))\n",
    "    for i in range(n):\n",
    "        axs.flat[i].imshow(x[i].squeeze(), interpolation=\"none\", cmap=\"gray\")\n",
    "        axs.flat[i].axis(\"off\")\n",
    "    plt.show()\n",
    "    plt.close()\n",
    "    plt.ion()\n",
    "\n",
    "def display_model(model, **kvargs):\n",
    "    dot = tf.keras.utils.model_to_dot(model, show_shapes=True, dpi=72, **kvargs)\n",
    "    svg = dot.create(prog=\"dot\", format=\"svg\")\n",
    "    display(SVG(svg))"
   ]
  },
  {
   "cell_type": "markdown",
   "metadata": {},
   "source": [
    "## Classifier"
   ]
  },
  {
   "cell_type": "code",
   "execution_count": 3,
   "metadata": {},
   "outputs": [],
   "source": [
    "tf.keras.backend.clear_session()"
   ]
  },
  {
   "cell_type": "code",
   "execution_count": 4,
   "metadata": {},
   "outputs": [
    {
     "name": "stdout",
     "output_type": "stream",
     "text": [
      "FeaturesDict({'image': Image(shape=(28, 28, 1), dtype=tf.uint8), 'label': ClassLabel(shape=(), dtype=tf.int64, num_classes=10)})\n"
     ]
    }
   ],
   "source": [
    "datasets, datasets_info = tfds.load(name='mnist',\n",
    "                                    with_info=True,\n",
    "                                    as_supervised=True)\n",
    "\n",
    "print(datasets_info.features)"
   ]
  },
  {
   "cell_type": "code",
   "execution_count": 5,
   "metadata": {},
   "outputs": [
    {
     "name": "stdout",
     "output_type": "stream",
     "text": [
      "Train: <BatchDataset shapes: ((None, 28, 28, 1), (None,)), types: (tf.float32, tf.int64)>\n",
      "Eval : <BatchDataset shapes: ((None, 28, 28, 1), (None,)), types: (tf.float32, tf.int64)>\n"
     ]
    }
   ],
   "source": [
    "def _preprocess(images, labels):\n",
    "    images = tf.cast(images, tf.float32) / 255.  # Scale to unit interval.\n",
    "    return images, labels\n",
    "\n",
    "train_dataset = datasets[\"train\"] \\\n",
    "                    .prefetch(tf.data.experimental.AUTOTUNE) \\\n",
    "                    .map(_preprocess) \\\n",
    "                    .shuffle(1024) \\\n",
    "                    .batch(64)\n",
    "\n",
    "eval_dataset = datasets[\"test\"] \\\n",
    "                    .prefetch(tf.data.experimental.AUTOTUNE) \\\n",
    "                    .map(_preprocess) \\\n",
    "                    .batch(64)\n",
    "\n",
    "print(\"Train:\", train_dataset)\n",
    "print(\"Eval :\", eval_dataset)"
   ]
  },
  {
   "cell_type": "code",
   "execution_count": 6,
   "metadata": {},
   "outputs": [],
   "source": [
    "input_shape = datasets_info.features[\"image\"].shape\n",
    "num_classes = datasets_info.features[\"label\"].num_classes\n",
    "hidden_size = 32"
   ]
  },
  {
   "cell_type": "code",
   "execution_count": 7,
   "metadata": {},
   "outputs": [
    {
     "name": "stdout",
     "output_type": "stream",
     "text": [
      "Model: \"classifier\"\n",
      "_________________________________________________________________\n",
      "Layer (type)                 Output Shape              Param #   \n",
      "=================================================================\n",
      "flatten (Flatten)            (None, 784)               0         \n",
      "_________________________________________________________________\n",
      "dense (Dense)                (None, 32)                25120     \n",
      "_________________________________________________________________\n",
      "re_lu (ReLU)                 (None, 32)                0         \n",
      "_________________________________________________________________\n",
      "dense_1 (Dense)              (None, 10)                330       \n",
      "_________________________________________________________________\n",
      "softmax (Softmax)            (None, 10)                0         \n",
      "=================================================================\n",
      "Total params: 25,450\n",
      "Trainable params: 25,450\n",
      "Non-trainable params: 0\n",
      "_________________________________________________________________\n"
     ]
    },
    {
     "data": {
      "image/svg+xml": [
       "<svg height=\"492pt\" viewBox=\"0.00 0.00 313.00 491.60\" width=\"313pt\" xmlns=\"http://www.w3.org/2000/svg\" xmlns:xlink=\"http://www.w3.org/1999/xlink\">\n",
       "<g class=\"graph\" id=\"graph0\" transform=\"scale(1 1) rotate(0) translate(4 487.6)\">\n",
       "<title>G</title>\n",
       "<polygon fill=\"#ffffff\" points=\"-4,4 -4,-487.6 309.0008,-487.6 309.0008,4 -4,4\" stroke=\"transparent\"/>\n",
       "<!-- 139967616015776 -->\n",
       "<g class=\"node\" id=\"node1\">\n",
       "<title>139967616015776</title>\n",
       "<polygon fill=\"none\" points=\"0,-433.5 0,-483.1 305.0008,-483.1 305.0008,-433.5 0,-433.5\" stroke=\"#000000\"/>\n",
       "<text fill=\"#000000\" font-family=\"Times,serif\" font-size=\"14.00\" text-anchor=\"middle\" x=\"64.1827\" y=\"-454.1\">input_1: InputLayer</text>\n",
       "<polyline fill=\"none\" points=\"128.3654,-433.5 128.3654,-483.1 \" stroke=\"#000000\"/>\n",
       "<text fill=\"#000000\" font-family=\"Times,serif\" font-size=\"14.00\" text-anchor=\"middle\" x=\"156.2013\" y=\"-466.5\">input:</text>\n",
       "<polyline fill=\"none\" points=\"128.3654,-458.3 184.0372,-458.3 \" stroke=\"#000000\"/>\n",
       "<text fill=\"#000000\" font-family=\"Times,serif\" font-size=\"14.00\" text-anchor=\"middle\" x=\"156.2013\" y=\"-441.7\">output:</text>\n",
       "<polyline fill=\"none\" points=\"184.0372,-433.5 184.0372,-483.1 \" stroke=\"#000000\"/>\n",
       "<text fill=\"#000000\" font-family=\"Times,serif\" font-size=\"14.00\" text-anchor=\"middle\" x=\"244.519\" y=\"-466.5\">[(None, 28, 28, 1)]</text>\n",
       "<polyline fill=\"none\" points=\"184.0372,-458.3 305.0008,-458.3 \" stroke=\"#000000\"/>\n",
       "<text fill=\"#000000\" font-family=\"Times,serif\" font-size=\"14.00\" text-anchor=\"middle\" x=\"244.519\" y=\"-441.7\">[(None, 28, 28, 1)]</text>\n",
       "</g>\n",
       "<!-- 139968605119656 -->\n",
       "<g class=\"node\" id=\"node2\">\n",
       "<title>139968605119656</title>\n",
       "<polygon fill=\"none\" points=\"19.8254,-346.9 19.8254,-396.5 285.1754,-396.5 285.1754,-346.9 19.8254,-346.9\" stroke=\"#000000\"/>\n",
       "<text fill=\"#000000\" font-family=\"Times,serif\" font-size=\"14.00\" text-anchor=\"middle\" x=\"68.8433\" y=\"-367.5\">flatten: Flatten</text>\n",
       "<polyline fill=\"none\" points=\"117.8612,-346.9 117.8612,-396.5 \" stroke=\"#000000\"/>\n",
       "<text fill=\"#000000\" font-family=\"Times,serif\" font-size=\"14.00\" text-anchor=\"middle\" x=\"145.6971\" y=\"-379.9\">input:</text>\n",
       "<polyline fill=\"none\" points=\"117.8612,-371.7 173.533,-371.7 \" stroke=\"#000000\"/>\n",
       "<text fill=\"#000000\" font-family=\"Times,serif\" font-size=\"14.00\" text-anchor=\"middle\" x=\"145.6971\" y=\"-355.1\">output:</text>\n",
       "<polyline fill=\"none\" points=\"173.533,-346.9 173.533,-396.5 \" stroke=\"#000000\"/>\n",
       "<text fill=\"#000000\" font-family=\"Times,serif\" font-size=\"14.00\" text-anchor=\"middle\" x=\"229.3542\" y=\"-379.9\">(None, 28, 28, 1)</text>\n",
       "<polyline fill=\"none\" points=\"173.533,-371.7 285.1754,-371.7 \" stroke=\"#000000\"/>\n",
       "<text fill=\"#000000\" font-family=\"Times,serif\" font-size=\"14.00\" text-anchor=\"middle\" x=\"229.3542\" y=\"-355.1\">(None, 784)</text>\n",
       "</g>\n",
       "<!-- 139967616015776&#45;&gt;139968605119656 -->\n",
       "<g class=\"edge\" id=\"edge1\">\n",
       "<title>139967616015776-&gt;139968605119656</title>\n",
       "<path d=\"M152.5004,-433.2517C152.5004,-424.9937 152.5004,-415.6517 152.5004,-406.7864\" fill=\"none\" stroke=\"#000000\"/>\n",
       "<polygon fill=\"#000000\" points=\"156.0005,-406.692 152.5004,-396.692 149.0005,-406.692 156.0005,-406.692\" stroke=\"#000000\"/>\n",
       "</g>\n",
       "<!-- 139967616123008 -->\n",
       "<g class=\"node\" id=\"node3\">\n",
       "<title>139967616123008</title>\n",
       "<polygon fill=\"none\" points=\"37.7209,-260.3 37.7209,-309.9 267.2799,-309.9 267.2799,-260.3 37.7209,-260.3\" stroke=\"#000000\"/>\n",
       "<text fill=\"#000000\" font-family=\"Times,serif\" font-size=\"14.00\" text-anchor=\"middle\" x=\"82.8433\" y=\"-280.9\">dense: Dense</text>\n",
       "<polyline fill=\"none\" points=\"127.9657,-260.3 127.9657,-309.9 \" stroke=\"#000000\"/>\n",
       "<text fill=\"#000000\" font-family=\"Times,serif\" font-size=\"14.00\" text-anchor=\"middle\" x=\"155.8016\" y=\"-293.3\">input:</text>\n",
       "<polyline fill=\"none\" points=\"127.9657,-285.1 183.6375,-285.1 \" stroke=\"#000000\"/>\n",
       "<text fill=\"#000000\" font-family=\"Times,serif\" font-size=\"14.00\" text-anchor=\"middle\" x=\"155.8016\" y=\"-268.5\">output:</text>\n",
       "<polyline fill=\"none\" points=\"183.6375,-260.3 183.6375,-309.9 \" stroke=\"#000000\"/>\n",
       "<text fill=\"#000000\" font-family=\"Times,serif\" font-size=\"14.00\" text-anchor=\"middle\" x=\"225.4587\" y=\"-293.3\">(None, 784)</text>\n",
       "<polyline fill=\"none\" points=\"183.6375,-285.1 267.2799,-285.1 \" stroke=\"#000000\"/>\n",
       "<text fill=\"#000000\" font-family=\"Times,serif\" font-size=\"14.00\" text-anchor=\"middle\" x=\"225.4587\" y=\"-268.5\">(None, 32)</text>\n",
       "</g>\n",
       "<!-- 139968605119656&#45;&gt;139967616123008 -->\n",
       "<g class=\"edge\" id=\"edge2\">\n",
       "<title>139968605119656-&gt;139967616123008</title>\n",
       "<path d=\"M152.5004,-346.6517C152.5004,-338.3937 152.5004,-329.0517 152.5004,-320.1864\" fill=\"none\" stroke=\"#000000\"/>\n",
       "<polygon fill=\"#000000\" points=\"156.0005,-320.092 152.5004,-310.092 149.0005,-320.092 156.0005,-320.092\" stroke=\"#000000\"/>\n",
       "</g>\n",
       "<!-- 139967616123904 -->\n",
       "<g class=\"node\" id=\"node4\">\n",
       "<title>139967616123904</title>\n",
       "<polygon fill=\"none\" points=\"43.1599,-173.7 43.1599,-223.3 261.8409,-223.3 261.8409,-173.7 43.1599,-173.7\" stroke=\"#000000\"/>\n",
       "<text fill=\"#000000\" font-family=\"Times,serif\" font-size=\"14.00\" text-anchor=\"middle\" x=\"86.3433\" y=\"-194.3\">re_lu: ReLU</text>\n",
       "<polyline fill=\"none\" points=\"129.5267,-173.7 129.5267,-223.3 \" stroke=\"#000000\"/>\n",
       "<text fill=\"#000000\" font-family=\"Times,serif\" font-size=\"14.00\" text-anchor=\"middle\" x=\"157.3626\" y=\"-206.7\">input:</text>\n",
       "<polyline fill=\"none\" points=\"129.5267,-198.5 185.1985,-198.5 \" stroke=\"#000000\"/>\n",
       "<text fill=\"#000000\" font-family=\"Times,serif\" font-size=\"14.00\" text-anchor=\"middle\" x=\"157.3626\" y=\"-181.9\">output:</text>\n",
       "<polyline fill=\"none\" points=\"185.1985,-173.7 185.1985,-223.3 \" stroke=\"#000000\"/>\n",
       "<text fill=\"#000000\" font-family=\"Times,serif\" font-size=\"14.00\" text-anchor=\"middle\" x=\"223.5197\" y=\"-206.7\">(None, 32)</text>\n",
       "<polyline fill=\"none\" points=\"185.1985,-198.5 261.8409,-198.5 \" stroke=\"#000000\"/>\n",
       "<text fill=\"#000000\" font-family=\"Times,serif\" font-size=\"14.00\" text-anchor=\"middle\" x=\"223.5197\" y=\"-181.9\">(None, 32)</text>\n",
       "</g>\n",
       "<!-- 139967616123008&#45;&gt;139967616123904 -->\n",
       "<g class=\"edge\" id=\"edge3\">\n",
       "<title>139967616123008-&gt;139967616123904</title>\n",
       "<path d=\"M152.5004,-260.0517C152.5004,-251.7937 152.5004,-242.4517 152.5004,-233.5864\" fill=\"none\" stroke=\"#000000\"/>\n",
       "<polygon fill=\"#000000\" points=\"156.0005,-233.492 152.5004,-223.492 149.0005,-233.492 156.0005,-233.492\" stroke=\"#000000\"/>\n",
       "</g>\n",
       "<!-- 139967616124240 -->\n",
       "<g class=\"node\" id=\"node5\">\n",
       "<title>139967616124240</title>\n",
       "<polygon fill=\"none\" points=\"34.2209,-87.1 34.2209,-136.7 270.7799,-136.7 270.7799,-87.1 34.2209,-87.1\" stroke=\"#000000\"/>\n",
       "<text fill=\"#000000\" font-family=\"Times,serif\" font-size=\"14.00\" text-anchor=\"middle\" x=\"86.3433\" y=\"-107.7\">dense_1: Dense</text>\n",
       "<polyline fill=\"none\" points=\"138.4657,-87.1 138.4657,-136.7 \" stroke=\"#000000\"/>\n",
       "<text fill=\"#000000\" font-family=\"Times,serif\" font-size=\"14.00\" text-anchor=\"middle\" x=\"166.3016\" y=\"-120.1\">input:</text>\n",
       "<polyline fill=\"none\" points=\"138.4657,-111.9 194.1375,-111.9 \" stroke=\"#000000\"/>\n",
       "<text fill=\"#000000\" font-family=\"Times,serif\" font-size=\"14.00\" text-anchor=\"middle\" x=\"166.3016\" y=\"-95.3\">output:</text>\n",
       "<polyline fill=\"none\" points=\"194.1375,-87.1 194.1375,-136.7 \" stroke=\"#000000\"/>\n",
       "<text fill=\"#000000\" font-family=\"Times,serif\" font-size=\"14.00\" text-anchor=\"middle\" x=\"232.4587\" y=\"-120.1\">(None, 32)</text>\n",
       "<polyline fill=\"none\" points=\"194.1375,-111.9 270.7799,-111.9 \" stroke=\"#000000\"/>\n",
       "<text fill=\"#000000\" font-family=\"Times,serif\" font-size=\"14.00\" text-anchor=\"middle\" x=\"232.4587\" y=\"-95.3\">(None, 10)</text>\n",
       "</g>\n",
       "<!-- 139967616123904&#45;&gt;139967616124240 -->\n",
       "<g class=\"edge\" id=\"edge4\">\n",
       "<title>139967616123904-&gt;139967616124240</title>\n",
       "<path d=\"M152.5004,-173.4517C152.5004,-165.1937 152.5004,-155.8517 152.5004,-146.9864\" fill=\"none\" stroke=\"#000000\"/>\n",
       "<polygon fill=\"#000000\" points=\"156.0005,-146.892 152.5004,-136.892 149.0005,-146.892 156.0005,-146.892\" stroke=\"#000000\"/>\n",
       "</g>\n",
       "<!-- 139967616124968 -->\n",
       "<g class=\"node\" id=\"node6\">\n",
       "<title>139967616124968</title>\n",
       "<polygon fill=\"none\" points=\"28.378,-.5 28.378,-50.1 276.6228,-50.1 276.6228,-.5 28.378,-.5\" stroke=\"#000000\"/>\n",
       "<text fill=\"#000000\" font-family=\"Times,serif\" font-size=\"14.00\" text-anchor=\"middle\" x=\"86.3433\" y=\"-21.1\">softmax: Softmax</text>\n",
       "<polyline fill=\"none\" points=\"144.3086,-.5 144.3086,-50.1 \" stroke=\"#000000\"/>\n",
       "<text fill=\"#000000\" font-family=\"Times,serif\" font-size=\"14.00\" text-anchor=\"middle\" x=\"172.1445\" y=\"-33.5\">input:</text>\n",
       "<polyline fill=\"none\" points=\"144.3086,-25.3 199.9804,-25.3 \" stroke=\"#000000\"/>\n",
       "<text fill=\"#000000\" font-family=\"Times,serif\" font-size=\"14.00\" text-anchor=\"middle\" x=\"172.1445\" y=\"-8.7\">output:</text>\n",
       "<polyline fill=\"none\" points=\"199.9804,-.5 199.9804,-50.1 \" stroke=\"#000000\"/>\n",
       "<text fill=\"#000000\" font-family=\"Times,serif\" font-size=\"14.00\" text-anchor=\"middle\" x=\"238.3016\" y=\"-33.5\">(None, 10)</text>\n",
       "<polyline fill=\"none\" points=\"199.9804,-25.3 276.6228,-25.3 \" stroke=\"#000000\"/>\n",
       "<text fill=\"#000000\" font-family=\"Times,serif\" font-size=\"14.00\" text-anchor=\"middle\" x=\"238.3016\" y=\"-8.7\">(None, 10)</text>\n",
       "</g>\n",
       "<!-- 139967616124240&#45;&gt;139967616124968 -->\n",
       "<g class=\"edge\" id=\"edge5\">\n",
       "<title>139967616124240-&gt;139967616124968</title>\n",
       "<path d=\"M152.5004,-86.8517C152.5004,-78.5937 152.5004,-69.2517 152.5004,-60.3864\" fill=\"none\" stroke=\"#000000\"/>\n",
       "<polygon fill=\"#000000\" points=\"156.0005,-60.292 152.5004,-50.292 149.0005,-60.292 156.0005,-60.292\" stroke=\"#000000\"/>\n",
       "</g>\n",
       "</g>\n",
       "</svg>"
      ],
      "text/plain": [
       "<IPython.core.display.SVG object>"
      ]
     },
     "metadata": {},
     "output_type": "display_data"
    }
   ],
   "source": [
    "classifier = tf.keras.models.Sequential(\n",
    "    name=\"classifier\",\n",
    "    layers=[\n",
    "        tf.keras.layers.InputLayer(input_shape=input_shape),\n",
    "        tf.keras.layers.Flatten(),\n",
    "        tf.keras.layers.Dense(units=hidden_size),\n",
    "        tf.keras.layers.ReLU(),\n",
    "        tf.keras.layers.Dense(units=num_classes),\n",
    "        tf.keras.layers.Softmax(),\n",
    "    ])\n",
    "\n",
    "classifier.summary()\n",
    "\n",
    "display_model(classifier)"
   ]
  },
  {
   "cell_type": "code",
   "execution_count": 8,
   "metadata": {},
   "outputs": [],
   "source": [
    "classifier.compile(\n",
    "    optimizer=tf.optimizers.Adam(),\n",
    "    loss=tf.losses.SparseCategoricalCrossentropy(),\n",
    "    metrics=[tf.metrics.SparseCategoricalAccuracy()])"
   ]
  },
  {
   "cell_type": "code",
   "execution_count": 9,
   "metadata": {},
   "outputs": [
    {
     "name": "stdout",
     "output_type": "stream",
     "text": [
      "Epoch 1/5\n"
     ]
    },
    {
     "name": "stderr",
     "output_type": "stream",
     "text": [
      "WARNING: Logging before flag parsing goes to stderr.\n",
      "W0705 01:05:42.826603 139970521351936 deprecation.py:323] From /home/user/software/conda/envs/tensorflow/lib/python3.7/site-packages/tensorflow/python/ops/math_grad.py:1250: add_dispatch_support.<locals>.wrapper (from tensorflow.python.ops.array_ops) is deprecated and will be removed in a future version.\n",
      "Instructions for updating:\n",
      "Use tf.where in 2.0, which has the same broadcast rule as np.where\n"
     ]
    },
    {
     "name": "stdout",
     "output_type": "stream",
     "text": [
      "938/938 - 18s - loss: 0.4152 - sparse_categorical_accuracy: 0.8841 - val_loss: 0.0000e+00 - val_sparse_categorical_accuracy: 0.0000e+00\n",
      "Epoch 2/5\n",
      "938/938 - 15s - loss: 0.2135 - sparse_categorical_accuracy: 0.9397 - val_loss: 0.1884 - val_sparse_categorical_accuracy: 0.9478\n",
      "Epoch 3/5\n",
      "938/938 - 15s - loss: 0.1693 - sparse_categorical_accuracy: 0.9527 - val_loss: 0.1717 - val_sparse_categorical_accuracy: 0.9504\n",
      "Epoch 4/5\n",
      "938/938 - 15s - loss: 0.1435 - sparse_categorical_accuracy: 0.9590 - val_loss: 0.1495 - val_sparse_categorical_accuracy: 0.9593\n",
      "Epoch 5/5\n",
      "938/938 - 15s - loss: 0.1254 - sparse_categorical_accuracy: 0.9651 - val_loss: 0.1346 - val_sparse_categorical_accuracy: 0.9626\n"
     ]
    },
    {
     "data": {
      "text/plain": [
       "<tensorflow.python.keras.callbacks.History at 0x7f4c802e7c88>"
      ]
     },
     "execution_count": 9,
     "metadata": {},
     "output_type": "execute_result"
    }
   ],
   "source": [
    "classifier.fit(\n",
    "    train_dataset,\n",
    "    validation_data=eval_dataset,\n",
    "    epochs=5,\n",
    "    verbose=2)"
   ]
  },
  {
   "cell_type": "code",
   "execution_count": 10,
   "metadata": {},
   "outputs": [
    {
     "data": {
      "text/plain": [
       "[0.1345932212462471, 0.9626]"
      ]
     },
     "execution_count": 10,
     "metadata": {},
     "output_type": "execute_result"
    }
   ],
   "source": [
    "classifier.evaluate(eval_dataset, verbose=2)"
   ]
  },
  {
   "cell_type": "markdown",
   "metadata": {},
   "source": [
    "## Autoencoder"
   ]
  },
  {
   "cell_type": "code",
   "execution_count": 11,
   "metadata": {},
   "outputs": [],
   "source": [
    "tf.keras.backend.clear_session()"
   ]
  },
  {
   "cell_type": "code",
   "execution_count": 12,
   "metadata": {},
   "outputs": [
    {
     "name": "stdout",
     "output_type": "stream",
     "text": [
      "FeaturesDict({'image': Image(shape=(28, 28, 1), dtype=tf.uint8), 'label': ClassLabel(shape=(), dtype=tf.int64, num_classes=10)})\n"
     ]
    }
   ],
   "source": [
    "datasets, datasets_info = tfds.load(name='mnist',\n",
    "                                    with_info=True,\n",
    "                                    as_supervised=False)\n",
    "\n",
    "print(datasets_info.features)"
   ]
  },
  {
   "cell_type": "code",
   "execution_count": 13,
   "metadata": {},
   "outputs": [
    {
     "name": "stdout",
     "output_type": "stream",
     "text": [
      "Train: <BatchDataset shapes: ((None, 28, 28, 1), (None, 28, 28, 1)), types: (tf.bool, tf.bool)>\n",
      "Eval : <BatchDataset shapes: ((None, 28, 28, 1), (None, 28, 28, 1)), types: (tf.bool, tf.bool)>\n"
     ]
    }
   ],
   "source": [
    "def _preprocess(sample):\n",
    "    image = tf.cast(sample[\"image\"], tf.float32) / 255.  # Scale to unit interval.\n",
    "    image = image < tf.random.uniform(tf.shape(image))   # Randomly binarize.\n",
    "    return image, image\n",
    "\n",
    "train_dataset = datasets[\"train\"] \\\n",
    "                    .prefetch(tf.data.experimental.AUTOTUNE) \\\n",
    "                    .map(_preprocess) \\\n",
    "                    .shuffle(1024) \\\n",
    "                    .batch(64)\n",
    "\n",
    "eval_dataset = datasets[\"test\"] \\\n",
    "                    .prefetch(tf.data.experimental.AUTOTUNE) \\\n",
    "                    .map(_preprocess) \\\n",
    "                    .batch(64)\n",
    "\n",
    "print(\"Train:\", train_dataset)\n",
    "print(\"Eval :\", eval_dataset)"
   ]
  },
  {
   "cell_type": "code",
   "execution_count": 14,
   "metadata": {},
   "outputs": [],
   "source": [
    "input_shape = datasets_info.features['image'].shape\n",
    "output_size = np.prod(input_shape)\n",
    "encoded_size = 8\n",
    "hidden_size = 32"
   ]
  },
  {
   "cell_type": "code",
   "execution_count": 15,
   "metadata": {},
   "outputs": [
    {
     "name": "stdout",
     "output_type": "stream",
     "text": [
      "Model: \"encoder\"\n",
      "_________________________________________________________________\n",
      "Layer (type)                 Output Shape              Param #   \n",
      "=================================================================\n",
      "lambda (Lambda)              (None, 28, 28, 1)         0         \n",
      "_________________________________________________________________\n",
      "flatten (Flatten)            (None, 784)               0         \n",
      "_________________________________________________________________\n",
      "dense (Dense)                (None, 32)                25120     \n",
      "_________________________________________________________________\n",
      "re_lu (ReLU)                 (None, 32)                0         \n",
      "_________________________________________________________________\n",
      "dense_1 (Dense)              (None, 44)                1452      \n",
      "_________________________________________________________________\n",
      "multivariate_normal_tri_l (M ((None, 8), (None, 8))    0         \n",
      "=================================================================\n",
      "Total params: 26,572\n",
      "Trainable params: 26,572\n",
      "Non-trainable params: 0\n",
      "_________________________________________________________________\n"
     ]
    },
    {
     "data": {
      "image/svg+xml": [
       "<svg height=\"578pt\" viewBox=\"0.00 0.00 508.93 578.20\" width=\"509pt\" xmlns=\"http://www.w3.org/2000/svg\" xmlns:xlink=\"http://www.w3.org/1999/xlink\">\n",
       "<g class=\"graph\" id=\"graph0\" transform=\"scale(1 1) rotate(0) translate(4 574.2)\">\n",
       "<title>G</title>\n",
       "<polygon fill=\"#ffffff\" points=\"-4,4 -4,-574.2 504.9266,-574.2 504.9266,4 -4,4\" stroke=\"transparent\"/>\n",
       "<!-- 139965800741744 -->\n",
       "<g class=\"node\" id=\"node1\">\n",
       "<title>139965800741744</title>\n",
       "<polygon fill=\"none\" points=\"97.9629,-520.1 97.9629,-569.7 402.9637,-569.7 402.9637,-520.1 97.9629,-520.1\" stroke=\"#000000\"/>\n",
       "<text fill=\"#000000\" font-family=\"Times,serif\" font-size=\"14.00\" text-anchor=\"middle\" x=\"162.1456\" y=\"-540.7\">input_1: InputLayer</text>\n",
       "<polyline fill=\"none\" points=\"226.3283,-520.1 226.3283,-569.7 \" stroke=\"#000000\"/>\n",
       "<text fill=\"#000000\" font-family=\"Times,serif\" font-size=\"14.00\" text-anchor=\"middle\" x=\"254.1642\" y=\"-553.1\">input:</text>\n",
       "<polyline fill=\"none\" points=\"226.3283,-544.9 282.0001,-544.9 \" stroke=\"#000000\"/>\n",
       "<text fill=\"#000000\" font-family=\"Times,serif\" font-size=\"14.00\" text-anchor=\"middle\" x=\"254.1642\" y=\"-528.3\">output:</text>\n",
       "<polyline fill=\"none\" points=\"282.0001,-520.1 282.0001,-569.7 \" stroke=\"#000000\"/>\n",
       "<text fill=\"#000000\" font-family=\"Times,serif\" font-size=\"14.00\" text-anchor=\"middle\" x=\"342.4819\" y=\"-553.1\">[(None, 28, 28, 1)]</text>\n",
       "<polyline fill=\"none\" points=\"282.0001,-544.9 402.9637,-544.9 \" stroke=\"#000000\"/>\n",
       "<text fill=\"#000000\" font-family=\"Times,serif\" font-size=\"14.00\" text-anchor=\"middle\" x=\"342.4819\" y=\"-528.3\">[(None, 28, 28, 1)]</text>\n",
       "</g>\n",
       "<!-- 139965800610224 -->\n",
       "<g class=\"node\" id=\"node2\">\n",
       "<title>139965800610224</title>\n",
       "<polygon fill=\"none\" points=\"111.5695,-433.5 111.5695,-483.1 389.3571,-483.1 389.3571,-433.5 111.5695,-433.5\" stroke=\"#000000\"/>\n",
       "<text fill=\"#000000\" font-family=\"Times,serif\" font-size=\"14.00\" text-anchor=\"middle\" x=\"166.8062\" y=\"-454.1\">lambda: Lambda</text>\n",
       "<polyline fill=\"none\" points=\"222.0429,-433.5 222.0429,-483.1 \" stroke=\"#000000\"/>\n",
       "<text fill=\"#000000\" font-family=\"Times,serif\" font-size=\"14.00\" text-anchor=\"middle\" x=\"249.8788\" y=\"-466.5\">input:</text>\n",
       "<polyline fill=\"none\" points=\"222.0429,-458.3 277.7147,-458.3 \" stroke=\"#000000\"/>\n",
       "<text fill=\"#000000\" font-family=\"Times,serif\" font-size=\"14.00\" text-anchor=\"middle\" x=\"249.8788\" y=\"-441.7\">output:</text>\n",
       "<polyline fill=\"none\" points=\"277.7147,-433.5 277.7147,-483.1 \" stroke=\"#000000\"/>\n",
       "<text fill=\"#000000\" font-family=\"Times,serif\" font-size=\"14.00\" text-anchor=\"middle\" x=\"333.5359\" y=\"-466.5\">(None, 28, 28, 1)</text>\n",
       "<polyline fill=\"none\" points=\"277.7147,-458.3 389.3571,-458.3 \" stroke=\"#000000\"/>\n",
       "<text fill=\"#000000\" font-family=\"Times,serif\" font-size=\"14.00\" text-anchor=\"middle\" x=\"333.5359\" y=\"-441.7\">(None, 28, 28, 1)</text>\n",
       "</g>\n",
       "<!-- 139965800741744&#45;&gt;139965800610224 -->\n",
       "<g class=\"edge\" id=\"edge1\">\n",
       "<title>139965800741744-&gt;139965800610224</title>\n",
       "<path d=\"M250.4633,-519.8517C250.4633,-511.5937 250.4633,-502.2517 250.4633,-493.3864\" fill=\"none\" stroke=\"#000000\"/>\n",
       "<polygon fill=\"#000000\" points=\"253.9634,-493.292 250.4633,-483.292 246.9634,-493.292 253.9634,-493.292\" stroke=\"#000000\"/>\n",
       "</g>\n",
       "<!-- 139965800611344 -->\n",
       "<g class=\"node\" id=\"node3\">\n",
       "<title>139965800611344</title>\n",
       "<polygon fill=\"none\" points=\"117.7883,-346.9 117.7883,-396.5 383.1383,-396.5 383.1383,-346.9 117.7883,-346.9\" stroke=\"#000000\"/>\n",
       "<text fill=\"#000000\" font-family=\"Times,serif\" font-size=\"14.00\" text-anchor=\"middle\" x=\"166.8062\" y=\"-367.5\">flatten: Flatten</text>\n",
       "<polyline fill=\"none\" points=\"215.8241,-346.9 215.8241,-396.5 \" stroke=\"#000000\"/>\n",
       "<text fill=\"#000000\" font-family=\"Times,serif\" font-size=\"14.00\" text-anchor=\"middle\" x=\"243.66\" y=\"-379.9\">input:</text>\n",
       "<polyline fill=\"none\" points=\"215.8241,-371.7 271.4959,-371.7 \" stroke=\"#000000\"/>\n",
       "<text fill=\"#000000\" font-family=\"Times,serif\" font-size=\"14.00\" text-anchor=\"middle\" x=\"243.66\" y=\"-355.1\">output:</text>\n",
       "<polyline fill=\"none\" points=\"271.4959,-346.9 271.4959,-396.5 \" stroke=\"#000000\"/>\n",
       "<text fill=\"#000000\" font-family=\"Times,serif\" font-size=\"14.00\" text-anchor=\"middle\" x=\"327.3171\" y=\"-379.9\">(None, 28, 28, 1)</text>\n",
       "<polyline fill=\"none\" points=\"271.4959,-371.7 383.1383,-371.7 \" stroke=\"#000000\"/>\n",
       "<text fill=\"#000000\" font-family=\"Times,serif\" font-size=\"14.00\" text-anchor=\"middle\" x=\"327.3171\" y=\"-355.1\">(None, 784)</text>\n",
       "</g>\n",
       "<!-- 139965800610224&#45;&gt;139965800611344 -->\n",
       "<g class=\"edge\" id=\"edge2\">\n",
       "<title>139965800610224-&gt;139965800611344</title>\n",
       "<path d=\"M250.4633,-433.2517C250.4633,-424.9937 250.4633,-415.6517 250.4633,-406.7864\" fill=\"none\" stroke=\"#000000\"/>\n",
       "<polygon fill=\"#000000\" points=\"253.9634,-406.692 250.4633,-396.692 246.9634,-406.692 253.9634,-406.692\" stroke=\"#000000\"/>\n",
       "</g>\n",
       "<!-- 139965800206520 -->\n",
       "<g class=\"node\" id=\"node4\">\n",
       "<title>139965800206520</title>\n",
       "<polygon fill=\"none\" points=\"135.6838,-260.3 135.6838,-309.9 365.2428,-309.9 365.2428,-260.3 135.6838,-260.3\" stroke=\"#000000\"/>\n",
       "<text fill=\"#000000\" font-family=\"Times,serif\" font-size=\"14.00\" text-anchor=\"middle\" x=\"180.8062\" y=\"-280.9\">dense: Dense</text>\n",
       "<polyline fill=\"none\" points=\"225.9286,-260.3 225.9286,-309.9 \" stroke=\"#000000\"/>\n",
       "<text fill=\"#000000\" font-family=\"Times,serif\" font-size=\"14.00\" text-anchor=\"middle\" x=\"253.7645\" y=\"-293.3\">input:</text>\n",
       "<polyline fill=\"none\" points=\"225.9286,-285.1 281.6004,-285.1 \" stroke=\"#000000\"/>\n",
       "<text fill=\"#000000\" font-family=\"Times,serif\" font-size=\"14.00\" text-anchor=\"middle\" x=\"253.7645\" y=\"-268.5\">output:</text>\n",
       "<polyline fill=\"none\" points=\"281.6004,-260.3 281.6004,-309.9 \" stroke=\"#000000\"/>\n",
       "<text fill=\"#000000\" font-family=\"Times,serif\" font-size=\"14.00\" text-anchor=\"middle\" x=\"323.4216\" y=\"-293.3\">(None, 784)</text>\n",
       "<polyline fill=\"none\" points=\"281.6004,-285.1 365.2428,-285.1 \" stroke=\"#000000\"/>\n",
       "<text fill=\"#000000\" font-family=\"Times,serif\" font-size=\"14.00\" text-anchor=\"middle\" x=\"323.4216\" y=\"-268.5\">(None, 32)</text>\n",
       "</g>\n",
       "<!-- 139965800611344&#45;&gt;139965800206520 -->\n",
       "<g class=\"edge\" id=\"edge3\">\n",
       "<title>139965800611344-&gt;139965800206520</title>\n",
       "<path d=\"M250.4633,-346.6517C250.4633,-338.3937 250.4633,-329.0517 250.4633,-320.1864\" fill=\"none\" stroke=\"#000000\"/>\n",
       "<polygon fill=\"#000000\" points=\"253.9634,-320.092 250.4633,-310.092 246.9634,-320.092 253.9634,-320.092\" stroke=\"#000000\"/>\n",
       "</g>\n",
       "<!-- 139965800207248 -->\n",
       "<g class=\"node\" id=\"node5\">\n",
       "<title>139965800207248</title>\n",
       "<polygon fill=\"none\" points=\"141.1228,-173.7 141.1228,-223.3 359.8038,-223.3 359.8038,-173.7 141.1228,-173.7\" stroke=\"#000000\"/>\n",
       "<text fill=\"#000000\" font-family=\"Times,serif\" font-size=\"14.00\" text-anchor=\"middle\" x=\"184.3062\" y=\"-194.3\">re_lu: ReLU</text>\n",
       "<polyline fill=\"none\" points=\"227.4896,-173.7 227.4896,-223.3 \" stroke=\"#000000\"/>\n",
       "<text fill=\"#000000\" font-family=\"Times,serif\" font-size=\"14.00\" text-anchor=\"middle\" x=\"255.3255\" y=\"-206.7\">input:</text>\n",
       "<polyline fill=\"none\" points=\"227.4896,-198.5 283.1614,-198.5 \" stroke=\"#000000\"/>\n",
       "<text fill=\"#000000\" font-family=\"Times,serif\" font-size=\"14.00\" text-anchor=\"middle\" x=\"255.3255\" y=\"-181.9\">output:</text>\n",
       "<polyline fill=\"none\" points=\"283.1614,-173.7 283.1614,-223.3 \" stroke=\"#000000\"/>\n",
       "<text fill=\"#000000\" font-family=\"Times,serif\" font-size=\"14.00\" text-anchor=\"middle\" x=\"321.4826\" y=\"-206.7\">(None, 32)</text>\n",
       "<polyline fill=\"none\" points=\"283.1614,-198.5 359.8038,-198.5 \" stroke=\"#000000\"/>\n",
       "<text fill=\"#000000\" font-family=\"Times,serif\" font-size=\"14.00\" text-anchor=\"middle\" x=\"321.4826\" y=\"-181.9\">(None, 32)</text>\n",
       "</g>\n",
       "<!-- 139965800206520&#45;&gt;139965800207248 -->\n",
       "<g class=\"edge\" id=\"edge4\">\n",
       "<title>139965800206520-&gt;139965800207248</title>\n",
       "<path d=\"M250.4633,-260.0517C250.4633,-251.7937 250.4633,-242.4517 250.4633,-233.5864\" fill=\"none\" stroke=\"#000000\"/>\n",
       "<polygon fill=\"#000000\" points=\"253.9634,-233.492 250.4633,-223.492 246.9634,-233.492 253.9634,-233.492\" stroke=\"#000000\"/>\n",
       "</g>\n",
       "<!-- 139965800207584 -->\n",
       "<g class=\"node\" id=\"node6\">\n",
       "<title>139965800207584</title>\n",
       "<polygon fill=\"none\" points=\"132.1838,-87.1 132.1838,-136.7 368.7428,-136.7 368.7428,-87.1 132.1838,-87.1\" stroke=\"#000000\"/>\n",
       "<text fill=\"#000000\" font-family=\"Times,serif\" font-size=\"14.00\" text-anchor=\"middle\" x=\"184.3062\" y=\"-107.7\">dense_1: Dense</text>\n",
       "<polyline fill=\"none\" points=\"236.4286,-87.1 236.4286,-136.7 \" stroke=\"#000000\"/>\n",
       "<text fill=\"#000000\" font-family=\"Times,serif\" font-size=\"14.00\" text-anchor=\"middle\" x=\"264.2645\" y=\"-120.1\">input:</text>\n",
       "<polyline fill=\"none\" points=\"236.4286,-111.9 292.1004,-111.9 \" stroke=\"#000000\"/>\n",
       "<text fill=\"#000000\" font-family=\"Times,serif\" font-size=\"14.00\" text-anchor=\"middle\" x=\"264.2645\" y=\"-95.3\">output:</text>\n",
       "<polyline fill=\"none\" points=\"292.1004,-87.1 292.1004,-136.7 \" stroke=\"#000000\"/>\n",
       "<text fill=\"#000000\" font-family=\"Times,serif\" font-size=\"14.00\" text-anchor=\"middle\" x=\"330.4216\" y=\"-120.1\">(None, 32)</text>\n",
       "<polyline fill=\"none\" points=\"292.1004,-111.9 368.7428,-111.9 \" stroke=\"#000000\"/>\n",
       "<text fill=\"#000000\" font-family=\"Times,serif\" font-size=\"14.00\" text-anchor=\"middle\" x=\"330.4216\" y=\"-95.3\">(None, 44)</text>\n",
       "</g>\n",
       "<!-- 139965800207248&#45;&gt;139965800207584 -->\n",
       "<g class=\"edge\" id=\"edge5\">\n",
       "<title>139965800207248-&gt;139965800207584</title>\n",
       "<path d=\"M250.4633,-173.4517C250.4633,-165.1937 250.4633,-155.8517 250.4633,-146.9864\" fill=\"none\" stroke=\"#000000\"/>\n",
       "<polygon fill=\"#000000\" points=\"253.9634,-146.892 250.4633,-136.892 246.9634,-146.892 253.9634,-146.892\" stroke=\"#000000\"/>\n",
       "</g>\n",
       "<!-- 139965800742024 -->\n",
       "<g class=\"node\" id=\"node7\">\n",
       "<title>139965800742024</title>\n",
       "<polygon fill=\"none\" points=\"0,-.5 0,-50.1 500.9266,-50.1 500.9266,-.5 0,-.5\" stroke=\"#000000\"/>\n",
       "<text fill=\"#000000\" font-family=\"Times,serif\" font-size=\"14.00\" text-anchor=\"middle\" x=\"152.8244\" y=\"-21.1\">multivariate_normal_tri_l: MultivariateNormalTriL</text>\n",
       "<polyline fill=\"none\" points=\"305.6488,-.5 305.6488,-50.1 \" stroke=\"#000000\"/>\n",
       "<text fill=\"#000000\" font-family=\"Times,serif\" font-size=\"14.00\" text-anchor=\"middle\" x=\"333.4847\" y=\"-33.5\">input:</text>\n",
       "<polyline fill=\"none\" points=\"305.6488,-25.3 361.3206,-25.3 \" stroke=\"#000000\"/>\n",
       "<text fill=\"#000000\" font-family=\"Times,serif\" font-size=\"14.00\" text-anchor=\"middle\" x=\"333.4847\" y=\"-8.7\">output:</text>\n",
       "<polyline fill=\"none\" points=\"361.3206,-.5 361.3206,-50.1 \" stroke=\"#000000\"/>\n",
       "<text fill=\"#000000\" font-family=\"Times,serif\" font-size=\"14.00\" text-anchor=\"middle\" x=\"430.6418\" y=\"-33.5\">(None, 44)</text>\n",
       "<polyline fill=\"none\" points=\"361.3206,-25.3 500.9266,-25.3 \" stroke=\"#000000\"/>\n",
       "<text fill=\"#000000\" font-family=\"Times,serif\" font-size=\"14.00\" text-anchor=\"middle\" x=\"431.1236\" y=\"-8.7\">((None, 8), (None, 8))</text>\n",
       "</g>\n",
       "<!-- 139965800207584&#45;&gt;139965800742024 -->\n",
       "<g class=\"edge\" id=\"edge6\">\n",
       "<title>139965800207584-&gt;139965800742024</title>\n",
       "<path d=\"M250.4633,-86.8517C250.4633,-78.5937 250.4633,-69.2517 250.4633,-60.3864\" fill=\"none\" stroke=\"#000000\"/>\n",
       "<polygon fill=\"#000000\" points=\"253.9634,-60.292 250.4633,-50.292 246.9634,-60.292 253.9634,-60.292\" stroke=\"#000000\"/>\n",
       "</g>\n",
       "</g>\n",
       "</svg>"
      ],
      "text/plain": [
       "<IPython.core.display.SVG object>"
      ]
     },
     "metadata": {},
     "output_type": "display_data"
    }
   ],
   "source": [
    "prior = tfp.distributions.Normal(loc=tf.zeros(encoded_size), scale=1) # loc = mean, scale = std\n",
    "prior = tfp.distributions.Independent(prior, reinterpreted_batch_ndims=1)\n",
    "\n",
    "encoder = tf.keras.models.Sequential(\n",
    "    name=\"encoder\",\n",
    "    layers=[\n",
    "        tf.keras.layers.InputLayer(input_shape=input_shape),\n",
    "        tf.keras.layers.Lambda(lambda x: tf.cast(x, tf.float32) - 0.5),\n",
    "        tf.keras.layers.Flatten(),\n",
    "        tf.keras.layers.Dense(units=hidden_size),\n",
    "        tf.keras.layers.ReLU(),\n",
    "        tf.keras.layers.Dense(\n",
    "            units=tfp.layers.MultivariateNormalTriL.params_size(encoded_size),\n",
    "            activation=None),\n",
    "        tfp.layers.MultivariateNormalTriL(\n",
    "            encoded_size,\n",
    "        activity_regularizer=tfp.layers.KLDivergenceRegularizer(prior)),\n",
    "    ])\n",
    "\n",
    "encoder.summary()\n",
    "\n",
    "display_model(encoder)"
   ]
  },
  {
   "cell_type": "code",
   "execution_count": 16,
   "metadata": {},
   "outputs": [
    {
     "name": "stdout",
     "output_type": "stream",
     "text": [
      "Model: \"decoder\"\n",
      "_________________________________________________________________\n",
      "Layer (type)                 Output Shape              Param #   \n",
      "=================================================================\n",
      "dense_2 (Dense)              (None, 32)                288       \n",
      "_________________________________________________________________\n",
      "re_lu_1 (ReLU)               (None, 32)                0         \n",
      "_________________________________________________________________\n",
      "dense_3 (Dense)              (None, 784)               25872     \n",
      "_________________________________________________________________\n",
      "independent_bernoulli (Indep ((None, 28, 28, 1), (None 0         \n",
      "=================================================================\n",
      "Total params: 26,160\n",
      "Trainable params: 26,160\n",
      "Non-trainable params: 0\n",
      "_________________________________________________________________\n"
     ]
    },
    {
     "data": {
      "image/svg+xml": [
       "<svg height=\"405pt\" viewBox=\"0.00 0.00 558.72 405.00\" width=\"559pt\" xmlns=\"http://www.w3.org/2000/svg\" xmlns:xlink=\"http://www.w3.org/1999/xlink\">\n",
       "<g class=\"graph\" id=\"graph0\" transform=\"scale(1 1) rotate(0) translate(4 401)\">\n",
       "<title>G</title>\n",
       "<polygon fill=\"#ffffff\" points=\"-4,4 -4,-401 554.719,-401 554.719,4 -4,4\" stroke=\"transparent\"/>\n",
       "<!-- 139965800325304 -->\n",
       "<g class=\"node\" id=\"node1\">\n",
       "<title>139965800325304</title>\n",
       "<polygon fill=\"none\" points=\"143.8591,-346.9 143.8591,-396.5 406.8599,-396.5 406.8599,-346.9 143.8591,-346.9\" stroke=\"#000000\"/>\n",
       "<text fill=\"#000000\" font-family=\"Times,serif\" font-size=\"14.00\" text-anchor=\"middle\" x=\"208.0418\" y=\"-367.5\">input_2: InputLayer</text>\n",
       "<polyline fill=\"none\" points=\"272.2245,-346.9 272.2245,-396.5 \" stroke=\"#000000\"/>\n",
       "<text fill=\"#000000\" font-family=\"Times,serif\" font-size=\"14.00\" text-anchor=\"middle\" x=\"300.0604\" y=\"-379.9\">input:</text>\n",
       "<polyline fill=\"none\" points=\"272.2245,-371.7 327.8963,-371.7 \" stroke=\"#000000\"/>\n",
       "<text fill=\"#000000\" font-family=\"Times,serif\" font-size=\"14.00\" text-anchor=\"middle\" x=\"300.0604\" y=\"-355.1\">output:</text>\n",
       "<polyline fill=\"none\" points=\"327.8963,-346.9 327.8963,-396.5 \" stroke=\"#000000\"/>\n",
       "<text fill=\"#000000\" font-family=\"Times,serif\" font-size=\"14.00\" text-anchor=\"middle\" x=\"367.3781\" y=\"-379.9\">[(None, 8)]</text>\n",
       "<polyline fill=\"none\" points=\"327.8963,-371.7 406.8599,-371.7 \" stroke=\"#000000\"/>\n",
       "<text fill=\"#000000\" font-family=\"Times,serif\" font-size=\"14.00\" text-anchor=\"middle\" x=\"367.3781\" y=\"-355.1\">[(None, 8)]</text>\n",
       "</g>\n",
       "<!-- 139965799686272 -->\n",
       "<g class=\"node\" id=\"node2\">\n",
       "<title>139965799686272</title>\n",
       "<polygon fill=\"none\" points=\"157.08,-260.3 157.08,-309.9 393.639,-309.9 393.639,-260.3 157.08,-260.3\" stroke=\"#000000\"/>\n",
       "<text fill=\"#000000\" font-family=\"Times,serif\" font-size=\"14.00\" text-anchor=\"middle\" x=\"209.2024\" y=\"-280.9\">dense_2: Dense</text>\n",
       "<polyline fill=\"none\" points=\"261.3248,-260.3 261.3248,-309.9 \" stroke=\"#000000\"/>\n",
       "<text fill=\"#000000\" font-family=\"Times,serif\" font-size=\"14.00\" text-anchor=\"middle\" x=\"289.1607\" y=\"-293.3\">input:</text>\n",
       "<polyline fill=\"none\" points=\"261.3248,-285.1 316.9966,-285.1 \" stroke=\"#000000\"/>\n",
       "<text fill=\"#000000\" font-family=\"Times,serif\" font-size=\"14.00\" text-anchor=\"middle\" x=\"289.1607\" y=\"-268.5\">output:</text>\n",
       "<polyline fill=\"none\" points=\"316.9966,-260.3 316.9966,-309.9 \" stroke=\"#000000\"/>\n",
       "<text fill=\"#000000\" font-family=\"Times,serif\" font-size=\"14.00\" text-anchor=\"middle\" x=\"354.8178\" y=\"-293.3\">(None, 8)</text>\n",
       "<polyline fill=\"none\" points=\"316.9966,-285.1 393.639,-285.1 \" stroke=\"#000000\"/>\n",
       "<text fill=\"#000000\" font-family=\"Times,serif\" font-size=\"14.00\" text-anchor=\"middle\" x=\"355.3178\" y=\"-268.5\">(None, 32)</text>\n",
       "</g>\n",
       "<!-- 139965800325304&#45;&gt;139965799686272 -->\n",
       "<g class=\"edge\" id=\"edge1\">\n",
       "<title>139965800325304-&gt;139965799686272</title>\n",
       "<path d=\"M275.3595,-346.6517C275.3595,-338.3937 275.3595,-329.0517 275.3595,-320.1864\" fill=\"none\" stroke=\"#000000\"/>\n",
       "<polygon fill=\"#000000\" points=\"278.8596,-320.092 275.3595,-310.092 271.8596,-320.092 278.8596,-320.092\" stroke=\"#000000\"/>\n",
       "</g>\n",
       "<!-- 139965800742808 -->\n",
       "<g class=\"node\" id=\"node3\">\n",
       "<title>139965800742808</title>\n",
       "<polygon fill=\"none\" points=\"159.019,-173.7 159.019,-223.3 391.7,-223.3 391.7,-173.7 159.019,-173.7\" stroke=\"#000000\"/>\n",
       "<text fill=\"#000000\" font-family=\"Times,serif\" font-size=\"14.00\" text-anchor=\"middle\" x=\"209.2024\" y=\"-194.3\">re_lu_1: ReLU</text>\n",
       "<polyline fill=\"none\" points=\"259.3858,-173.7 259.3858,-223.3 \" stroke=\"#000000\"/>\n",
       "<text fill=\"#000000\" font-family=\"Times,serif\" font-size=\"14.00\" text-anchor=\"middle\" x=\"287.2217\" y=\"-206.7\">input:</text>\n",
       "<polyline fill=\"none\" points=\"259.3858,-198.5 315.0576,-198.5 \" stroke=\"#000000\"/>\n",
       "<text fill=\"#000000\" font-family=\"Times,serif\" font-size=\"14.00\" text-anchor=\"middle\" x=\"287.2217\" y=\"-181.9\">output:</text>\n",
       "<polyline fill=\"none\" points=\"315.0576,-173.7 315.0576,-223.3 \" stroke=\"#000000\"/>\n",
       "<text fill=\"#000000\" font-family=\"Times,serif\" font-size=\"14.00\" text-anchor=\"middle\" x=\"353.3788\" y=\"-206.7\">(None, 32)</text>\n",
       "<polyline fill=\"none\" points=\"315.0576,-198.5 391.7,-198.5 \" stroke=\"#000000\"/>\n",
       "<text fill=\"#000000\" font-family=\"Times,serif\" font-size=\"14.00\" text-anchor=\"middle\" x=\"353.3788\" y=\"-181.9\">(None, 32)</text>\n",
       "</g>\n",
       "<!-- 139965799686272&#45;&gt;139965800742808 -->\n",
       "<g class=\"edge\" id=\"edge2\">\n",
       "<title>139965799686272-&gt;139965800742808</title>\n",
       "<path d=\"M275.3595,-260.0517C275.3595,-251.7937 275.3595,-242.4517 275.3595,-233.5864\" fill=\"none\" stroke=\"#000000\"/>\n",
       "<polygon fill=\"#000000\" points=\"278.8596,-233.492 275.3595,-223.492 271.8596,-233.492 278.8596,-233.492\" stroke=\"#000000\"/>\n",
       "</g>\n",
       "<!-- 139965800741968 -->\n",
       "<g class=\"node\" id=\"node4\">\n",
       "<title>139965800741968</title>\n",
       "<polygon fill=\"none\" points=\"153.58,-87.1 153.58,-136.7 397.139,-136.7 397.139,-87.1 153.58,-87.1\" stroke=\"#000000\"/>\n",
       "<text fill=\"#000000\" font-family=\"Times,serif\" font-size=\"14.00\" text-anchor=\"middle\" x=\"205.7024\" y=\"-107.7\">dense_3: Dense</text>\n",
       "<polyline fill=\"none\" points=\"257.8248,-87.1 257.8248,-136.7 \" stroke=\"#000000\"/>\n",
       "<text fill=\"#000000\" font-family=\"Times,serif\" font-size=\"14.00\" text-anchor=\"middle\" x=\"285.6607\" y=\"-120.1\">input:</text>\n",
       "<polyline fill=\"none\" points=\"257.8248,-111.9 313.4966,-111.9 \" stroke=\"#000000\"/>\n",
       "<text fill=\"#000000\" font-family=\"Times,serif\" font-size=\"14.00\" text-anchor=\"middle\" x=\"285.6607\" y=\"-95.3\">output:</text>\n",
       "<polyline fill=\"none\" points=\"313.4966,-87.1 313.4966,-136.7 \" stroke=\"#000000\"/>\n",
       "<text fill=\"#000000\" font-family=\"Times,serif\" font-size=\"14.00\" text-anchor=\"middle\" x=\"355.3178\" y=\"-120.1\">(None, 32)</text>\n",
       "<polyline fill=\"none\" points=\"313.4966,-111.9 397.139,-111.9 \" stroke=\"#000000\"/>\n",
       "<text fill=\"#000000\" font-family=\"Times,serif\" font-size=\"14.00\" text-anchor=\"middle\" x=\"355.3178\" y=\"-95.3\">(None, 784)</text>\n",
       "</g>\n",
       "<!-- 139965800742808&#45;&gt;139965800741968 -->\n",
       "<g class=\"edge\" id=\"edge3\">\n",
       "<title>139965800742808-&gt;139965800741968</title>\n",
       "<path d=\"M275.3595,-173.4517C275.3595,-165.1937 275.3595,-155.8517 275.3595,-146.9864\" fill=\"none\" stroke=\"#000000\"/>\n",
       "<polygon fill=\"#000000\" points=\"278.8596,-146.892 275.3595,-136.892 271.8596,-146.892 278.8596,-146.892\" stroke=\"#000000\"/>\n",
       "</g>\n",
       "<!-- 139965790040192 -->\n",
       "<g class=\"node\" id=\"node5\">\n",
       "<title>139965790040192</title>\n",
       "<polygon fill=\"none\" points=\"0,-.5 0,-50.1 550.719,-50.1 550.719,-.5 0,-.5\" stroke=\"#000000\"/>\n",
       "<text fill=\"#000000\" font-family=\"Times,serif\" font-size=\"14.00\" text-anchor=\"middle\" x=\"135.7206\" y=\"-21.1\">independent_bernoulli: IndependentBernoulli</text>\n",
       "<polyline fill=\"none\" points=\"271.4412,-.5 271.4412,-50.1 \" stroke=\"#000000\"/>\n",
       "<text fill=\"#000000\" font-family=\"Times,serif\" font-size=\"14.00\" text-anchor=\"middle\" x=\"299.2771\" y=\"-33.5\">input:</text>\n",
       "<polyline fill=\"none\" points=\"271.4412,-25.3 327.113,-25.3 \" stroke=\"#000000\"/>\n",
       "<text fill=\"#000000\" font-family=\"Times,serif\" font-size=\"14.00\" text-anchor=\"middle\" x=\"299.2771\" y=\"-8.7\">output:</text>\n",
       "<polyline fill=\"none\" points=\"327.113,-.5 327.113,-50.1 \" stroke=\"#000000\"/>\n",
       "<text fill=\"#000000\" font-family=\"Times,serif\" font-size=\"14.00\" text-anchor=\"middle\" x=\"438.4342\" y=\"-33.5\">(None, 784)</text>\n",
       "<polyline fill=\"none\" points=\"327.113,-25.3 550.719,-25.3 \" stroke=\"#000000\"/>\n",
       "<text fill=\"#000000\" font-family=\"Times,serif\" font-size=\"14.00\" text-anchor=\"middle\" x=\"438.916\" y=\"-8.7\">((None, 28, 28, 1), (None, 28, 28, 1))</text>\n",
       "</g>\n",
       "<!-- 139965800741968&#45;&gt;139965790040192 -->\n",
       "<g class=\"edge\" id=\"edge4\">\n",
       "<title>139965800741968-&gt;139965790040192</title>\n",
       "<path d=\"M275.3595,-86.8517C275.3595,-78.5937 275.3595,-69.2517 275.3595,-60.3864\" fill=\"none\" stroke=\"#000000\"/>\n",
       "<polygon fill=\"#000000\" points=\"278.8596,-60.292 275.3595,-50.292 271.8596,-60.292 278.8596,-60.292\" stroke=\"#000000\"/>\n",
       "</g>\n",
       "</g>\n",
       "</svg>"
      ],
      "text/plain": [
       "<IPython.core.display.SVG object>"
      ]
     },
     "metadata": {},
     "output_type": "display_data"
    }
   ],
   "source": [
    "decoder = tf.keras.models.Sequential(\n",
    "    name=\"decoder\",\n",
    "    layers=[\n",
    "        tf.keras.layers.InputLayer(input_shape=[encoded_size]),\n",
    "        tf.keras.layers.Dense(units=hidden_size),\n",
    "        tf.keras.layers.ReLU(),\n",
    "        tf.keras.layers.Dense(units=output_size),\n",
    "        tfp.layers.IndependentBernoulli(input_shape, tfp.distributions.Bernoulli.logits),\n",
    "    ])\n",
    "\n",
    "decoder.summary()\n",
    "\n",
    "display_model(decoder)"
   ]
  },
  {
   "cell_type": "code",
   "execution_count": 17,
   "metadata": {},
   "outputs": [
    {
     "name": "stdout",
     "output_type": "stream",
     "text": [
      "Model: \"VAE\"\n",
      "_________________________________________________________________\n",
      "Layer (type)                 Output Shape              Param #   \n",
      "=================================================================\n",
      "input_1 (InputLayer)         [(None, 28, 28, 1)]       0         \n",
      "_________________________________________________________________\n",
      "lambda (Lambda)              (None, 28, 28, 1)         0         \n",
      "_________________________________________________________________\n",
      "flatten (Flatten)            (None, 784)               0         \n",
      "_________________________________________________________________\n",
      "dense (Dense)                (None, 32)                25120     \n",
      "_________________________________________________________________\n",
      "re_lu (ReLU)                 (None, 32)                0         \n",
      "_________________________________________________________________\n",
      "dense_1 (Dense)              (None, 44)                1452      \n",
      "_________________________________________________________________\n",
      "multivariate_normal_tri_l (M ((None, 8), (None, 8))    0         \n",
      "_________________________________________________________________\n",
      "decoder (Sequential)         (None, 28, 28, 1)         26160     \n",
      "=================================================================\n",
      "Total params: 52,732\n",
      "Trainable params: 52,732\n",
      "Non-trainable params: 0\n",
      "_________________________________________________________________\n",
      "Model: \"decoder\"\n",
      "_________________________________________________________________\n",
      "Layer (type)                 Output Shape              Param #   \n",
      "=================================================================\n",
      "dense_2 (Dense)              (None, 32)                288       \n",
      "_________________________________________________________________\n",
      "re_lu_1 (ReLU)               (None, 32)                0         \n",
      "_________________________________________________________________\n",
      "dense_3 (Dense)              (None, 784)               25872     \n",
      "_________________________________________________________________\n",
      "independent_bernoulli (Indep ((None, 28, 28, 1), (None 0         \n",
      "=================================================================\n",
      "Total params: 26,160\n",
      "Trainable params: 26,160\n",
      "Non-trainable params: 0\n",
      "_________________________________________________________________\n"
     ]
    },
    {
     "data": {
      "image/svg+xml": [
       "<svg height=\"1032pt\" viewBox=\"0.00 0.00 590.00 1032.00\" width=\"590pt\" xmlns=\"http://www.w3.org/2000/svg\" xmlns:xlink=\"http://www.w3.org/1999/xlink\">\n",
       "<g class=\"graph\" id=\"graph0\" transform=\"scale(1 1) rotate(0) translate(4 1028)\">\n",
       "<title>G</title>\n",
       "<polygon fill=\"#ffffff\" points=\"-4,4 -4,-1028 586,-1028 586,4 -4,4\" stroke=\"transparent\"/>\n",
       "<g class=\"cluster\" id=\"clust1\">\n",
       "<title>cluster_decoder</title>\n",
       "<polygon fill=\"none\" points=\"8,-8 8,-445.8 574,-445.8 574,-8 8,-8\" stroke=\"#000000\" stroke-dasharray=\"5,2\"/>\n",
       "<text fill=\"#000000\" font-family=\"Times,serif\" font-size=\"14.00\" text-anchor=\"middle\" x=\"38.1522\" y=\"-429.2\">decoder</text>\n",
       "</g>\n",
       "<!-- 139965800741744 -->\n",
       "<g class=\"node\" id=\"node1\">\n",
       "<title>139965800741744</title>\n",
       "<polygon fill=\"none\" points=\"138.4996,-973.9 138.4996,-1023.5 443.5004,-1023.5 443.5004,-973.9 138.4996,-973.9\" stroke=\"#000000\"/>\n",
       "<text fill=\"#000000\" font-family=\"Times,serif\" font-size=\"14.00\" text-anchor=\"middle\" x=\"202.6823\" y=\"-994.5\">input_1: InputLayer</text>\n",
       "<polyline fill=\"none\" points=\"266.865,-973.9 266.865,-1023.5 \" stroke=\"#000000\"/>\n",
       "<text fill=\"#000000\" font-family=\"Times,serif\" font-size=\"14.00\" text-anchor=\"middle\" x=\"294.7009\" y=\"-1006.9\">input:</text>\n",
       "<polyline fill=\"none\" points=\"266.865,-998.7 322.5368,-998.7 \" stroke=\"#000000\"/>\n",
       "<text fill=\"#000000\" font-family=\"Times,serif\" font-size=\"14.00\" text-anchor=\"middle\" x=\"294.7009\" y=\"-982.1\">output:</text>\n",
       "<polyline fill=\"none\" points=\"322.5368,-973.9 322.5368,-1023.5 \" stroke=\"#000000\"/>\n",
       "<text fill=\"#000000\" font-family=\"Times,serif\" font-size=\"14.00\" text-anchor=\"middle\" x=\"383.0186\" y=\"-1006.9\">[(None, 28, 28, 1)]</text>\n",
       "<polyline fill=\"none\" points=\"322.5368,-998.7 443.5004,-998.7 \" stroke=\"#000000\"/>\n",
       "<text fill=\"#000000\" font-family=\"Times,serif\" font-size=\"14.00\" text-anchor=\"middle\" x=\"383.0186\" y=\"-982.1\">[(None, 28, 28, 1)]</text>\n",
       "</g>\n",
       "<!-- 139965800610224 -->\n",
       "<g class=\"node\" id=\"node2\">\n",
       "<title>139965800610224</title>\n",
       "<polygon fill=\"none\" points=\"152.1062,-887.3 152.1062,-936.9 429.8938,-936.9 429.8938,-887.3 152.1062,-887.3\" stroke=\"#000000\"/>\n",
       "<text fill=\"#000000\" font-family=\"Times,serif\" font-size=\"14.00\" text-anchor=\"middle\" x=\"207.3429\" y=\"-907.9\">lambda: Lambda</text>\n",
       "<polyline fill=\"none\" points=\"262.5796,-887.3 262.5796,-936.9 \" stroke=\"#000000\"/>\n",
       "<text fill=\"#000000\" font-family=\"Times,serif\" font-size=\"14.00\" text-anchor=\"middle\" x=\"290.4155\" y=\"-920.3\">input:</text>\n",
       "<polyline fill=\"none\" points=\"262.5796,-912.1 318.2514,-912.1 \" stroke=\"#000000\"/>\n",
       "<text fill=\"#000000\" font-family=\"Times,serif\" font-size=\"14.00\" text-anchor=\"middle\" x=\"290.4155\" y=\"-895.5\">output:</text>\n",
       "<polyline fill=\"none\" points=\"318.2514,-887.3 318.2514,-936.9 \" stroke=\"#000000\"/>\n",
       "<text fill=\"#000000\" font-family=\"Times,serif\" font-size=\"14.00\" text-anchor=\"middle\" x=\"374.0726\" y=\"-920.3\">(None, 28, 28, 1)</text>\n",
       "<polyline fill=\"none\" points=\"318.2514,-912.1 429.8938,-912.1 \" stroke=\"#000000\"/>\n",
       "<text fill=\"#000000\" font-family=\"Times,serif\" font-size=\"14.00\" text-anchor=\"middle\" x=\"374.0726\" y=\"-895.5\">(None, 28, 28, 1)</text>\n",
       "</g>\n",
       "<!-- 139965800741744&#45;&gt;139965800610224 -->\n",
       "<g class=\"edge\" id=\"edge5\">\n",
       "<title>139965800741744-&gt;139965800610224</title>\n",
       "<path d=\"M291,-973.6517C291,-965.3937 291,-956.0517 291,-947.1864\" fill=\"none\" stroke=\"#000000\"/>\n",
       "<polygon fill=\"#000000\" points=\"294.5001,-947.092 291,-937.092 287.5001,-947.092 294.5001,-947.092\" stroke=\"#000000\"/>\n",
       "</g>\n",
       "<!-- 139965800611344 -->\n",
       "<g class=\"node\" id=\"node3\">\n",
       "<title>139965800611344</title>\n",
       "<polygon fill=\"none\" points=\"158.325,-800.7 158.325,-850.3 423.675,-850.3 423.675,-800.7 158.325,-800.7\" stroke=\"#000000\"/>\n",
       "<text fill=\"#000000\" font-family=\"Times,serif\" font-size=\"14.00\" text-anchor=\"middle\" x=\"207.3429\" y=\"-821.3\">flatten: Flatten</text>\n",
       "<polyline fill=\"none\" points=\"256.3608,-800.7 256.3608,-850.3 \" stroke=\"#000000\"/>\n",
       "<text fill=\"#000000\" font-family=\"Times,serif\" font-size=\"14.00\" text-anchor=\"middle\" x=\"284.1967\" y=\"-833.7\">input:</text>\n",
       "<polyline fill=\"none\" points=\"256.3608,-825.5 312.0326,-825.5 \" stroke=\"#000000\"/>\n",
       "<text fill=\"#000000\" font-family=\"Times,serif\" font-size=\"14.00\" text-anchor=\"middle\" x=\"284.1967\" y=\"-808.9\">output:</text>\n",
       "<polyline fill=\"none\" points=\"312.0326,-800.7 312.0326,-850.3 \" stroke=\"#000000\"/>\n",
       "<text fill=\"#000000\" font-family=\"Times,serif\" font-size=\"14.00\" text-anchor=\"middle\" x=\"367.8538\" y=\"-833.7\">(None, 28, 28, 1)</text>\n",
       "<polyline fill=\"none\" points=\"312.0326,-825.5 423.675,-825.5 \" stroke=\"#000000\"/>\n",
       "<text fill=\"#000000\" font-family=\"Times,serif\" font-size=\"14.00\" text-anchor=\"middle\" x=\"367.8538\" y=\"-808.9\">(None, 784)</text>\n",
       "</g>\n",
       "<!-- 139965800610224&#45;&gt;139965800611344 -->\n",
       "<g class=\"edge\" id=\"edge6\">\n",
       "<title>139965800610224-&gt;139965800611344</title>\n",
       "<path d=\"M291,-887.0517C291,-878.7937 291,-869.4517 291,-860.5864\" fill=\"none\" stroke=\"#000000\"/>\n",
       "<polygon fill=\"#000000\" points=\"294.5001,-860.492 291,-850.492 287.5001,-860.492 294.5001,-860.492\" stroke=\"#000000\"/>\n",
       "</g>\n",
       "<!-- 139965800206520 -->\n",
       "<g class=\"node\" id=\"node4\">\n",
       "<title>139965800206520</title>\n",
       "<polygon fill=\"none\" points=\"176.2205,-714.1 176.2205,-763.7 405.7795,-763.7 405.7795,-714.1 176.2205,-714.1\" stroke=\"#000000\"/>\n",
       "<text fill=\"#000000\" font-family=\"Times,serif\" font-size=\"14.00\" text-anchor=\"middle\" x=\"221.3429\" y=\"-734.7\">dense: Dense</text>\n",
       "<polyline fill=\"none\" points=\"266.4653,-714.1 266.4653,-763.7 \" stroke=\"#000000\"/>\n",
       "<text fill=\"#000000\" font-family=\"Times,serif\" font-size=\"14.00\" text-anchor=\"middle\" x=\"294.3012\" y=\"-747.1\">input:</text>\n",
       "<polyline fill=\"none\" points=\"266.4653,-738.9 322.1371,-738.9 \" stroke=\"#000000\"/>\n",
       "<text fill=\"#000000\" font-family=\"Times,serif\" font-size=\"14.00\" text-anchor=\"middle\" x=\"294.3012\" y=\"-722.3\">output:</text>\n",
       "<polyline fill=\"none\" points=\"322.1371,-714.1 322.1371,-763.7 \" stroke=\"#000000\"/>\n",
       "<text fill=\"#000000\" font-family=\"Times,serif\" font-size=\"14.00\" text-anchor=\"middle\" x=\"363.9583\" y=\"-747.1\">(None, 784)</text>\n",
       "<polyline fill=\"none\" points=\"322.1371,-738.9 405.7795,-738.9 \" stroke=\"#000000\"/>\n",
       "<text fill=\"#000000\" font-family=\"Times,serif\" font-size=\"14.00\" text-anchor=\"middle\" x=\"363.9583\" y=\"-722.3\">(None, 32)</text>\n",
       "</g>\n",
       "<!-- 139965800611344&#45;&gt;139965800206520 -->\n",
       "<g class=\"edge\" id=\"edge7\">\n",
       "<title>139965800611344-&gt;139965800206520</title>\n",
       "<path d=\"M291,-800.4517C291,-792.1937 291,-782.8517 291,-773.9864\" fill=\"none\" stroke=\"#000000\"/>\n",
       "<polygon fill=\"#000000\" points=\"294.5001,-773.892 291,-763.892 287.5001,-773.892 294.5001,-773.892\" stroke=\"#000000\"/>\n",
       "</g>\n",
       "<!-- 139965800207248 -->\n",
       "<g class=\"node\" id=\"node5\">\n",
       "<title>139965800207248</title>\n",
       "<polygon fill=\"none\" points=\"181.6595,-627.5 181.6595,-677.1 400.3405,-677.1 400.3405,-627.5 181.6595,-627.5\" stroke=\"#000000\"/>\n",
       "<text fill=\"#000000\" font-family=\"Times,serif\" font-size=\"14.00\" text-anchor=\"middle\" x=\"224.8429\" y=\"-648.1\">re_lu: ReLU</text>\n",
       "<polyline fill=\"none\" points=\"268.0263,-627.5 268.0263,-677.1 \" stroke=\"#000000\"/>\n",
       "<text fill=\"#000000\" font-family=\"Times,serif\" font-size=\"14.00\" text-anchor=\"middle\" x=\"295.8622\" y=\"-660.5\">input:</text>\n",
       "<polyline fill=\"none\" points=\"268.0263,-652.3 323.6981,-652.3 \" stroke=\"#000000\"/>\n",
       "<text fill=\"#000000\" font-family=\"Times,serif\" font-size=\"14.00\" text-anchor=\"middle\" x=\"295.8622\" y=\"-635.7\">output:</text>\n",
       "<polyline fill=\"none\" points=\"323.6981,-627.5 323.6981,-677.1 \" stroke=\"#000000\"/>\n",
       "<text fill=\"#000000\" font-family=\"Times,serif\" font-size=\"14.00\" text-anchor=\"middle\" x=\"362.0193\" y=\"-660.5\">(None, 32)</text>\n",
       "<polyline fill=\"none\" points=\"323.6981,-652.3 400.3405,-652.3 \" stroke=\"#000000\"/>\n",
       "<text fill=\"#000000\" font-family=\"Times,serif\" font-size=\"14.00\" text-anchor=\"middle\" x=\"362.0193\" y=\"-635.7\">(None, 32)</text>\n",
       "</g>\n",
       "<!-- 139965800206520&#45;&gt;139965800207248 -->\n",
       "<g class=\"edge\" id=\"edge8\">\n",
       "<title>139965800206520-&gt;139965800207248</title>\n",
       "<path d=\"M291,-713.8517C291,-705.5937 291,-696.2517 291,-687.3864\" fill=\"none\" stroke=\"#000000\"/>\n",
       "<polygon fill=\"#000000\" points=\"294.5001,-687.292 291,-677.292 287.5001,-687.292 294.5001,-687.292\" stroke=\"#000000\"/>\n",
       "</g>\n",
       "<!-- 139965800207584 -->\n",
       "<g class=\"node\" id=\"node6\">\n",
       "<title>139965800207584</title>\n",
       "<polygon fill=\"none\" points=\"172.7205,-540.9 172.7205,-590.5 409.2795,-590.5 409.2795,-540.9 172.7205,-540.9\" stroke=\"#000000\"/>\n",
       "<text fill=\"#000000\" font-family=\"Times,serif\" font-size=\"14.00\" text-anchor=\"middle\" x=\"224.8429\" y=\"-561.5\">dense_1: Dense</text>\n",
       "<polyline fill=\"none\" points=\"276.9653,-540.9 276.9653,-590.5 \" stroke=\"#000000\"/>\n",
       "<text fill=\"#000000\" font-family=\"Times,serif\" font-size=\"14.00\" text-anchor=\"middle\" x=\"304.8012\" y=\"-573.9\">input:</text>\n",
       "<polyline fill=\"none\" points=\"276.9653,-565.7 332.6371,-565.7 \" stroke=\"#000000\"/>\n",
       "<text fill=\"#000000\" font-family=\"Times,serif\" font-size=\"14.00\" text-anchor=\"middle\" x=\"304.8012\" y=\"-549.1\">output:</text>\n",
       "<polyline fill=\"none\" points=\"332.6371,-540.9 332.6371,-590.5 \" stroke=\"#000000\"/>\n",
       "<text fill=\"#000000\" font-family=\"Times,serif\" font-size=\"14.00\" text-anchor=\"middle\" x=\"370.9583\" y=\"-573.9\">(None, 32)</text>\n",
       "<polyline fill=\"none\" points=\"332.6371,-565.7 409.2795,-565.7 \" stroke=\"#000000\"/>\n",
       "<text fill=\"#000000\" font-family=\"Times,serif\" font-size=\"14.00\" text-anchor=\"middle\" x=\"370.9583\" y=\"-549.1\">(None, 44)</text>\n",
       "</g>\n",
       "<!-- 139965800207248&#45;&gt;139965800207584 -->\n",
       "<g class=\"edge\" id=\"edge9\">\n",
       "<title>139965800207248-&gt;139965800207584</title>\n",
       "<path d=\"M291,-627.2517C291,-618.9937 291,-609.6517 291,-600.7864\" fill=\"none\" stroke=\"#000000\"/>\n",
       "<polygon fill=\"#000000\" points=\"294.5001,-600.692 291,-590.692 287.5001,-600.692 294.5001,-600.692\" stroke=\"#000000\"/>\n",
       "</g>\n",
       "<!-- 139965800742024 -->\n",
       "<g class=\"node\" id=\"node7\">\n",
       "<title>139965800742024</title>\n",
       "<polygon fill=\"none\" points=\"40.5367,-454.3 40.5367,-503.9 541.4633,-503.9 541.4633,-454.3 40.5367,-454.3\" stroke=\"#000000\"/>\n",
       "<text fill=\"#000000\" font-family=\"Times,serif\" font-size=\"14.00\" text-anchor=\"middle\" x=\"193.3611\" y=\"-474.9\">multivariate_normal_tri_l: MultivariateNormalTriL</text>\n",
       "<polyline fill=\"none\" points=\"346.1855,-454.3 346.1855,-503.9 \" stroke=\"#000000\"/>\n",
       "<text fill=\"#000000\" font-family=\"Times,serif\" font-size=\"14.00\" text-anchor=\"middle\" x=\"374.0214\" y=\"-487.3\">input:</text>\n",
       "<polyline fill=\"none\" points=\"346.1855,-479.1 401.8573,-479.1 \" stroke=\"#000000\"/>\n",
       "<text fill=\"#000000\" font-family=\"Times,serif\" font-size=\"14.00\" text-anchor=\"middle\" x=\"374.0214\" y=\"-462.5\">output:</text>\n",
       "<polyline fill=\"none\" points=\"401.8573,-454.3 401.8573,-503.9 \" stroke=\"#000000\"/>\n",
       "<text fill=\"#000000\" font-family=\"Times,serif\" font-size=\"14.00\" text-anchor=\"middle\" x=\"471.1785\" y=\"-487.3\">(None, 44)</text>\n",
       "<polyline fill=\"none\" points=\"401.8573,-479.1 541.4633,-479.1 \" stroke=\"#000000\"/>\n",
       "<text fill=\"#000000\" font-family=\"Times,serif\" font-size=\"14.00\" text-anchor=\"middle\" x=\"471.6603\" y=\"-462.5\">((None, 8), (None, 8))</text>\n",
       "</g>\n",
       "<!-- 139965800207584&#45;&gt;139965800742024 -->\n",
       "<g class=\"edge\" id=\"edge10\">\n",
       "<title>139965800207584-&gt;139965800742024</title>\n",
       "<path d=\"M291,-540.6517C291,-532.3937 291,-523.0517 291,-514.1864\" fill=\"none\" stroke=\"#000000\"/>\n",
       "<polygon fill=\"#000000\" points=\"294.5001,-514.092 291,-504.092 287.5001,-514.092 294.5001,-514.092\" stroke=\"#000000\"/>\n",
       "</g>\n",
       "<!-- 139965800325304 -->\n",
       "<g class=\"node\" id=\"node8\">\n",
       "<title>139965800325304</title>\n",
       "<polygon fill=\"none\" points=\"159.4996,-362.9 159.4996,-412.5 422.5004,-412.5 422.5004,-362.9 159.4996,-362.9\" stroke=\"#000000\"/>\n",
       "<text fill=\"#000000\" font-family=\"Times,serif\" font-size=\"14.00\" text-anchor=\"middle\" x=\"223.6823\" y=\"-383.5\">input_2: InputLayer</text>\n",
       "<polyline fill=\"none\" points=\"287.865,-362.9 287.865,-412.5 \" stroke=\"#000000\"/>\n",
       "<text fill=\"#000000\" font-family=\"Times,serif\" font-size=\"14.00\" text-anchor=\"middle\" x=\"315.7009\" y=\"-395.9\">input:</text>\n",
       "<polyline fill=\"none\" points=\"287.865,-387.7 343.5368,-387.7 \" stroke=\"#000000\"/>\n",
       "<text fill=\"#000000\" font-family=\"Times,serif\" font-size=\"14.00\" text-anchor=\"middle\" x=\"315.7009\" y=\"-371.1\">output:</text>\n",
       "<polyline fill=\"none\" points=\"343.5368,-362.9 343.5368,-412.5 \" stroke=\"#000000\"/>\n",
       "<text fill=\"#000000\" font-family=\"Times,serif\" font-size=\"14.00\" text-anchor=\"middle\" x=\"383.0186\" y=\"-395.9\">[(None, 8)]</text>\n",
       "<polyline fill=\"none\" points=\"343.5368,-387.7 422.5004,-387.7 \" stroke=\"#000000\"/>\n",
       "<text fill=\"#000000\" font-family=\"Times,serif\" font-size=\"14.00\" text-anchor=\"middle\" x=\"383.0186\" y=\"-371.1\">[(None, 8)]</text>\n",
       "</g>\n",
       "<!-- 139965800742024&#45;&gt;139965800325304 -->\n",
       "<g class=\"edge\" id=\"edge11\">\n",
       "<title>139965800742024-&gt;139965800325304</title>\n",
       "<path d=\"M291,-454.1245C291,-444.4521 291,-433.2081 291,-422.7517\" fill=\"none\" stroke=\"#000000\"/>\n",
       "<polygon fill=\"#000000\" points=\"294.5001,-422.6452 291,-412.6453 287.5001,-422.6453 294.5001,-422.6452\" stroke=\"#000000\"/>\n",
       "</g>\n",
       "<!-- 139965799686272 -->\n",
       "<g class=\"node\" id=\"node9\">\n",
       "<title>139965799686272</title>\n",
       "<polygon fill=\"none\" points=\"172.7205,-276.3 172.7205,-325.9 409.2795,-325.9 409.2795,-276.3 172.7205,-276.3\" stroke=\"#000000\"/>\n",
       "<text fill=\"#000000\" font-family=\"Times,serif\" font-size=\"14.00\" text-anchor=\"middle\" x=\"224.8429\" y=\"-296.9\">dense_2: Dense</text>\n",
       "<polyline fill=\"none\" points=\"276.9653,-276.3 276.9653,-325.9 \" stroke=\"#000000\"/>\n",
       "<text fill=\"#000000\" font-family=\"Times,serif\" font-size=\"14.00\" text-anchor=\"middle\" x=\"304.8012\" y=\"-309.3\">input:</text>\n",
       "<polyline fill=\"none\" points=\"276.9653,-301.1 332.6371,-301.1 \" stroke=\"#000000\"/>\n",
       "<text fill=\"#000000\" font-family=\"Times,serif\" font-size=\"14.00\" text-anchor=\"middle\" x=\"304.8012\" y=\"-284.5\">output:</text>\n",
       "<polyline fill=\"none\" points=\"332.6371,-276.3 332.6371,-325.9 \" stroke=\"#000000\"/>\n",
       "<text fill=\"#000000\" font-family=\"Times,serif\" font-size=\"14.00\" text-anchor=\"middle\" x=\"370.4583\" y=\"-309.3\">(None, 8)</text>\n",
       "<polyline fill=\"none\" points=\"332.6371,-301.1 409.2795,-301.1 \" stroke=\"#000000\"/>\n",
       "<text fill=\"#000000\" font-family=\"Times,serif\" font-size=\"14.00\" text-anchor=\"middle\" x=\"370.9583\" y=\"-284.5\">(None, 32)</text>\n",
       "</g>\n",
       "<!-- 139965800325304&#45;&gt;139965799686272 -->\n",
       "<g class=\"edge\" id=\"edge1\">\n",
       "<title>139965800325304-&gt;139965799686272</title>\n",
       "<path d=\"M291,-362.6517C291,-354.3937 291,-345.0517 291,-336.1864\" fill=\"none\" stroke=\"#000000\"/>\n",
       "<polygon fill=\"#000000\" points=\"294.5001,-336.092 291,-326.092 287.5001,-336.092 294.5001,-336.092\" stroke=\"#000000\"/>\n",
       "</g>\n",
       "<!-- 139965800742808 -->\n",
       "<g class=\"node\" id=\"node10\">\n",
       "<title>139965800742808</title>\n",
       "<polygon fill=\"none\" points=\"174.6595,-189.7 174.6595,-239.3 407.3405,-239.3 407.3405,-189.7 174.6595,-189.7\" stroke=\"#000000\"/>\n",
       "<text fill=\"#000000\" font-family=\"Times,serif\" font-size=\"14.00\" text-anchor=\"middle\" x=\"224.8429\" y=\"-210.3\">re_lu_1: ReLU</text>\n",
       "<polyline fill=\"none\" points=\"275.0263,-189.7 275.0263,-239.3 \" stroke=\"#000000\"/>\n",
       "<text fill=\"#000000\" font-family=\"Times,serif\" font-size=\"14.00\" text-anchor=\"middle\" x=\"302.8622\" y=\"-222.7\">input:</text>\n",
       "<polyline fill=\"none\" points=\"275.0263,-214.5 330.6981,-214.5 \" stroke=\"#000000\"/>\n",
       "<text fill=\"#000000\" font-family=\"Times,serif\" font-size=\"14.00\" text-anchor=\"middle\" x=\"302.8622\" y=\"-197.9\">output:</text>\n",
       "<polyline fill=\"none\" points=\"330.6981,-189.7 330.6981,-239.3 \" stroke=\"#000000\"/>\n",
       "<text fill=\"#000000\" font-family=\"Times,serif\" font-size=\"14.00\" text-anchor=\"middle\" x=\"369.0193\" y=\"-222.7\">(None, 32)</text>\n",
       "<polyline fill=\"none\" points=\"330.6981,-214.5 407.3405,-214.5 \" stroke=\"#000000\"/>\n",
       "<text fill=\"#000000\" font-family=\"Times,serif\" font-size=\"14.00\" text-anchor=\"middle\" x=\"369.0193\" y=\"-197.9\">(None, 32)</text>\n",
       "</g>\n",
       "<!-- 139965799686272&#45;&gt;139965800742808 -->\n",
       "<g class=\"edge\" id=\"edge2\">\n",
       "<title>139965799686272-&gt;139965800742808</title>\n",
       "<path d=\"M291,-276.0517C291,-267.7937 291,-258.4517 291,-249.5864\" fill=\"none\" stroke=\"#000000\"/>\n",
       "<polygon fill=\"#000000\" points=\"294.5001,-249.492 291,-239.492 287.5001,-249.492 294.5001,-249.492\" stroke=\"#000000\"/>\n",
       "</g>\n",
       "<!-- 139965800741968 -->\n",
       "<g class=\"node\" id=\"node11\">\n",
       "<title>139965800741968</title>\n",
       "<polygon fill=\"none\" points=\"169.2205,-103.1 169.2205,-152.7 412.7795,-152.7 412.7795,-103.1 169.2205,-103.1\" stroke=\"#000000\"/>\n",
       "<text fill=\"#000000\" font-family=\"Times,serif\" font-size=\"14.00\" text-anchor=\"middle\" x=\"221.3429\" y=\"-123.7\">dense_3: Dense</text>\n",
       "<polyline fill=\"none\" points=\"273.4653,-103.1 273.4653,-152.7 \" stroke=\"#000000\"/>\n",
       "<text fill=\"#000000\" font-family=\"Times,serif\" font-size=\"14.00\" text-anchor=\"middle\" x=\"301.3012\" y=\"-136.1\">input:</text>\n",
       "<polyline fill=\"none\" points=\"273.4653,-127.9 329.1371,-127.9 \" stroke=\"#000000\"/>\n",
       "<text fill=\"#000000\" font-family=\"Times,serif\" font-size=\"14.00\" text-anchor=\"middle\" x=\"301.3012\" y=\"-111.3\">output:</text>\n",
       "<polyline fill=\"none\" points=\"329.1371,-103.1 329.1371,-152.7 \" stroke=\"#000000\"/>\n",
       "<text fill=\"#000000\" font-family=\"Times,serif\" font-size=\"14.00\" text-anchor=\"middle\" x=\"370.9583\" y=\"-136.1\">(None, 32)</text>\n",
       "<polyline fill=\"none\" points=\"329.1371,-127.9 412.7795,-127.9 \" stroke=\"#000000\"/>\n",
       "<text fill=\"#000000\" font-family=\"Times,serif\" font-size=\"14.00\" text-anchor=\"middle\" x=\"370.9583\" y=\"-111.3\">(None, 784)</text>\n",
       "</g>\n",
       "<!-- 139965800742808&#45;&gt;139965800741968 -->\n",
       "<g class=\"edge\" id=\"edge3\">\n",
       "<title>139965800742808-&gt;139965800741968</title>\n",
       "<path d=\"M291,-189.4517C291,-181.1937 291,-171.8517 291,-162.9864\" fill=\"none\" stroke=\"#000000\"/>\n",
       "<polygon fill=\"#000000\" points=\"294.5001,-162.892 291,-152.892 287.5001,-162.892 294.5001,-162.892\" stroke=\"#000000\"/>\n",
       "</g>\n",
       "<!-- 139965790040192 -->\n",
       "<g class=\"node\" id=\"node12\">\n",
       "<title>139965790040192</title>\n",
       "<polygon fill=\"none\" points=\"15.6405,-16.5 15.6405,-66.1 566.3595,-66.1 566.3595,-16.5 15.6405,-16.5\" stroke=\"#000000\"/>\n",
       "<text fill=\"#000000\" font-family=\"Times,serif\" font-size=\"14.00\" text-anchor=\"middle\" x=\"151.3611\" y=\"-37.1\">independent_bernoulli: IndependentBernoulli</text>\n",
       "<polyline fill=\"none\" points=\"287.0817,-16.5 287.0817,-66.1 \" stroke=\"#000000\"/>\n",
       "<text fill=\"#000000\" font-family=\"Times,serif\" font-size=\"14.00\" text-anchor=\"middle\" x=\"314.9176\" y=\"-49.5\">input:</text>\n",
       "<polyline fill=\"none\" points=\"287.0817,-41.3 342.7535,-41.3 \" stroke=\"#000000\"/>\n",
       "<text fill=\"#000000\" font-family=\"Times,serif\" font-size=\"14.00\" text-anchor=\"middle\" x=\"314.9176\" y=\"-24.7\">output:</text>\n",
       "<polyline fill=\"none\" points=\"342.7535,-16.5 342.7535,-66.1 \" stroke=\"#000000\"/>\n",
       "<text fill=\"#000000\" font-family=\"Times,serif\" font-size=\"14.00\" text-anchor=\"middle\" x=\"454.0747\" y=\"-49.5\">(None, 784)</text>\n",
       "<polyline fill=\"none\" points=\"342.7535,-41.3 566.3595,-41.3 \" stroke=\"#000000\"/>\n",
       "<text fill=\"#000000\" font-family=\"Times,serif\" font-size=\"14.00\" text-anchor=\"middle\" x=\"454.5565\" y=\"-24.7\">((None, 28, 28, 1), (None, 28, 28, 1))</text>\n",
       "</g>\n",
       "<!-- 139965800741968&#45;&gt;139965790040192 -->\n",
       "<g class=\"edge\" id=\"edge4\">\n",
       "<title>139965800741968-&gt;139965790040192</title>\n",
       "<path d=\"M291,-102.8517C291,-94.5937 291,-85.2517 291,-76.3864\" fill=\"none\" stroke=\"#000000\"/>\n",
       "<polygon fill=\"#000000\" points=\"294.5001,-76.292 291,-66.292 287.5001,-76.292 294.5001,-76.292\" stroke=\"#000000\"/>\n",
       "</g>\n",
       "</g>\n",
       "</svg>"
      ],
      "text/plain": [
       "<IPython.core.display.SVG object>"
      ]
     },
     "metadata": {},
     "output_type": "display_data"
    }
   ],
   "source": [
    "vae = tf.keras.models.Model(\n",
    "    name=\"VAE\",\n",
    "    inputs=encoder.inputs,\n",
    "    outputs=decoder(encoder.outputs[0]))\n",
    "\n",
    "vae.summary()\n",
    "decoder.summary()\n",
    "\n",
    "display_model(vae, expand_nested=True)"
   ]
  },
  {
   "cell_type": "code",
   "execution_count": 18,
   "metadata": {},
   "outputs": [
    {
     "name": "stdout",
     "output_type": "stream",
     "text": [
      "Epoch 1/10\n",
      "938/938 - 20s - loss: 221.3242 - binary_accuracy: 0.8409 - val_loss: 0.0000e+00 - val_binary_accuracy: 0.0000e+00\n",
      "Epoch 2/10\n",
      "938/938 - 18s - loss: 187.2685 - binary_accuracy: 0.8768 - val_loss: 177.0571 - val_binary_accuracy: 0.8879\n",
      "Epoch 3/10\n",
      "938/938 - 19s - loss: 171.2331 - binary_accuracy: 0.8924 - val_loss: 166.6253 - val_binary_accuracy: 0.8963\n",
      "Epoch 4/10\n",
      "938/938 - 18s - loss: 165.2223 - binary_accuracy: 0.8969 - val_loss: 163.7982 - val_binary_accuracy: 0.9003\n",
      "Epoch 5/10\n",
      "938/938 - 18s - loss: 162.1487 - binary_accuracy: 0.8998 - val_loss: 160.5073 - val_binary_accuracy: 0.9035\n",
      "Epoch 6/10\n",
      "938/938 - 18s - loss: 159.8643 - binary_accuracy: 0.9022 - val_loss: 158.4149 - val_binary_accuracy: 0.9043\n",
      "Epoch 7/10\n",
      "938/938 - 18s - loss: 158.5928 - binary_accuracy: 0.9034 - val_loss: 158.3552 - val_binary_accuracy: 0.9042\n",
      "Epoch 8/10\n",
      "938/938 - 18s - loss: 157.8159 - binary_accuracy: 0.9041 - val_loss: 156.8234 - val_binary_accuracy: 0.9056\n",
      "Epoch 9/10\n",
      "938/938 - 18s - loss: 157.2354 - binary_accuracy: 0.9047 - val_loss: 156.5527 - val_binary_accuracy: 0.9066\n",
      "Epoch 10/10\n",
      "938/938 - 18s - loss: 156.9352 - binary_accuracy: 0.9050 - val_loss: 156.4135 - val_binary_accuracy: 0.9065\n"
     ]
    },
    {
     "data": {
      "text/plain": [
       "<tensorflow.python.keras.callbacks.History at 0x7f4c53308390>"
      ]
     },
     "execution_count": 18,
     "metadata": {},
     "output_type": "execute_result"
    }
   ],
   "source": [
    "negative_log_likelihood = lambda x, y: -y.log_prob(x) # y is a Random Variable\n",
    "\n",
    "vae.compile(\n",
    "    optimizer=tf.optimizers.Adam(),\n",
    "    loss=negative_log_likelihood,\n",
    "    metrics=[tf.metrics.BinaryAccuracy()])\n",
    "\n",
    "vae.fit(\n",
    "    train_dataset,\n",
    "    validation_data=eval_dataset,\n",
    "    epochs=10,\n",
    "    verbose=2)"
   ]
  },
  {
   "cell_type": "code",
   "execution_count": 19,
   "metadata": {},
   "outputs": [
    {
     "name": "stdout",
     "output_type": "stream",
     "text": [
      "Originals:\n"
     ]
    },
    {
     "data": {
      "image/png": "[encoded data removed]",
      "text/plain": [
       "<Figure size 720x72 with 10 Axes>"
      ]
     },
     "metadata": {
      "needs_background": "light"
     },
     "output_type": "display_data"
    },
    {
     "name": "stdout",
     "output_type": "stream",
     "text": [
      "Decoded Random Samples:\n"
     ]
    },
    {
     "data": {
      "image/png": "[encoded data removed]",
      "text/plain": [
       "<Figure size 720x72 with 10 Axes>"
      ]
     },
     "metadata": {
      "needs_background": "light"
     },
     "output_type": "display_data"
    },
    {
     "name": "stdout",
     "output_type": "stream",
     "text": [
      "Decoded Modes:\n"
     ]
    },
    {
     "data": {
      "image/png": "[encoded data removed]",
      "text/plain": [
       "<Figure size 720x72 with 10 Axes>"
      ]
     },
     "metadata": {
      "needs_background": "light"
     },
     "output_type": "display_data"
    },
    {
     "name": "stdout",
     "output_type": "stream",
     "text": [
      "Decoded Means:\n"
     ]
    },
    {
     "data": {
      "image/png": "[encoded data removed]",
      "text/plain": [
       "<Figure size 720x72 with 10 Axes>"
      ]
     },
     "metadata": {
      "needs_background": "light"
     },
     "output_type": "display_data"
    }
   ],
   "source": [
    "# We'll just examine ten random digits.\n",
    "x = next(iter(eval_dataset))[0][:10]\n",
    "xhat = vae(x)\n",
    "assert isinstance(xhat, tfp.distributions.Distribution)\n",
    "\n",
    "print(\"Originals:\")\n",
    "display_images(x)\n",
    "\n",
    "print(\"Decoded Random Samples:\")\n",
    "display_images(xhat.sample())\n",
    "\n",
    "print(\"Decoded Modes:\")\n",
    "display_images(xhat.mode())\n",
    "\n",
    "print(\"Decoded Means:\")\n",
    "display_images(xhat.mean())"
   ]
  },
  {
   "cell_type": "code",
   "execution_count": 20,
   "metadata": {},
   "outputs": [
    {
     "name": "stdout",
     "output_type": "stream",
     "text": [
      "Randomly Generated Samples:\n"
     ]
    },
    {
     "data": {
      "image/png": "[encoded data removed]",
      "text/plain": [
       "<Figure size 720x72 with 10 Axes>"
      ]
     },
     "metadata": {
      "needs_background": "light"
     },
     "output_type": "display_data"
    },
    {
     "name": "stdout",
     "output_type": "stream",
     "text": [
      "Randomly Generated Modes:\n"
     ]
    },
    {
     "data": {
      "image/png": "[encoded data removed]",
      "text/plain": [
       "<Figure size 720x72 with 10 Axes>"
      ]
     },
     "metadata": {
      "needs_background": "light"
     },
     "output_type": "display_data"
    },
    {
     "name": "stdout",
     "output_type": "stream",
     "text": [
      "Randomly Generated Means:\n"
     ]
    },
    {
     "data": {
      "image/png": "[encoded data removed]",
      "text/plain": [
       "<Figure size 720x72 with 10 Axes>"
      ]
     },
     "metadata": {
      "needs_background": "light"
     },
     "output_type": "display_data"
    }
   ],
   "source": [
    "# Now, let's generate ten never-before-seen digits.\n",
    "z = prior.sample(10)\n",
    "xtilde = decoder(z)\n",
    "assert isinstance(xtilde, tfp.distributions.Distribution)\n",
    "\n",
    "print(\"Randomly Generated Samples:\")\n",
    "display_images(xtilde.sample())\n",
    "\n",
    "print(\"Randomly Generated Modes:\")\n",
    "display_images(xtilde.mode())\n",
    "\n",
    "print(\"Randomly Generated Means:\")\n",
    "display_images(xtilde.mean())"
   ]
  },
  {
   "cell_type": "markdown",
   "metadata": {},
   "source": [
    "## Semi-supervised Learning"
   ]
  },
  {
   "cell_type": "code",
   "execution_count": 21,
   "metadata": {},
   "outputs": [],
   "source": [
    "tf.keras.backend.clear_session()"
   ]
  },
  {
   "cell_type": "code",
   "execution_count": 22,
   "metadata": {},
   "outputs": [
    {
     "name": "stdout",
     "output_type": "stream",
     "text": [
      "FeaturesDict({'image': Image(shape=(28, 28, 1), dtype=tf.uint8), 'label': ClassLabel(shape=(), dtype=tf.int64, num_classes=10)})\n"
     ]
    }
   ],
   "source": [
    "datasets, datasets_info = tfds.load(name='mnist',\n",
    "                                    with_info=True,\n",
    "                                    as_supervised=True)\n",
    "\n",
    "print(datasets_info.features)"
   ]
  },
  {
   "cell_type": "code",
   "execution_count": 23,
   "metadata": {},
   "outputs": [
    {
     "name": "stdout",
     "output_type": "stream",
     "text": [
      "Train: <BatchDataset shapes: ({encoder_input: (None, 28, 28, 1)}, {decoder: (None, 28, 28, 1), classifier: (None,)}), types: ({encoder_input: tf.bool}, {decoder: tf.bool, classifier: tf.int64})>\n",
      "Eval : <BatchDataset shapes: ({encoder_input: (None, 28, 28, 1)}, {decoder: (None, 28, 28, 1), classifier: (None,)}), types: ({encoder_input: tf.bool}, {decoder: tf.bool, classifier: tf.int64})>\n"
     ]
    }
   ],
   "source": [
    "def _preprocess(images, labels):\n",
    "    images = tf.cast(images, tf.float32) / 255.             # Scale to unit interval.\n",
    "    images = images < tf.random.uniform(tf.shape(images))   # Randomly binarize.\n",
    "    return {\"encoder_input\": images}, {\"decoder\": images, \"classifier\": labels}\n",
    "\n",
    "train_dataset = datasets[\"train\"] \\\n",
    "                    .prefetch(tf.data.experimental.AUTOTUNE) \\\n",
    "                    .map(_preprocess) \\\n",
    "                    .shuffle(1024) \\\n",
    "                    .batch(64)\n",
    "\n",
    "eval_dataset = datasets[\"test\"] \\\n",
    "                    .prefetch(tf.data.experimental.AUTOTUNE) \\\n",
    "                    .map(_preprocess) \\\n",
    "                    .batch(64)\n",
    "\n",
    "print(\"Train:\", train_dataset)\n",
    "print(\"Eval :\", eval_dataset)"
   ]
  },
  {
   "cell_type": "code",
   "execution_count": 24,
   "metadata": {},
   "outputs": [],
   "source": [
    "input_shape = datasets_info.features['image'].shape\n",
    "num_classes = datasets_info.features[\"label\"].num_classes\n",
    "output_size = np.prod(input_shape)\n",
    "encoded_size = 16\n",
    "hidden_size = 64"
   ]
  },
  {
   "cell_type": "code",
   "execution_count": 25,
   "metadata": {},
   "outputs": [
    {
     "name": "stdout",
     "output_type": "stream",
     "text": [
      "Model: \"VAE\"\n",
      "__________________________________________________________________________________________________\n",
      "Layer (type)                    Output Shape         Param #     Connected to                     \n",
      "==================================================================================================\n",
      "encoder_input (InputLayer)      [(None, 28, 28, 1)]  0                                            \n",
      "__________________________________________________________________________________________________\n",
      "lambda (Lambda)                 (None, 28, 28, 1)    0           encoder_input[0][0]              \n",
      "__________________________________________________________________________________________________\n",
      "flatten (Flatten)               (None, 784)          0           lambda[0][0]                     \n",
      "__________________________________________________________________________________________________\n",
      "dense (Dense)                   (None, 64)           50240       flatten[0][0]                    \n",
      "__________________________________________________________________________________________________\n",
      "re_lu (ReLU)                    (None, 64)           0           dense[0][0]                      \n",
      "__________________________________________________________________________________________________\n",
      "dense_1 (Dense)                 (None, 152)          9880        re_lu[0][0]                      \n",
      "__________________________________________________________________________________________________\n",
      "multivariate_normal_tri_l (Mult ((None, 16), (None,  0           dense_1[0][0]                    \n",
      "__________________________________________________________________________________________________\n",
      "decoder (Sequential)            (None, 28, 28, 1)    52048       multivariate_normal_tri_l[0][0]  \n",
      "__________________________________________________________________________________________________\n",
      "classifier (Sequential)         (None, 10)           874         multivariate_normal_tri_l[0][0]  \n",
      "==================================================================================================\n",
      "Total params: 113,042\n",
      "Trainable params: 113,042\n",
      "Non-trainable params: 0\n",
      "__________________________________________________________________________________________________\n",
      "Model: \"decoder\"\n",
      "_________________________________________________________________\n",
      "Layer (type)                 Output Shape              Param #   \n",
      "=================================================================\n",
      "dense_2 (Dense)              (None, 64)                1088      \n",
      "_________________________________________________________________\n",
      "re_lu_1 (ReLU)               (None, 64)                0         \n",
      "_________________________________________________________________\n",
      "dense_3 (Dense)              (None, 784)               50960     \n",
      "_________________________________________________________________\n",
      "independent_bernoulli (Indep ((None, 28, 28, 1), (None 0         \n",
      "=================================================================\n",
      "Total params: 52,048\n",
      "Trainable params: 52,048\n",
      "Non-trainable params: 0\n",
      "_________________________________________________________________\n",
      "Model: \"classifier\"\n",
      "_________________________________________________________________\n",
      "Layer (type)                 Output Shape              Param #   \n",
      "=================================================================\n",
      "flatten_1 (Flatten)          (None, 16)                0         \n",
      "_________________________________________________________________\n",
      "dense_4 (Dense)              (None, 32)                544       \n",
      "_________________________________________________________________\n",
      "re_lu_2 (ReLU)               (None, 32)                0         \n",
      "_________________________________________________________________\n",
      "dense_5 (Dense)              (None, 10)                330       \n",
      "_________________________________________________________________\n",
      "softmax (Softmax)            (None, 10)                0         \n",
      "=================================================================\n",
      "Total params: 874\n",
      "Trainable params: 874\n",
      "Non-trainable params: 0\n",
      "_________________________________________________________________\n"
     ]
    },
    {
     "data": {
      "image/svg+xml": [
       "<svg height=\"1119pt\" viewBox=\"0.00 0.00 884.00 1118.60\" width=\"884pt\" xmlns=\"http://www.w3.org/2000/svg\" xmlns:xlink=\"http://www.w3.org/1999/xlink\">\n",
       "<g class=\"graph\" id=\"graph0\" transform=\"scale(1 1) rotate(0) translate(4 1114.6)\">\n",
       "<title>G</title>\n",
       "<polygon fill=\"#ffffff\" points=\"-4,4 -4,-1114.6 880,-1114.6 880,4 -4,4\" stroke=\"transparent\"/>\n",
       "<g class=\"cluster\" id=\"clust1\">\n",
       "<title>cluster_decoder</title>\n",
       "<polygon fill=\"none\" points=\"8,-94.6 8,-532.4 574,-532.4 574,-94.6 8,-94.6\" stroke=\"#000000\" stroke-dasharray=\"5,2\"/>\n",
       "<text fill=\"#000000\" font-family=\"Times,serif\" font-size=\"14.00\" text-anchor=\"middle\" x=\"38.1522\" y=\"-515.8\">decoder</text>\n",
       "</g>\n",
       "<g class=\"cluster\" id=\"clust2\">\n",
       "<title>cluster_classifier</title>\n",
       "<polygon fill=\"none\" points=\"582,-8 582,-532.4 868,-532.4 868,-8 582,-8\" stroke=\"#000000\" stroke-dasharray=\"5,2\"/>\n",
       "<text fill=\"#000000\" font-family=\"Times,serif\" font-size=\"14.00\" text-anchor=\"middle\" x=\"615.263\" y=\"-515.8\">classifier</text>\n",
       "</g>\n",
       "<!-- 139965772319320 -->\n",
       "<g class=\"node\" id=\"node1\">\n",
       "<title>139965772319320</title>\n",
       "<polygon fill=\"none\" points=\"414.8474,-1060.5 414.8474,-1110.1 757.1526,-1110.1 757.1526,-1060.5 414.8474,-1060.5\" stroke=\"#000000\"/>\n",
       "<text fill=\"#000000\" font-family=\"Times,serif\" font-size=\"14.00\" text-anchor=\"middle\" x=\"497.6823\" y=\"-1081.1\">encoder_input: InputLayer</text>\n",
       "<polyline fill=\"none\" points=\"580.5172,-1060.5 580.5172,-1110.1 \" stroke=\"#000000\"/>\n",
       "<text fill=\"#000000\" font-family=\"Times,serif\" font-size=\"14.00\" text-anchor=\"middle\" x=\"608.3531\" y=\"-1093.5\">input:</text>\n",
       "<polyline fill=\"none\" points=\"580.5172,-1085.3 636.189,-1085.3 \" stroke=\"#000000\"/>\n",
       "<text fill=\"#000000\" font-family=\"Times,serif\" font-size=\"14.00\" text-anchor=\"middle\" x=\"608.3531\" y=\"-1068.7\">output:</text>\n",
       "<polyline fill=\"none\" points=\"636.189,-1060.5 636.189,-1110.1 \" stroke=\"#000000\"/>\n",
       "<text fill=\"#000000\" font-family=\"Times,serif\" font-size=\"14.00\" text-anchor=\"middle\" x=\"696.6708\" y=\"-1093.5\">[(None, 28, 28, 1)]</text>\n",
       "<polyline fill=\"none\" points=\"636.189,-1085.3 757.1526,-1085.3 \" stroke=\"#000000\"/>\n",
       "<text fill=\"#000000\" font-family=\"Times,serif\" font-size=\"14.00\" text-anchor=\"middle\" x=\"696.6708\" y=\"-1068.7\">[(None, 28, 28, 1)]</text>\n",
       "</g>\n",
       "<!-- 139965772319880 -->\n",
       "<g class=\"node\" id=\"node2\">\n",
       "<title>139965772319880</title>\n",
       "<polygon fill=\"none\" points=\"447.1062,-973.9 447.1062,-1023.5 724.8938,-1023.5 724.8938,-973.9 447.1062,-973.9\" stroke=\"#000000\"/>\n",
       "<text fill=\"#000000\" font-family=\"Times,serif\" font-size=\"14.00\" text-anchor=\"middle\" x=\"502.3429\" y=\"-994.5\">lambda: Lambda</text>\n",
       "<polyline fill=\"none\" points=\"557.5796,-973.9 557.5796,-1023.5 \" stroke=\"#000000\"/>\n",
       "<text fill=\"#000000\" font-family=\"Times,serif\" font-size=\"14.00\" text-anchor=\"middle\" x=\"585.4155\" y=\"-1006.9\">input:</text>\n",
       "<polyline fill=\"none\" points=\"557.5796,-998.7 613.2514,-998.7 \" stroke=\"#000000\"/>\n",
       "<text fill=\"#000000\" font-family=\"Times,serif\" font-size=\"14.00\" text-anchor=\"middle\" x=\"585.4155\" y=\"-982.1\">output:</text>\n",
       "<polyline fill=\"none\" points=\"613.2514,-973.9 613.2514,-1023.5 \" stroke=\"#000000\"/>\n",
       "<text fill=\"#000000\" font-family=\"Times,serif\" font-size=\"14.00\" text-anchor=\"middle\" x=\"669.0726\" y=\"-1006.9\">(None, 28, 28, 1)</text>\n",
       "<polyline fill=\"none\" points=\"613.2514,-998.7 724.8938,-998.7 \" stroke=\"#000000\"/>\n",
       "<text fill=\"#000000\" font-family=\"Times,serif\" font-size=\"14.00\" text-anchor=\"middle\" x=\"669.0726\" y=\"-982.1\">(None, 28, 28, 1)</text>\n",
       "</g>\n",
       "<!-- 139965772319320&#45;&gt;139965772319880 -->\n",
       "<g class=\"edge\" id=\"edge10\">\n",
       "<title>139965772319320-&gt;139965772319880</title>\n",
       "<path d=\"M586,-1060.2517C586,-1051.9937 586,-1042.6517 586,-1033.7864\" fill=\"none\" stroke=\"#000000\"/>\n",
       "<polygon fill=\"#000000\" points=\"589.5001,-1033.692 586,-1023.692 582.5001,-1033.692 589.5001,-1033.692\" stroke=\"#000000\"/>\n",
       "</g>\n",
       "<!-- 139965772320608 -->\n",
       "<g class=\"node\" id=\"node3\">\n",
       "<title>139965772320608</title>\n",
       "<polygon fill=\"none\" points=\"453.325,-887.3 453.325,-936.9 718.675,-936.9 718.675,-887.3 453.325,-887.3\" stroke=\"#000000\"/>\n",
       "<text fill=\"#000000\" font-family=\"Times,serif\" font-size=\"14.00\" text-anchor=\"middle\" x=\"502.3429\" y=\"-907.9\">flatten: Flatten</text>\n",
       "<polyline fill=\"none\" points=\"551.3608,-887.3 551.3608,-936.9 \" stroke=\"#000000\"/>\n",
       "<text fill=\"#000000\" font-family=\"Times,serif\" font-size=\"14.00\" text-anchor=\"middle\" x=\"579.1967\" y=\"-920.3\">input:</text>\n",
       "<polyline fill=\"none\" points=\"551.3608,-912.1 607.0326,-912.1 \" stroke=\"#000000\"/>\n",
       "<text fill=\"#000000\" font-family=\"Times,serif\" font-size=\"14.00\" text-anchor=\"middle\" x=\"579.1967\" y=\"-895.5\">output:</text>\n",
       "<polyline fill=\"none\" points=\"607.0326,-887.3 607.0326,-936.9 \" stroke=\"#000000\"/>\n",
       "<text fill=\"#000000\" font-family=\"Times,serif\" font-size=\"14.00\" text-anchor=\"middle\" x=\"662.8538\" y=\"-920.3\">(None, 28, 28, 1)</text>\n",
       "<polyline fill=\"none\" points=\"607.0326,-912.1 718.675,-912.1 \" stroke=\"#000000\"/>\n",
       "<text fill=\"#000000\" font-family=\"Times,serif\" font-size=\"14.00\" text-anchor=\"middle\" x=\"662.8538\" y=\"-895.5\">(None, 784)</text>\n",
       "</g>\n",
       "<!-- 139965772319880&#45;&gt;139965772320608 -->\n",
       "<g class=\"edge\" id=\"edge11\">\n",
       "<title>139965772319880-&gt;139965772320608</title>\n",
       "<path d=\"M586,-973.6517C586,-965.3937 586,-956.0517 586,-947.1864\" fill=\"none\" stroke=\"#000000\"/>\n",
       "<polygon fill=\"#000000\" points=\"589.5001,-947.092 586,-937.092 582.5001,-947.092 589.5001,-947.092\" stroke=\"#000000\"/>\n",
       "</g>\n",
       "<!-- 139965772275840 -->\n",
       "<g class=\"node\" id=\"node4\">\n",
       "<title>139965772275840</title>\n",
       "<polygon fill=\"none\" points=\"471.2205,-800.7 471.2205,-850.3 700.7795,-850.3 700.7795,-800.7 471.2205,-800.7\" stroke=\"#000000\"/>\n",
       "<text fill=\"#000000\" font-family=\"Times,serif\" font-size=\"14.00\" text-anchor=\"middle\" x=\"516.3429\" y=\"-821.3\">dense: Dense</text>\n",
       "<polyline fill=\"none\" points=\"561.4653,-800.7 561.4653,-850.3 \" stroke=\"#000000\"/>\n",
       "<text fill=\"#000000\" font-family=\"Times,serif\" font-size=\"14.00\" text-anchor=\"middle\" x=\"589.3012\" y=\"-833.7\">input:</text>\n",
       "<polyline fill=\"none\" points=\"561.4653,-825.5 617.1371,-825.5 \" stroke=\"#000000\"/>\n",
       "<text fill=\"#000000\" font-family=\"Times,serif\" font-size=\"14.00\" text-anchor=\"middle\" x=\"589.3012\" y=\"-808.9\">output:</text>\n",
       "<polyline fill=\"none\" points=\"617.1371,-800.7 617.1371,-850.3 \" stroke=\"#000000\"/>\n",
       "<text fill=\"#000000\" font-family=\"Times,serif\" font-size=\"14.00\" text-anchor=\"middle\" x=\"658.9583\" y=\"-833.7\">(None, 784)</text>\n",
       "<polyline fill=\"none\" points=\"617.1371,-825.5 700.7795,-825.5 \" stroke=\"#000000\"/>\n",
       "<text fill=\"#000000\" font-family=\"Times,serif\" font-size=\"14.00\" text-anchor=\"middle\" x=\"658.9583\" y=\"-808.9\">(None, 64)</text>\n",
       "</g>\n",
       "<!-- 139965772320608&#45;&gt;139965772275840 -->\n",
       "<g class=\"edge\" id=\"edge12\">\n",
       "<title>139965772320608-&gt;139965772275840</title>\n",
       "<path d=\"M586,-887.0517C586,-878.7937 586,-869.4517 586,-860.5864\" fill=\"none\" stroke=\"#000000\"/>\n",
       "<polygon fill=\"#000000\" points=\"589.5001,-860.492 586,-850.492 582.5001,-860.492 589.5001,-860.492\" stroke=\"#000000\"/>\n",
       "</g>\n",
       "<!-- 139965772276848 -->\n",
       "<g class=\"node\" id=\"node5\">\n",
       "<title>139965772276848</title>\n",
       "<polygon fill=\"none\" points=\"476.6595,-714.1 476.6595,-763.7 695.3405,-763.7 695.3405,-714.1 476.6595,-714.1\" stroke=\"#000000\"/>\n",
       "<text fill=\"#000000\" font-family=\"Times,serif\" font-size=\"14.00\" text-anchor=\"middle\" x=\"519.8429\" y=\"-734.7\">re_lu: ReLU</text>\n",
       "<polyline fill=\"none\" points=\"563.0263,-714.1 563.0263,-763.7 \" stroke=\"#000000\"/>\n",
       "<text fill=\"#000000\" font-family=\"Times,serif\" font-size=\"14.00\" text-anchor=\"middle\" x=\"590.8622\" y=\"-747.1\">input:</text>\n",
       "<polyline fill=\"none\" points=\"563.0263,-738.9 618.6981,-738.9 \" stroke=\"#000000\"/>\n",
       "<text fill=\"#000000\" font-family=\"Times,serif\" font-size=\"14.00\" text-anchor=\"middle\" x=\"590.8622\" y=\"-722.3\">output:</text>\n",
       "<polyline fill=\"none\" points=\"618.6981,-714.1 618.6981,-763.7 \" stroke=\"#000000\"/>\n",
       "<text fill=\"#000000\" font-family=\"Times,serif\" font-size=\"14.00\" text-anchor=\"middle\" x=\"657.0193\" y=\"-747.1\">(None, 64)</text>\n",
       "<polyline fill=\"none\" points=\"618.6981,-738.9 695.3405,-738.9 \" stroke=\"#000000\"/>\n",
       "<text fill=\"#000000\" font-family=\"Times,serif\" font-size=\"14.00\" text-anchor=\"middle\" x=\"657.0193\" y=\"-722.3\">(None, 64)</text>\n",
       "</g>\n",
       "<!-- 139965772275840&#45;&gt;139965772276848 -->\n",
       "<g class=\"edge\" id=\"edge13\">\n",
       "<title>139965772275840-&gt;139965772276848</title>\n",
       "<path d=\"M586,-800.4517C586,-792.1937 586,-782.8517 586,-773.9864\" fill=\"none\" stroke=\"#000000\"/>\n",
       "<polygon fill=\"#000000\" points=\"589.5001,-773.892 586,-763.892 582.5001,-773.892 589.5001,-773.892\" stroke=\"#000000\"/>\n",
       "</g>\n",
       "<!-- 139965772277184 -->\n",
       "<g class=\"node\" id=\"node6\">\n",
       "<title>139965772277184</title>\n",
       "<polygon fill=\"none\" points=\"464.2205,-627.5 464.2205,-677.1 707.7795,-677.1 707.7795,-627.5 464.2205,-627.5\" stroke=\"#000000\"/>\n",
       "<text fill=\"#000000\" font-family=\"Times,serif\" font-size=\"14.00\" text-anchor=\"middle\" x=\"516.3429\" y=\"-648.1\">dense_1: Dense</text>\n",
       "<polyline fill=\"none\" points=\"568.4653,-627.5 568.4653,-677.1 \" stroke=\"#000000\"/>\n",
       "<text fill=\"#000000\" font-family=\"Times,serif\" font-size=\"14.00\" text-anchor=\"middle\" x=\"596.3012\" y=\"-660.5\">input:</text>\n",
       "<polyline fill=\"none\" points=\"568.4653,-652.3 624.1371,-652.3 \" stroke=\"#000000\"/>\n",
       "<text fill=\"#000000\" font-family=\"Times,serif\" font-size=\"14.00\" text-anchor=\"middle\" x=\"596.3012\" y=\"-635.7\">output:</text>\n",
       "<polyline fill=\"none\" points=\"624.1371,-627.5 624.1371,-677.1 \" stroke=\"#000000\"/>\n",
       "<text fill=\"#000000\" font-family=\"Times,serif\" font-size=\"14.00\" text-anchor=\"middle\" x=\"665.9583\" y=\"-660.5\">(None, 64)</text>\n",
       "<polyline fill=\"none\" points=\"624.1371,-652.3 707.7795,-652.3 \" stroke=\"#000000\"/>\n",
       "<text fill=\"#000000\" font-family=\"Times,serif\" font-size=\"14.00\" text-anchor=\"middle\" x=\"665.9583\" y=\"-635.7\">(None, 152)</text>\n",
       "</g>\n",
       "<!-- 139965772276848&#45;&gt;139965772277184 -->\n",
       "<g class=\"edge\" id=\"edge14\">\n",
       "<title>139965772276848-&gt;139965772277184</title>\n",
       "<path d=\"M586,-713.8517C586,-705.5937 586,-696.2517 586,-687.3864\" fill=\"none\" stroke=\"#000000\"/>\n",
       "<polygon fill=\"#000000\" points=\"589.5001,-687.292 586,-677.292 582.5001,-687.292 589.5001,-687.292\" stroke=\"#000000\"/>\n",
       "</g>\n",
       "<!-- 139965772277968 -->\n",
       "<g class=\"node\" id=\"node7\">\n",
       "<title>139965772277968</title>\n",
       "<polygon fill=\"none\" points=\"328.5367,-540.9 328.5367,-590.5 843.4633,-590.5 843.4633,-540.9 328.5367,-540.9\" stroke=\"#000000\"/>\n",
       "<text fill=\"#000000\" font-family=\"Times,serif\" font-size=\"14.00\" text-anchor=\"middle\" x=\"481.3611\" y=\"-561.5\">multivariate_normal_tri_l: MultivariateNormalTriL</text>\n",
       "<polyline fill=\"none\" points=\"634.1855,-540.9 634.1855,-590.5 \" stroke=\"#000000\"/>\n",
       "<text fill=\"#000000\" font-family=\"Times,serif\" font-size=\"14.00\" text-anchor=\"middle\" x=\"662.0214\" y=\"-573.9\">input:</text>\n",
       "<polyline fill=\"none\" points=\"634.1855,-565.7 689.8573,-565.7 \" stroke=\"#000000\"/>\n",
       "<text fill=\"#000000\" font-family=\"Times,serif\" font-size=\"14.00\" text-anchor=\"middle\" x=\"662.0214\" y=\"-549.1\">output:</text>\n",
       "<polyline fill=\"none\" points=\"689.8573,-540.9 689.8573,-590.5 \" stroke=\"#000000\"/>\n",
       "<text fill=\"#000000\" font-family=\"Times,serif\" font-size=\"14.00\" text-anchor=\"middle\" x=\"766.1785\" y=\"-573.9\">(None, 152)</text>\n",
       "<polyline fill=\"none\" points=\"689.8573,-565.7 843.4633,-565.7 \" stroke=\"#000000\"/>\n",
       "<text fill=\"#000000\" font-family=\"Times,serif\" font-size=\"14.00\" text-anchor=\"middle\" x=\"766.6603\" y=\"-549.1\">((None, 16), (None, 16))</text>\n",
       "</g>\n",
       "<!-- 139965772277184&#45;&gt;139965772277968 -->\n",
       "<g class=\"edge\" id=\"edge15\">\n",
       "<title>139965772277184-&gt;139965772277968</title>\n",
       "<path d=\"M586,-627.2517C586,-618.9937 586,-609.6517 586,-600.7864\" fill=\"none\" stroke=\"#000000\"/>\n",
       "<polygon fill=\"#000000\" points=\"589.5001,-600.692 586,-590.692 582.5001,-600.692 589.5001,-600.692\" stroke=\"#000000\"/>\n",
       "</g>\n",
       "<!-- 139965772319208 -->\n",
       "<g class=\"node\" id=\"node8\">\n",
       "<title>139965772319208</title>\n",
       "<polygon fill=\"none\" points=\"286.9996,-449.5 286.9996,-499.1 557.0004,-499.1 557.0004,-449.5 286.9996,-449.5\" stroke=\"#000000\"/>\n",
       "<text fill=\"#000000\" font-family=\"Times,serif\" font-size=\"14.00\" text-anchor=\"middle\" x=\"351.1823\" y=\"-470.1\">input_1: InputLayer</text>\n",
       "<polyline fill=\"none\" points=\"415.365,-449.5 415.365,-499.1 \" stroke=\"#000000\"/>\n",
       "<text fill=\"#000000\" font-family=\"Times,serif\" font-size=\"14.00\" text-anchor=\"middle\" x=\"443.2009\" y=\"-482.5\">input:</text>\n",
       "<polyline fill=\"none\" points=\"415.365,-474.3 471.0368,-474.3 \" stroke=\"#000000\"/>\n",
       "<text fill=\"#000000\" font-family=\"Times,serif\" font-size=\"14.00\" text-anchor=\"middle\" x=\"443.2009\" y=\"-457.7\">output:</text>\n",
       "<polyline fill=\"none\" points=\"471.0368,-449.5 471.0368,-499.1 \" stroke=\"#000000\"/>\n",
       "<text fill=\"#000000\" font-family=\"Times,serif\" font-size=\"14.00\" text-anchor=\"middle\" x=\"514.0186\" y=\"-482.5\">[(None, 16)]</text>\n",
       "<polyline fill=\"none\" points=\"471.0368,-474.3 557.0004,-474.3 \" stroke=\"#000000\"/>\n",
       "<text fill=\"#000000\" font-family=\"Times,serif\" font-size=\"14.00\" text-anchor=\"middle\" x=\"514.0186\" y=\"-457.7\">[(None, 16)]</text>\n",
       "</g>\n",
       "<!-- 139965772277968&#45;&gt;139965772319208 -->\n",
       "<g class=\"edge\" id=\"edge16\">\n",
       "<title>139965772277968-&gt;139965772319208</title>\n",
       "<path d=\"M541.1863,-540.7245C520.9382,-529.44 496.8523,-516.0165 475.6501,-504.2001\" fill=\"none\" stroke=\"#000000\"/>\n",
       "<polygon fill=\"#000000\" points=\"477.1985,-501.0562 466.7595,-499.2453 473.7907,-507.1708 477.1985,-501.0562\" stroke=\"#000000\"/>\n",
       "</g>\n",
       "<!-- 139965772278528 -->\n",
       "<g class=\"node\" id=\"node13\">\n",
       "<title>139965772278528</title>\n",
       "<polygon fill=\"none\" points=\"589.9996,-449.5 589.9996,-499.1 860.0004,-499.1 860.0004,-449.5 589.9996,-449.5\" stroke=\"#000000\"/>\n",
       "<text fill=\"#000000\" font-family=\"Times,serif\" font-size=\"14.00\" text-anchor=\"middle\" x=\"654.1823\" y=\"-470.1\">input_2: InputLayer</text>\n",
       "<polyline fill=\"none\" points=\"718.365,-449.5 718.365,-499.1 \" stroke=\"#000000\"/>\n",
       "<text fill=\"#000000\" font-family=\"Times,serif\" font-size=\"14.00\" text-anchor=\"middle\" x=\"746.2009\" y=\"-482.5\">input:</text>\n",
       "<polyline fill=\"none\" points=\"718.365,-474.3 774.0368,-474.3 \" stroke=\"#000000\"/>\n",
       "<text fill=\"#000000\" font-family=\"Times,serif\" font-size=\"14.00\" text-anchor=\"middle\" x=\"746.2009\" y=\"-457.7\">output:</text>\n",
       "<polyline fill=\"none\" points=\"774.0368,-449.5 774.0368,-499.1 \" stroke=\"#000000\"/>\n",
       "<text fill=\"#000000\" font-family=\"Times,serif\" font-size=\"14.00\" text-anchor=\"middle\" x=\"817.0186\" y=\"-482.5\">[(None, 16)]</text>\n",
       "<polyline fill=\"none\" points=\"774.0368,-474.3 860.0004,-474.3 \" stroke=\"#000000\"/>\n",
       "<text fill=\"#000000\" font-family=\"Times,serif\" font-size=\"14.00\" text-anchor=\"middle\" x=\"817.0186\" y=\"-457.7\">[(None, 16)]</text>\n",
       "</g>\n",
       "<!-- 139965772277968&#45;&gt;139965772278528 -->\n",
       "<g class=\"edge\" id=\"edge17\">\n",
       "<title>139965772277968-&gt;139965772278528</title>\n",
       "<path d=\"M623.9824,-540.7245C640.8374,-529.6415 660.83,-516.4952 678.5633,-504.8346\" fill=\"none\" stroke=\"#000000\"/>\n",
       "<polygon fill=\"#000000\" points=\"680.631,-507.6639 687.0636,-499.2453 676.7851,-501.8151 680.631,-507.6639\" stroke=\"#000000\"/>\n",
       "</g>\n",
       "<!-- 139965771878696 -->\n",
       "<g class=\"node\" id=\"node9\">\n",
       "<title>139965771878696</title>\n",
       "<polygon fill=\"none\" points=\"268.7205,-362.9 268.7205,-412.5 505.2795,-412.5 505.2795,-362.9 268.7205,-362.9\" stroke=\"#000000\"/>\n",
       "<text fill=\"#000000\" font-family=\"Times,serif\" font-size=\"14.00\" text-anchor=\"middle\" x=\"320.8429\" y=\"-383.5\">dense_2: Dense</text>\n",
       "<polyline fill=\"none\" points=\"372.9653,-362.9 372.9653,-412.5 \" stroke=\"#000000\"/>\n",
       "<text fill=\"#000000\" font-family=\"Times,serif\" font-size=\"14.00\" text-anchor=\"middle\" x=\"400.8012\" y=\"-395.9\">input:</text>\n",
       "<polyline fill=\"none\" points=\"372.9653,-387.7 428.6371,-387.7 \" stroke=\"#000000\"/>\n",
       "<text fill=\"#000000\" font-family=\"Times,serif\" font-size=\"14.00\" text-anchor=\"middle\" x=\"400.8012\" y=\"-371.1\">output:</text>\n",
       "<polyline fill=\"none\" points=\"428.6371,-362.9 428.6371,-412.5 \" stroke=\"#000000\"/>\n",
       "<text fill=\"#000000\" font-family=\"Times,serif\" font-size=\"14.00\" text-anchor=\"middle\" x=\"466.9583\" y=\"-395.9\">(None, 16)</text>\n",
       "<polyline fill=\"none\" points=\"428.6371,-387.7 505.2795,-387.7 \" stroke=\"#000000\"/>\n",
       "<text fill=\"#000000\" font-family=\"Times,serif\" font-size=\"14.00\" text-anchor=\"middle\" x=\"466.9583\" y=\"-371.1\">(None, 64)</text>\n",
       "</g>\n",
       "<!-- 139965772319208&#45;&gt;139965771878696 -->\n",
       "<g class=\"edge\" id=\"edge1\">\n",
       "<title>139965772319208-&gt;139965771878696</title>\n",
       "<path d=\"M411.8765,-449.2517C408.4665,-440.8142 404.599,-431.245 400.947,-422.209\" fill=\"none\" stroke=\"#000000\"/>\n",
       "<polygon fill=\"#000000\" points=\"404.0929,-420.6519 397.1007,-412.692 397.6029,-423.2749 404.0929,-420.6519\" stroke=\"#000000\"/>\n",
       "</g>\n",
       "<!-- 139965770219760 -->\n",
       "<g class=\"node\" id=\"node10\">\n",
       "<title>139965770219760</title>\n",
       "<polygon fill=\"none\" points=\"200.6595,-276.3 200.6595,-325.9 433.3405,-325.9 433.3405,-276.3 200.6595,-276.3\" stroke=\"#000000\"/>\n",
       "<text fill=\"#000000\" font-family=\"Times,serif\" font-size=\"14.00\" text-anchor=\"middle\" x=\"250.8429\" y=\"-296.9\">re_lu_1: ReLU</text>\n",
       "<polyline fill=\"none\" points=\"301.0263,-276.3 301.0263,-325.9 \" stroke=\"#000000\"/>\n",
       "<text fill=\"#000000\" font-family=\"Times,serif\" font-size=\"14.00\" text-anchor=\"middle\" x=\"328.8622\" y=\"-309.3\">input:</text>\n",
       "<polyline fill=\"none\" points=\"301.0263,-301.1 356.6981,-301.1 \" stroke=\"#000000\"/>\n",
       "<text fill=\"#000000\" font-family=\"Times,serif\" font-size=\"14.00\" text-anchor=\"middle\" x=\"328.8622\" y=\"-284.5\">output:</text>\n",
       "<polyline fill=\"none\" points=\"356.6981,-276.3 356.6981,-325.9 \" stroke=\"#000000\"/>\n",
       "<text fill=\"#000000\" font-family=\"Times,serif\" font-size=\"14.00\" text-anchor=\"middle\" x=\"395.0193\" y=\"-309.3\">(None, 64)</text>\n",
       "<polyline fill=\"none\" points=\"356.6981,-301.1 433.3405,-301.1 \" stroke=\"#000000\"/>\n",
       "<text fill=\"#000000\" font-family=\"Times,serif\" font-size=\"14.00\" text-anchor=\"middle\" x=\"395.0193\" y=\"-284.5\">(None, 64)</text>\n",
       "</g>\n",
       "<!-- 139965771878696&#45;&gt;139965770219760 -->\n",
       "<g class=\"edge\" id=\"edge2\">\n",
       "<title>139965771878696-&gt;139965770219760</title>\n",
       "<path d=\"M366.7531,-362.6517C359.4976,-353.6756 351.2068,-343.4188 343.5011,-333.8856\" fill=\"none\" stroke=\"#000000\"/>\n",
       "<polygon fill=\"#000000\" points=\"346.2097,-331.6689 337.2014,-326.092 340.7658,-336.0693 346.2097,-331.6689\" stroke=\"#000000\"/>\n",
       "</g>\n",
       "<!-- 139965769997448 -->\n",
       "<g class=\"node\" id=\"node11\">\n",
       "<title>139965769997448</title>\n",
       "<polygon fill=\"none\" points=\"186.2205,-189.7 186.2205,-239.3 429.7795,-239.3 429.7795,-189.7 186.2205,-189.7\" stroke=\"#000000\"/>\n",
       "<text fill=\"#000000\" font-family=\"Times,serif\" font-size=\"14.00\" text-anchor=\"middle\" x=\"238.3429\" y=\"-210.3\">dense_3: Dense</text>\n",
       "<polyline fill=\"none\" points=\"290.4653,-189.7 290.4653,-239.3 \" stroke=\"#000000\"/>\n",
       "<text fill=\"#000000\" font-family=\"Times,serif\" font-size=\"14.00\" text-anchor=\"middle\" x=\"318.3012\" y=\"-222.7\">input:</text>\n",
       "<polyline fill=\"none\" points=\"290.4653,-214.5 346.1371,-214.5 \" stroke=\"#000000\"/>\n",
       "<text fill=\"#000000\" font-family=\"Times,serif\" font-size=\"14.00\" text-anchor=\"middle\" x=\"318.3012\" y=\"-197.9\">output:</text>\n",
       "<polyline fill=\"none\" points=\"346.1371,-189.7 346.1371,-239.3 \" stroke=\"#000000\"/>\n",
       "<text fill=\"#000000\" font-family=\"Times,serif\" font-size=\"14.00\" text-anchor=\"middle\" x=\"387.9583\" y=\"-222.7\">(None, 64)</text>\n",
       "<polyline fill=\"none\" points=\"346.1371,-214.5 429.7795,-214.5 \" stroke=\"#000000\"/>\n",
       "<text fill=\"#000000\" font-family=\"Times,serif\" font-size=\"14.00\" text-anchor=\"middle\" x=\"387.9583\" y=\"-197.9\">(None, 784)</text>\n",
       "</g>\n",
       "<!-- 139965770219760&#45;&gt;139965769997448 -->\n",
       "<g class=\"edge\" id=\"edge3\">\n",
       "<title>139965770219760-&gt;139965769997448</title>\n",
       "<path d=\"M314.3968,-276.0517C313.5386,-267.7937 312.5677,-258.4517 311.6464,-249.5864\" fill=\"none\" stroke=\"#000000\"/>\n",
       "<polygon fill=\"#000000\" points=\"315.1124,-249.0766 310.5973,-239.492 308.1499,-249.8003 315.1124,-249.0766\" stroke=\"#000000\"/>\n",
       "</g>\n",
       "<!-- 139965769998288 -->\n",
       "<g class=\"node\" id=\"node12\">\n",
       "<title>139965769998288</title>\n",
       "<polygon fill=\"none\" points=\"15.6405,-103.1 15.6405,-152.7 566.3595,-152.7 566.3595,-103.1 15.6405,-103.1\" stroke=\"#000000\"/>\n",
       "<text fill=\"#000000\" font-family=\"Times,serif\" font-size=\"14.00\" text-anchor=\"middle\" x=\"151.3611\" y=\"-123.7\">independent_bernoulli: IndependentBernoulli</text>\n",
       "<polyline fill=\"none\" points=\"287.0817,-103.1 287.0817,-152.7 \" stroke=\"#000000\"/>\n",
       "<text fill=\"#000000\" font-family=\"Times,serif\" font-size=\"14.00\" text-anchor=\"middle\" x=\"314.9176\" y=\"-136.1\">input:</text>\n",
       "<polyline fill=\"none\" points=\"287.0817,-127.9 342.7535,-127.9 \" stroke=\"#000000\"/>\n",
       "<text fill=\"#000000\" font-family=\"Times,serif\" font-size=\"14.00\" text-anchor=\"middle\" x=\"314.9176\" y=\"-111.3\">output:</text>\n",
       "<polyline fill=\"none\" points=\"342.7535,-103.1 342.7535,-152.7 \" stroke=\"#000000\"/>\n",
       "<text fill=\"#000000\" font-family=\"Times,serif\" font-size=\"14.00\" text-anchor=\"middle\" x=\"454.0747\" y=\"-136.1\">(None, 784)</text>\n",
       "<polyline fill=\"none\" points=\"342.7535,-127.9 566.3595,-127.9 \" stroke=\"#000000\"/>\n",
       "<text fill=\"#000000\" font-family=\"Times,serif\" font-size=\"14.00\" text-anchor=\"middle\" x=\"454.5565\" y=\"-111.3\">((None, 28, 28, 1), (None, 28, 28, 1))</text>\n",
       "</g>\n",
       "<!-- 139965769997448&#45;&gt;139965769998288 -->\n",
       "<g class=\"edge\" id=\"edge4\">\n",
       "<title>139965769997448-&gt;139965769998288</title>\n",
       "<path d=\"M303.0829,-189.4517C301.4618,-181.1937 299.6279,-171.8517 297.8876,-162.9864\" fill=\"none\" stroke=\"#000000\"/>\n",
       "<polygon fill=\"#000000\" points=\"301.2669,-162.0305 295.9061,-152.892 294.398,-163.379 301.2669,-162.0305\" stroke=\"#000000\"/>\n",
       "</g>\n",
       "<!-- 139965769713088 -->\n",
       "<g class=\"node\" id=\"node14\">\n",
       "<title>139965769713088</title>\n",
       "<polygon fill=\"none\" points=\"602.825,-362.9 602.825,-412.5 847.175,-412.5 847.175,-362.9 602.825,-362.9\" stroke=\"#000000\"/>\n",
       "<text fill=\"#000000\" font-family=\"Times,serif\" font-size=\"14.00\" text-anchor=\"middle\" x=\"658.8429\" y=\"-383.5\">flatten_1: Flatten</text>\n",
       "<polyline fill=\"none\" points=\"714.8608,-362.9 714.8608,-412.5 \" stroke=\"#000000\"/>\n",
       "<text fill=\"#000000\" font-family=\"Times,serif\" font-size=\"14.00\" text-anchor=\"middle\" x=\"742.6967\" y=\"-395.9\">input:</text>\n",
       "<polyline fill=\"none\" points=\"714.8608,-387.7 770.5326,-387.7 \" stroke=\"#000000\"/>\n",
       "<text fill=\"#000000\" font-family=\"Times,serif\" font-size=\"14.00\" text-anchor=\"middle\" x=\"742.6967\" y=\"-371.1\">output:</text>\n",
       "<polyline fill=\"none\" points=\"770.5326,-362.9 770.5326,-412.5 \" stroke=\"#000000\"/>\n",
       "<text fill=\"#000000\" font-family=\"Times,serif\" font-size=\"14.00\" text-anchor=\"middle\" x=\"808.8538\" y=\"-395.9\">(None, 16)</text>\n",
       "<polyline fill=\"none\" points=\"770.5326,-387.7 847.175,-387.7 \" stroke=\"#000000\"/>\n",
       "<text fill=\"#000000\" font-family=\"Times,serif\" font-size=\"14.00\" text-anchor=\"middle\" x=\"808.8538\" y=\"-371.1\">(None, 16)</text>\n",
       "</g>\n",
       "<!-- 139965772278528&#45;&gt;139965769713088 -->\n",
       "<g class=\"edge\" id=\"edge5\">\n",
       "<title>139965772278528-&gt;139965769713088</title>\n",
       "<path d=\"M725,-449.2517C725,-440.9937 725,-431.6517 725,-422.7864\" fill=\"none\" stroke=\"#000000\"/>\n",
       "<polygon fill=\"#000000\" points=\"728.5001,-422.692 725,-412.692 721.5001,-422.692 728.5001,-422.692\" stroke=\"#000000\"/>\n",
       "</g>\n",
       "<!-- 139965769329856 -->\n",
       "<g class=\"node\" id=\"node15\">\n",
       "<title>139965769329856</title>\n",
       "<polygon fill=\"none\" points=\"606.7205,-276.3 606.7205,-325.9 843.2795,-325.9 843.2795,-276.3 606.7205,-276.3\" stroke=\"#000000\"/>\n",
       "<text fill=\"#000000\" font-family=\"Times,serif\" font-size=\"14.00\" text-anchor=\"middle\" x=\"658.8429\" y=\"-296.9\">dense_4: Dense</text>\n",
       "<polyline fill=\"none\" points=\"710.9653,-276.3 710.9653,-325.9 \" stroke=\"#000000\"/>\n",
       "<text fill=\"#000000\" font-family=\"Times,serif\" font-size=\"14.00\" text-anchor=\"middle\" x=\"738.8012\" y=\"-309.3\">input:</text>\n",
       "<polyline fill=\"none\" points=\"710.9653,-301.1 766.6371,-301.1 \" stroke=\"#000000\"/>\n",
       "<text fill=\"#000000\" font-family=\"Times,serif\" font-size=\"14.00\" text-anchor=\"middle\" x=\"738.8012\" y=\"-284.5\">output:</text>\n",
       "<polyline fill=\"none\" points=\"766.6371,-276.3 766.6371,-325.9 \" stroke=\"#000000\"/>\n",
       "<text fill=\"#000000\" font-family=\"Times,serif\" font-size=\"14.00\" text-anchor=\"middle\" x=\"804.9583\" y=\"-309.3\">(None, 16)</text>\n",
       "<polyline fill=\"none\" points=\"766.6371,-301.1 843.2795,-301.1 \" stroke=\"#000000\"/>\n",
       "<text fill=\"#000000\" font-family=\"Times,serif\" font-size=\"14.00\" text-anchor=\"middle\" x=\"804.9583\" y=\"-284.5\">(None, 32)</text>\n",
       "</g>\n",
       "<!-- 139965769713088&#45;&gt;139965769329856 -->\n",
       "<g class=\"edge\" id=\"edge6\">\n",
       "<title>139965769713088-&gt;139965769329856</title>\n",
       "<path d=\"M725,-362.6517C725,-354.3937 725,-345.0517 725,-336.1864\" fill=\"none\" stroke=\"#000000\"/>\n",
       "<polygon fill=\"#000000\" points=\"728.5001,-336.092 725,-326.092 721.5001,-336.092 728.5001,-336.092\" stroke=\"#000000\"/>\n",
       "</g>\n",
       "<!-- 139965769450272 -->\n",
       "<g class=\"node\" id=\"node16\">\n",
       "<title>139965769450272</title>\n",
       "<polygon fill=\"none\" points=\"608.6595,-189.7 608.6595,-239.3 841.3405,-239.3 841.3405,-189.7 608.6595,-189.7\" stroke=\"#000000\"/>\n",
       "<text fill=\"#000000\" font-family=\"Times,serif\" font-size=\"14.00\" text-anchor=\"middle\" x=\"658.8429\" y=\"-210.3\">re_lu_2: ReLU</text>\n",
       "<polyline fill=\"none\" points=\"709.0263,-189.7 709.0263,-239.3 \" stroke=\"#000000\"/>\n",
       "<text fill=\"#000000\" font-family=\"Times,serif\" font-size=\"14.00\" text-anchor=\"middle\" x=\"736.8622\" y=\"-222.7\">input:</text>\n",
       "<polyline fill=\"none\" points=\"709.0263,-214.5 764.6981,-214.5 \" stroke=\"#000000\"/>\n",
       "<text fill=\"#000000\" font-family=\"Times,serif\" font-size=\"14.00\" text-anchor=\"middle\" x=\"736.8622\" y=\"-197.9\">output:</text>\n",
       "<polyline fill=\"none\" points=\"764.6981,-189.7 764.6981,-239.3 \" stroke=\"#000000\"/>\n",
       "<text fill=\"#000000\" font-family=\"Times,serif\" font-size=\"14.00\" text-anchor=\"middle\" x=\"803.0193\" y=\"-222.7\">(None, 32)</text>\n",
       "<polyline fill=\"none\" points=\"764.6981,-214.5 841.3405,-214.5 \" stroke=\"#000000\"/>\n",
       "<text fill=\"#000000\" font-family=\"Times,serif\" font-size=\"14.00\" text-anchor=\"middle\" x=\"803.0193\" y=\"-197.9\">(None, 32)</text>\n",
       "</g>\n",
       "<!-- 139965769329856&#45;&gt;139965769450272 -->\n",
       "<g class=\"edge\" id=\"edge7\">\n",
       "<title>139965769329856-&gt;139965769450272</title>\n",
       "<path d=\"M725,-276.0517C725,-267.7937 725,-258.4517 725,-249.5864\" fill=\"none\" stroke=\"#000000\"/>\n",
       "<polygon fill=\"#000000\" points=\"728.5001,-249.492 725,-239.492 721.5001,-249.492 728.5001,-249.492\" stroke=\"#000000\"/>\n",
       "</g>\n",
       "<!-- 139965769450888 -->\n",
       "<g class=\"node\" id=\"node17\">\n",
       "<title>139965769450888</title>\n",
       "<polygon fill=\"none\" points=\"606.7205,-103.1 606.7205,-152.7 843.2795,-152.7 843.2795,-103.1 606.7205,-103.1\" stroke=\"#000000\"/>\n",
       "<text fill=\"#000000\" font-family=\"Times,serif\" font-size=\"14.00\" text-anchor=\"middle\" x=\"658.8429\" y=\"-123.7\">dense_5: Dense</text>\n",
       "<polyline fill=\"none\" points=\"710.9653,-103.1 710.9653,-152.7 \" stroke=\"#000000\"/>\n",
       "<text fill=\"#000000\" font-family=\"Times,serif\" font-size=\"14.00\" text-anchor=\"middle\" x=\"738.8012\" y=\"-136.1\">input:</text>\n",
       "<polyline fill=\"none\" points=\"710.9653,-127.9 766.6371,-127.9 \" stroke=\"#000000\"/>\n",
       "<text fill=\"#000000\" font-family=\"Times,serif\" font-size=\"14.00\" text-anchor=\"middle\" x=\"738.8012\" y=\"-111.3\">output:</text>\n",
       "<polyline fill=\"none\" points=\"766.6371,-103.1 766.6371,-152.7 \" stroke=\"#000000\"/>\n",
       "<text fill=\"#000000\" font-family=\"Times,serif\" font-size=\"14.00\" text-anchor=\"middle\" x=\"804.9583\" y=\"-136.1\">(None, 32)</text>\n",
       "<polyline fill=\"none\" points=\"766.6371,-127.9 843.2795,-127.9 \" stroke=\"#000000\"/>\n",
       "<text fill=\"#000000\" font-family=\"Times,serif\" font-size=\"14.00\" text-anchor=\"middle\" x=\"804.9583\" y=\"-111.3\">(None, 10)</text>\n",
       "</g>\n",
       "<!-- 139965769450272&#45;&gt;139965769450888 -->\n",
       "<g class=\"edge\" id=\"edge8\">\n",
       "<title>139965769450272-&gt;139965769450888</title>\n",
       "<path d=\"M725,-189.4517C725,-181.1937 725,-171.8517 725,-162.9864\" fill=\"none\" stroke=\"#000000\"/>\n",
       "<polygon fill=\"#000000\" points=\"728.5001,-162.892 725,-152.892 721.5001,-162.892 728.5001,-162.892\" stroke=\"#000000\"/>\n",
       "</g>\n",
       "<!-- 139965769451616 -->\n",
       "<g class=\"node\" id=\"node18\">\n",
       "<title>139965769451616</title>\n",
       "<polygon fill=\"none\" points=\"600.8776,-16.5 600.8776,-66.1 849.1224,-66.1 849.1224,-16.5 600.8776,-16.5\" stroke=\"#000000\"/>\n",
       "<text fill=\"#000000\" font-family=\"Times,serif\" font-size=\"14.00\" text-anchor=\"middle\" x=\"658.8429\" y=\"-37.1\">softmax: Softmax</text>\n",
       "<polyline fill=\"none\" points=\"716.8082,-16.5 716.8082,-66.1 \" stroke=\"#000000\"/>\n",
       "<text fill=\"#000000\" font-family=\"Times,serif\" font-size=\"14.00\" text-anchor=\"middle\" x=\"744.6441\" y=\"-49.5\">input:</text>\n",
       "<polyline fill=\"none\" points=\"716.8082,-41.3 772.48,-41.3 \" stroke=\"#000000\"/>\n",
       "<text fill=\"#000000\" font-family=\"Times,serif\" font-size=\"14.00\" text-anchor=\"middle\" x=\"744.6441\" y=\"-24.7\">output:</text>\n",
       "<polyline fill=\"none\" points=\"772.48,-16.5 772.48,-66.1 \" stroke=\"#000000\"/>\n",
       "<text fill=\"#000000\" font-family=\"Times,serif\" font-size=\"14.00\" text-anchor=\"middle\" x=\"810.8012\" y=\"-49.5\">(None, 10)</text>\n",
       "<polyline fill=\"none\" points=\"772.48,-41.3 849.1224,-41.3 \" stroke=\"#000000\"/>\n",
       "<text fill=\"#000000\" font-family=\"Times,serif\" font-size=\"14.00\" text-anchor=\"middle\" x=\"810.8012\" y=\"-24.7\">(None, 10)</text>\n",
       "</g>\n",
       "<!-- 139965769450888&#45;&gt;139965769451616 -->\n",
       "<g class=\"edge\" id=\"edge9\">\n",
       "<title>139965769450888-&gt;139965769451616</title>\n",
       "<path d=\"M725,-102.8517C725,-94.5937 725,-85.2517 725,-76.3864\" fill=\"none\" stroke=\"#000000\"/>\n",
       "<polygon fill=\"#000000\" points=\"728.5001,-76.292 725,-66.292 721.5001,-76.292 728.5001,-76.292\" stroke=\"#000000\"/>\n",
       "</g>\n",
       "</g>\n",
       "</svg>"
      ],
      "text/plain": [
       "<IPython.core.display.SVG object>"
      ]
     },
     "metadata": {},
     "output_type": "display_data"
    }
   ],
   "source": [
    "prior = tfp.distributions.Normal(loc=tf.zeros(encoded_size), scale=1) # loc = mean, scale = std\n",
    "prior = tfp.distributions.Independent(prior, reinterpreted_batch_ndims=1)\n",
    "\n",
    "encoder = tf.keras.models.Sequential(\n",
    "    name=\"encoder\",\n",
    "    layers=[\n",
    "        tf.keras.layers.InputLayer(input_shape=input_shape, name=\"encoder_input\"),\n",
    "        tf.keras.layers.Lambda(lambda x: tf.cast(x, tf.float32) - 0.5),\n",
    "        tf.keras.layers.Flatten(),\n",
    "        tf.keras.layers.Dense(units=hidden_size),\n",
    "        tf.keras.layers.ReLU(),\n",
    "        tf.keras.layers.Dense(\n",
    "            units=tfp.layers.MultivariateNormalTriL.params_size(encoded_size),\n",
    "            activation=None),\n",
    "        tfp.layers.MultivariateNormalTriL(\n",
    "            encoded_size,\n",
    "        activity_regularizer=tfp.layers.KLDivergenceRegularizer(prior)),\n",
    "    ])\n",
    "\n",
    "decoder = tf.keras.models.Sequential(\n",
    "    name=\"decoder\",\n",
    "    layers=[\n",
    "        tf.keras.layers.InputLayer(input_shape=[encoded_size]),\n",
    "        tf.keras.layers.Dense(units=hidden_size),\n",
    "        tf.keras.layers.ReLU(),\n",
    "        tf.keras.layers.Dense(units=output_size),\n",
    "        tfp.layers.IndependentBernoulli(input_shape, tfp.distributions.Bernoulli.logits),\n",
    "    ])\n",
    "\n",
    "classifier = tf.keras.models.Sequential(\n",
    "    name=\"classifier\",\n",
    "    layers=[\n",
    "        tf.keras.layers.InputLayer(input_shape=[encoded_size]),\n",
    "        tf.keras.layers.Flatten(),\n",
    "        tf.keras.layers.Dense(units=hidden_size//2),\n",
    "        tf.keras.layers.ReLU(),\n",
    "        tf.keras.layers.Dense(units=num_classes),\n",
    "        tf.keras.layers.Softmax(),\n",
    "    ])\n",
    "\n",
    "outputs = [\n",
    "    decoder(encoder.outputs[0]),\n",
    "    classifier(encoder.outputs[0]),\n",
    "]\n",
    "\n",
    "vae = tf.keras.models.Model(\n",
    "    name=\"VAE\",\n",
    "    inputs=encoder.inputs,\n",
    "    outputs=outputs)\n",
    "\n",
    "vae.summary()\n",
    "decoder.summary()\n",
    "classifier.summary()\n",
    "\n",
    "display_model(vae, expand_nested=True)"
   ]
  },
  {
   "cell_type": "code",
   "execution_count": 26,
   "metadata": {},
   "outputs": [
    {
     "name": "stdout",
     "output_type": "stream",
     "text": [
      "Epoch 1/10\n",
      "938/938 - 24s - loss: 1025.2047 - decoder_loss: 188.3228 - classifier_loss: 0.7646 - decoder_binary_accuracy: 0.8624 - classifier_sparse_categorical_accuracy: 0.7498 - val_loss: 0.0000e+00 - val_decoder_loss: 0.0000e+00 - val_classifier_loss: 0.0000e+00 - val_decoder_binary_accuracy: 0.0000e+00 - val_classifier_sparse_categorical_accuracy: 0.0000e+00\n",
      "Epoch 2/10\n",
      "938/938 - 21s - loss: 547.1493 - decoder_loss: 157.9918 - classifier_loss: 0.3271 - decoder_binary_accuracy: 0.8971 - classifier_sparse_categorical_accuracy: 0.8979 - val_loss: 480.0426 - val_decoder_loss: 154.3194 - val_classifier_loss: 0.2682 - val_decoder_binary_accuracy: 0.9000 - val_classifier_sparse_categorical_accuracy: 0.9197\n",
      "Epoch 3/10\n",
      "938/938 - 22s - loss: 463.1316 - decoder_loss: 152.0340 - classifier_loss: 0.2549 - decoder_binary_accuracy: 0.9020 - classifier_sparse_categorical_accuracy: 0.9222 - val_loss: 441.0081 - val_decoder_loss: 148.9591 - val_classifier_loss: 0.2394 - val_decoder_binary_accuracy: 0.9056 - val_classifier_sparse_categorical_accuracy: 0.9265\n",
      "Epoch 4/10\n",
      "938/938 - 22s - loss: 422.4756 - decoder_loss: 147.7301 - classifier_loss: 0.2216 - decoder_binary_accuracy: 0.9056 - classifier_sparse_categorical_accuracy: 0.9318 - val_loss: 384.0974 - val_decoder_loss: 144.1866 - val_classifier_loss: 0.1865 - val_decoder_binary_accuracy: 0.9092 - val_classifier_sparse_categorical_accuracy: 0.9397\n",
      "Epoch 5/10\n",
      "938/938 - 22s - loss: 392.8139 - decoder_loss: 144.2816 - classifier_loss: 0.1971 - decoder_binary_accuracy: 0.9083 - classifier_sparse_categorical_accuracy: 0.9393 - val_loss: 396.3015 - val_decoder_loss: 143.3319 - val_classifier_loss: 0.2044 - val_decoder_binary_accuracy: 0.9108 - val_classifier_sparse_categorical_accuracy: 0.9359\n",
      "Epoch 6/10\n",
      "938/938 - 27s - loss: 375.1161 - decoder_loss: 142.4982 - classifier_loss: 0.1828 - decoder_binary_accuracy: 0.9096 - classifier_sparse_categorical_accuracy: 0.9440 - val_loss: 383.8570 - val_decoder_loss: 141.8244 - val_classifier_loss: 0.1943 - val_decoder_binary_accuracy: 0.9101 - val_classifier_sparse_categorical_accuracy: 0.9398\n",
      "Epoch 7/10\n",
      "938/938 - 24s - loss: 364.6076 - decoder_loss: 141.0069 - classifier_loss: 0.1740 - decoder_binary_accuracy: 0.9106 - classifier_sparse_categorical_accuracy: 0.9454 - val_loss: 362.5114 - val_decoder_loss: 139.8235 - val_classifier_loss: 0.1739 - val_decoder_binary_accuracy: 0.9124 - val_classifier_sparse_categorical_accuracy: 0.9475\n",
      "Epoch 8/10\n",
      "938/938 - 25s - loss: 355.5453 - decoder_loss: 139.8174 - classifier_loss: 0.1672 - decoder_binary_accuracy: 0.9116 - classifier_sparse_categorical_accuracy: 0.9481 - val_loss: 373.3416 - val_decoder_loss: 140.3211 - val_classifier_loss: 0.1866 - val_decoder_binary_accuracy: 0.9125 - val_classifier_sparse_categorical_accuracy: 0.9435\n",
      "Epoch 9/10\n",
      "938/938 - 26s - loss: 346.1911 - decoder_loss: 139.0956 - classifier_loss: 0.1591 - decoder_binary_accuracy: 0.9121 - classifier_sparse_categorical_accuracy: 0.9513 - val_loss: 348.9935 - val_decoder_loss: 138.0153 - val_classifier_loss: 0.1641 - val_decoder_binary_accuracy: 0.9142 - val_classifier_sparse_categorical_accuracy: 0.9521\n",
      "Epoch 10/10\n",
      "938/938 - 23s - loss: 340.3863 - decoder_loss: 137.9840 - classifier_loss: 0.1548 - decoder_binary_accuracy: 0.9129 - classifier_sparse_categorical_accuracy: 0.9516 - val_loss: 329.1347 - val_decoder_loss: 136.2299 - val_classifier_loss: 0.1448 - val_decoder_binary_accuracy: 0.9149 - val_classifier_sparse_categorical_accuracy: 0.9565\n"
     ]
    },
    {
     "data": {
      "text/plain": [
       "<tensorflow.python.keras.callbacks.History at 0x7f4c51da3b70>"
      ]
     },
     "execution_count": 26,
     "metadata": {},
     "output_type": "execute_result"
    }
   ],
   "source": [
    "negative_log_likelihood = lambda x, y: -y.log_prob(x) # y is a Random Variable\n",
    "cross_entropy = tf.losses.SparseCategoricalCrossentropy()\n",
    "\n",
    "losses = {\n",
    "    \"decoder\": negative_log_likelihood,\n",
    "    \"classifier\": cross_entropy\n",
    "}\n",
    "\n",
    "loss_weights = {\n",
    "    \"decoder\": 1.0,\n",
    "    \"classifier\": 1000.0\n",
    "}\n",
    "\n",
    "metrics = {\n",
    "    \"decoder\": [tf.metrics.BinaryAccuracy()],\n",
    "    \"classifier\": [tf.metrics.SparseCategoricalAccuracy()],\n",
    "}\n",
    "\n",
    "vae.compile(\n",
    "    optimizer=tf.optimizers.Adam(),\n",
    "    loss=losses,\n",
    "    loss_weights=loss_weights,\n",
    "    metrics=metrics)\n",
    "\n",
    "vae.fit(\n",
    "    train_dataset,\n",
    "    validation_data=eval_dataset,\n",
    "    epochs=10,\n",
    "    verbose=2)"
   ]
  },
  {
   "cell_type": "code",
   "execution_count": 27,
   "metadata": {},
   "outputs": [
    {
     "name": "stdout",
     "output_type": "stream",
     "text": [
      "Originals:\n"
     ]
    },
    {
     "data": {
      "image/png": "[encoded data removed]",
      "text/plain": [
       "<Figure size 720x72 with 10 Axes>"
      ]
     },
     "metadata": {
      "needs_background": "light"
     },
     "output_type": "display_data"
    },
    {
     "name": "stdout",
     "output_type": "stream",
     "text": [
      "Decoded Random Samples:\n"
     ]
    },
    {
     "data": {
      "image/png": "[encoded data removed]",
      "text/plain": [
       "<Figure size 720x72 with 10 Axes>"
      ]
     },
     "metadata": {
      "needs_background": "light"
     },
     "output_type": "display_data"
    },
    {
     "name": "stdout",
     "output_type": "stream",
     "text": [
      "Decoded Modes:\n"
     ]
    },
    {
     "data": {
      "image/png": "[encoded data removed]",
      "text/plain": [
       "<Figure size 720x72 with 10 Axes>"
      ]
     },
     "metadata": {
      "needs_background": "light"
     },
     "output_type": "display_data"
    },
    {
     "name": "stdout",
     "output_type": "stream",
     "text": [
      "Decoded Means:\n"
     ]
    },
    {
     "data": {
      "image/png": "[encoded data removed]",
      "text/plain": [
       "<Figure size 720x72 with 10 Axes>"
      ]
     },
     "metadata": {
      "needs_background": "light"
     },
     "output_type": "display_data"
    }
   ],
   "source": [
    "# We'll just examine ten random digits.\n",
    "x = next(iter(eval_dataset))[0][\"encoder_input\"][:10]\n",
    "xhat = vae(x)[0]\n",
    "assert isinstance(xhat, tfp.distributions.Distribution)\n",
    "\n",
    "print(\"Originals:\")\n",
    "display_images(x)\n",
    "\n",
    "print(\"Decoded Random Samples:\")\n",
    "display_images(xhat.sample())\n",
    "\n",
    "print(\"Decoded Modes:\")\n",
    "display_images(xhat.mode())\n",
    "\n",
    "print(\"Decoded Means:\")\n",
    "display_images(xhat.mean())"
   ]
  },
  {
   "cell_type": "code",
   "execution_count": 28,
   "metadata": {},
   "outputs": [
    {
     "name": "stdout",
     "output_type": "stream",
     "text": [
      "Randomly Generated Samples:\n"
     ]
    },
    {
     "data": {
      "image/png": "[encoded data removed]",
      "text/plain": [
       "<Figure size 720x72 with 10 Axes>"
      ]
     },
     "metadata": {
      "needs_background": "light"
     },
     "output_type": "display_data"
    },
    {
     "name": "stdout",
     "output_type": "stream",
     "text": [
      "Randomly Generated Modes:\n"
     ]
    },
    {
     "data": {
      "image/png": "[encoded data removed]",
      "text/plain": [
       "<Figure size 720x72 with 10 Axes>"
      ]
     },
     "metadata": {
      "needs_background": "light"
     },
     "output_type": "display_data"
    },
    {
     "name": "stdout",
     "output_type": "stream",
     "text": [
      "Randomly Generated Means:\n"
     ]
    },
    {
     "data": {
      "image/png": "[encoded data removed]",
      "text/plain": [
       "<Figure size 720x72 with 10 Axes>"
      ]
     },
     "metadata": {
      "needs_background": "light"
     },
     "output_type": "display_data"
    }
   ],
   "source": [
    "# Now, let's generate ten never-before-seen digits.\n",
    "z = prior.sample(10)\n",
    "xtilde = decoder(z)\n",
    "assert isinstance(xtilde, tfp.distributions.Distribution)\n",
    "\n",
    "print(\"Randomly Generated Samples:\")\n",
    "display_images(xtilde.sample())\n",
    "\n",
    "print(\"Randomly Generated Modes:\")\n",
    "display_images(xtilde.mode())\n",
    "\n",
    "print(\"Randomly Generated Means:\")\n",
    "display_images(xtilde.mean())"
   ]
  },
  {
   "cell_type": "code",
   "execution_count": null,
   "metadata": {},
   "outputs": [],
   "source": []
  }
 ],
 "metadata": {
  "kernelspec": {
   "display_name": "Python [conda env:tensorflow]",
   "language": "python",
   "name": "conda-env-tensorflow-py"
  },
  "language_info": {
   "codemirror_mode": {
    "name": "ipython",
    "version": 3
   },
   "file_extension": ".py",
   "mimetype": "text/x-python",
   "name": "python",
   "nbconvert_exporter": "python",
   "pygments_lexer": "ipython3",
   "version": "3.7.3"
  }
 },
 "nbformat": 4,
 "nbformat_minor": 4
}
