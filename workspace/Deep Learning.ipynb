{
 "cells": [
  {
   "cell_type": "markdown",
   "metadata": {
    "colab_type": "text",
    "id": "bE5ihHt-QWZu"
   },
   "source": [
    "# Julia Deep Learning\n",
    "\n",
    "https://fluxml.ai/\n",
    "\n",
    "https://github.com/FluxML/model-zoo"
   ]
  },
  {
   "cell_type": "code",
   "execution_count": 1,
   "metadata": {
    "colab": {},
    "colab_type": "code",
    "id": "7nCvwjWQQWZw"
   },
   "outputs": [
    {
     "name": "stderr",
     "output_type": "stream",
     "text": [
      "┌ Warning: Incompatibility detected between CUDA and LLVM 8.0+; disabling debug info emission for CUDA kernels\n",
      "└ @ CUDAnative /home/cavani/Workspace/julia-abc/software/julia-env/packages/CUDAnative/hfulr/src/CUDAnative.jl:114\n"
     ]
    },
    {
     "data": {
      "text/plain": [
       "Plots.PyPlotBackend()"
      ]
     },
     "execution_count": 1,
     "metadata": {},
     "output_type": "execute_result"
    }
   ],
   "source": [
    "using Flux\n",
    "using CuArrays\n",
    "using Plots\n",
    "using Plots.PlotMeasures\n",
    "\n",
    "CuArrays.allowscalar(false)\n",
    "\n",
    "pyplot()"
   ]
  },
  {
   "cell_type": "markdown",
   "metadata": {
    "colab_type": "text",
    "id": "l1MgwvZHQWZ5"
   },
   "source": [
    "## MNIST Dataset"
   ]
  },
  {
   "cell_type": "code",
   "execution_count": 2,
   "metadata": {
    "colab": {
     "base_uri": "https://localhost:8080/",
     "height": 459
    },
    "colab_type": "code",
    "id": "JO5zsiRcQWZ_",
    "outputId": "d5db211a-c60d-4543-9501-7b7c55f6a071"
   },
   "outputs": [
    {
     "name": "stdout",
     "output_type": "stream",
     "text": [
      "Train images:\n",
      "\n",
      "type = Array{Array{Gray{FixedPointNumbers.Normed{UInt8,8}},2},1}\n",
      "size = (60000,)\n",
      "shape = (28, 28)\n",
      "\n",
      "Train labels:\n",
      "\n",
      "type = Array{Int64,1}\n",
      "size = (60000,)\n",
      "\n",
      "Test images:\n",
      "\n",
      "type = Array{Array{Gray{FixedPointNumbers.Normed{UInt8,8}},2},1}\n",
      "size = (10000,)\n",
      "shape = (28, 28)\n",
      "\n",
      "Test labels:\n",
      "\n",
      "type = Array{Int64,1}\n",
      "size = (10000,)\n"
     ]
    }
   ],
   "source": [
    "function load_mnist(split_name)\n",
    "    mnist = Flux.Data.MNIST\n",
    "    \n",
    "    images = mnist.images(split_name) # Array with N images of 28x28 8-bits gray\n",
    "    labels = mnist.labels(split_name) # Array with N labels scalar 0-9\n",
    "    \n",
    "    return (images=images, labels=labels)\n",
    "end\n",
    "\n",
    "train_data = load_mnist(:train)\n",
    "test_data = load_mnist(:test)\n",
    "\n",
    "println(\"Train images:\\n\",\n",
    "        \"\\ntype = \", typeof(train_data.images),\n",
    "        \"\\nsize = \", size(train_data.images),\n",
    "        \"\\nshape = \", size(train_data.images[1]),\n",
    "        \"\\n\")\n",
    "println(\"Train labels:\\n\",\n",
    "        \"\\ntype = \", typeof(train_data.labels),\n",
    "        \"\\nsize = \", size(train_data.labels),\n",
    "        \"\\n\")\n",
    "println(\"Test images:\\n\",\n",
    "        \"\\ntype = \", typeof(test_data.images),\n",
    "        \"\\nsize = \", size(test_data.images),\n",
    "        \"\\nshape = \", size(test_data.images[1]),\n",
    "        \"\\n\")\n",
    "println(\"Test labels:\\n\",\n",
    "        \"\\ntype = \", typeof(test_data.labels),\n",
    "        \"\\nsize = \", size(test_data.labels))"
   ]
  },
  {
   "cell_type": "code",
   "execution_count": 3,
   "metadata": {},
   "outputs": [
    {
     "data": {
      "image/png": "[encoded data removed]"
     },
     "execution_count": 3,
     "metadata": {},
     "output_type": "execute_result"
    }
   ],
   "source": [
    "plot_digit(image, label) = plot(image, xlabel=(label !== nothing ? \"Label $(label)\" : \"\"),\n",
    "                                guidefontsize=8, legend=false, margin=0mm, link=:both,\n",
    "                                ticks=nothing, border=:none)\n",
    "function plot_digits(images, labels=nothing; size=(800, 100), layout=(1, length(images)))\n",
    "    plots = map(1:prod(layout)) do i\n",
    "        image = images[i]\n",
    "        label = labels !== nothing ? labels[i] : nothing\n",
    "        plot_digit(image, label)\n",
    "    end\n",
    "    plot(plots..., layout=layout, size=size, bg_color=\"black\", fg_color=\"white\")\n",
    "end\n",
    "\n",
    "function sample(data, size=10)\n",
    "    indices = rand(1:length(data.images), 10)\n",
    "    images = data.images[indices]\n",
    "    labels = data.labels[indices]\n",
    "    return (images=images, labels=labels)\n",
    "end\n",
    "\n",
    "train_sample = sample(train_data)\n",
    "plot_digits(train_sample...)"
   ]
  },
  {
   "cell_type": "code",
   "execution_count": 4,
   "metadata": {},
   "outputs": [
    {
     "data": {
      "image/png": "[encoded data removed]"
     },
     "execution_count": 4,
     "metadata": {},
     "output_type": "execute_result"
    }
   ],
   "source": [
    "function sample_classes(data, sample_size_per_class=10)\n",
    "    class_vector = sort(unique(data.labels))\n",
    "    samples = map(class_vector) do label\n",
    "        label_indices = findall(==(label), data.labels)\n",
    "        sample_indices = rand(label_indices, sample_size_per_class)\n",
    "        images = data.images[sample_indices]\n",
    "        images\n",
    "    end\n",
    "    return samples\n",
    "end\n",
    "\n",
    "train_sample2 = sample_classes(train_data)\n",
    "plot_digits(vcat(train_sample2...); size=(800, 800), layout=(10, 10))"
   ]
  },
  {
   "cell_type": "code",
   "execution_count": 5,
   "metadata": {},
   "outputs": [
    {
     "name": "stdout",
     "output_type": "stream",
     "text": [
      "X (WHCN format):\n",
      "\n",
      "type = Array{Float32,4}\n",
      "size = (28, 28, 1, 10)\n"
     ]
    }
   ],
   "source": [
    "function compute_num_channels(image)\n",
    "    color_type = eltype(image)\n",
    "    if color_type <: Gray\n",
    "        return 1\n",
    "    elseif color_type <: RGB\n",
    "        return 3\n",
    "    else\n",
    "        error(\"Unknown color type: $(color_type)\")\n",
    "    end\n",
    "end\n",
    "\n",
    "function make_whcn_format(images)\n",
    "    width, height = size(images[1])\n",
    "    num_channels = compute_num_channels(images[1])\n",
    "    batch_size = length(images)\n",
    "    @assert num_channels == 1 # only Gray -> Foloat32 supported\n",
    "\n",
    "    images_tensor = Array{Float32, 4}(undef, width, height, num_channels, batch_size)\n",
    "    for (batch_index, image) in enumerate(images)\n",
    "        images_tensor[:, :, :, batch_index] = Float32.(reshape(image, width, height, num_channels))\n",
    "    end\n",
    "    return images_tensor\n",
    "end\n",
    "\n",
    "X_whcn = make_whcn_format(train_sample.images)\n",
    "println(\"X (WHCN format):\\n\",\n",
    "        \"\\ntype = \", typeof(X_whcn),\n",
    "        \"\\nsize = \", size(X_whcn))"
   ]
  },
  {
   "cell_type": "code",
   "execution_count": 6,
   "metadata": {},
   "outputs": [
    {
     "name": "stdout",
     "output_type": "stream",
     "text": [
      "y (One Hot format):\n",
      "\n",
      "type = Array{Float32,2}\n",
      "size = (10, 10)\n"
     ]
    }
   ],
   "source": [
    "import Flux: onehot\n",
    "\n",
    "function make_onehot_format(labels, class_vector)\n",
    "    num_labels = length(class_vector)\n",
    "    batch_size = length(labels)\n",
    "    \n",
    "    labels_tensor = Array{Float32, 2}(undef, num_labels, batch_size)\n",
    "    for (batch_index, label) in enumerate(labels)\n",
    "        labels_tensor[:, batch_index] = Float32.(onehot(label, class_vector))\n",
    "    end\n",
    "    return labels_tensor\n",
    "end\n",
    "\n",
    "y_onehot = make_onehot_format(train_sample.labels, 0:9)\n",
    "println(\"y (One Hot format):\\n\",\n",
    "        \"\\ntype = \", typeof(y_onehot),\n",
    "        \"\\nsize = \", size(y_onehot))"
   ]
  },
  {
   "cell_type": "code",
   "execution_count": 7,
   "metadata": {
    "colab": {
     "base_uri": "https://localhost:8080/",
     "height": 34
    },
    "colab_type": "code",
    "id": "CwgpFe9MQWaJ",
    "outputId": "50a3b89b-889b-43ee-800c-c6edc0362942"
   },
   "outputs": [
    {
     "name": "stdout",
     "output_type": "stream",
     "text": [
      "Train\n",
      "\n",
      "Number of batches   : 235\n",
      "First batch X shape : (28, 28, 1, 256)\n",
      "First batch y shape : (10, 256)\n",
      "Last batch X shape  : (28, 28, 1, 96)\n",
      "Last batch y shape  : (10, 96)\n",
      "\n",
      "Test\n",
      "\n",
      "X shape             : (28, 28, 1, 10000)\n",
      "y shape             : (10, 10000)\n"
     ]
    }
   ],
   "source": [
    "import Base.Iterators: partition\n",
    "\n",
    "function make_batch(images, labels)\n",
    "    X = make_whcn_format(images)\n",
    "    y = make_onehot_format(labels, 0:9)\n",
    "    return (X=X, y=y)\n",
    "end\n",
    "\n",
    "function make_dataset(images, labels; batch_size)\n",
    "    batch_size == 0 && return make_batch(images, labels)\n",
    "    \n",
    "    num_examples = length(images)\n",
    "    num_batches = ceil(Int, num_examples / batch_size)\n",
    "    batch_indices = partition(1:num_examples, batch_size)\n",
    "    batches = map(batch_indices) do indices\n",
    "        make_batch(images[indices], labels[indices])\n",
    "    end\n",
    "    return batches\n",
    "end\n",
    "\n",
    "dataset_train = make_dataset(train_data...; batch_size=256)\n",
    "dataset_test = make_dataset(test_data...; batch_size=0)\n",
    "\n",
    "println(\"Train\\n\")\n",
    "println(\"Number of batches   : \", length(dataset_train))\n",
    "println(\"First batch X shape : \", size(dataset_train[1].X))\n",
    "println(\"First batch y shape : \", size(dataset_train[1].y))\n",
    "println(\"Last batch X shape  : \", size(dataset_train[end].X))\n",
    "println(\"Last batch y shape  : \", size(dataset_train[end].y))\n",
    "println()\n",
    "println(\"Test\\n\")\n",
    "println(\"X shape             : \", size(dataset_test.X))\n",
    "println(\"y shape             : \", size(dataset_test.y))"
   ]
  },
  {
   "cell_type": "markdown",
   "metadata": {
    "colab_type": "text",
    "id": "SgdX8nBkQWax"
   },
   "source": [
    "## More API"
   ]
  },
  {
   "cell_type": "code",
   "execution_count": 8,
   "metadata": {
    "colab": {},
    "colab_type": "code",
    "id": "20-jOvryQWa0"
   },
   "outputs": [],
   "source": [
    "flatten(x) = reshape(x, :, size(x)[end])\n",
    "\n",
    "struct Reshape\n",
    "    dims\n",
    "end\n",
    "\n",
    "(layer::Reshape)(x) = reshape(x, layer.dims..., size(x)[end])"
   ]
  },
  {
   "cell_type": "code",
   "execution_count": 9,
   "metadata": {
    "colab": {},
    "colab_type": "code",
    "id": "20-jOvryQWa0"
   },
   "outputs": [
    {
     "data": {
      "text/plain": [
       "evaluate (generic function with 1 method)"
      ]
     },
     "execution_count": 9,
     "metadata": {},
     "output_type": "execute_result"
    }
   ],
   "source": [
    "import Flux: train!\n",
    "import BSON: bson, load\n",
    "import Printf: @printf\n",
    "\n",
    "bind_model(f, model) = (args...) -> f(model, args...)\n",
    "\n",
    "function run_train(model, train_data, eval_data;\n",
    "                   loss, metric,\n",
    "                   optimizer=ADAM(0.001),\n",
    "                   num_epochs=100,\n",
    "                   early_stopping_mode=:max,\n",
    "                   early_stopping_target=nothing,\n",
    "                   early_stopping_patience=10,\n",
    "                   learning_rate_schedule=5,\n",
    "                   model_file=\"model.bson\")\n",
    "    if early_stopping_mode == :max\n",
    "        better_metric = ≥\n",
    "    elseif early_stopping_mode == :min\n",
    "        better_metric = ≤\n",
    "    else\n",
    "        error(\"early_stopping_mode unknown: $early_stopping_mode\")\n",
    "    end\n",
    "    compute_loss = bind_model(loss, model)\n",
    "    compute_metric = bind_model(metric.fn, model)\n",
    "    best_metric = nothing\n",
    "    last_improvement = 0\n",
    "\n",
    "    epoch_train_loss = Float32[]\n",
    "    epoch_train_metric = Float32[]\n",
    "    epoch_eval_loss = Float32[]\n",
    "    epoch_eval_metric = Float32[]\n",
    "    \n",
    "    for epoch_idx in 1:num_epochs\n",
    "        train_loss_avg = 0.0f0\n",
    "        train_metric_avg = 0.0f0\n",
    "        # Train for a single epoch\n",
    "        for i in 1:length(train_data)\n",
    "            let data = gpu(train_data[i])\n",
    "                train!(compute_loss, params(model), [data], optimizer)\n",
    "                train_loss_avg += (compute_loss(data...) - train_loss_avg) / i\n",
    "                train_metric_avg += (compute_metric(data...) - train_metric_avg) / i\n",
    "            end\n",
    "        end\n",
    "\n",
    "        # Calculate metric:\n",
    "        eval_loss, eval_metric = let data = gpu(eval_data)\n",
    "            compute_loss(data...), compute_metric(data...)\n",
    "        end\n",
    "\n",
    "        push!(epoch_train_loss, train_loss_avg)\n",
    "        push!(epoch_train_metric, train_metric_avg)\n",
    "        push!(epoch_eval_loss, eval_loss)\n",
    "        push!(epoch_eval_metric, eval_metric)\n",
    "        \n",
    "        @printf(\"[%d] Eval %s: %.4f\\n\", epoch_idx, metric.name, eval_metric)\n",
    "\n",
    "        # If this is the best metric we've seen so far, save the model out\n",
    "        if best_metric === nothing || better_metric(eval_metric, best_metric)\n",
    "            println(\" -> New best $(metric.name)! Saving model out to $(model_file)\")\n",
    "            bson(model_file,\n",
    "                model  = cpu(model),\n",
    "                epoch  = epoch_idx,\n",
    "                metric = eval_metric\n",
    "            )\n",
    "            best_metric = eval_metric\n",
    "            last_improvement = epoch_idx\n",
    "        end\n",
    "\n",
    "        # If our metric is good enough, quit out.\n",
    "        if early_stopping_target !== nothing && better_metric(eval_metric, early_stopping_target)\n",
    "            println(\" -> Early-exiting: We reached our target $(metric.name) of $early_stopping_target\")\n",
    "            break\n",
    "        end\n",
    "\n",
    "        # If we haven't seen improvement in N epochs, drop our learning rate:\n",
    "        if epoch_idx - last_improvement ≥ learning_rate_schedule && optimizer.eta > 1e-6\n",
    "            optimizer.eta /= 10.0\n",
    "            println(\" -> Haven't improved in a while, dropping learning rate to $(optimizer.eta)!\")\n",
    "\n",
    "            # After dropping learning rate, give it a few epochs to improve\n",
    "            last_improvement = epoch_idx\n",
    "        end\n",
    "\n",
    "        if epoch_idx - last_improvement ≥ early_stopping_patience\n",
    "            println(\" -> We're calling this converged.\")\n",
    "            break\n",
    "        end\n",
    "    end\n",
    "    \n",
    "    return (\n",
    "        metric_name        = metric.name,\n",
    "        epoch_train_loss   = epoch_train_loss,\n",
    "        epoch_train_metric = epoch_train_metric,\n",
    "        epoch_eval_loss    = epoch_eval_loss,\n",
    "        epoch_eval_metric  = epoch_eval_metric,\n",
    "    )\n",
    "end\n",
    "\n",
    "function load_model(model_file; use_gpu=true)\n",
    "    model = load(model_file)[:model]\n",
    "    if use_gpu\n",
    "        model = gpu(model)\n",
    "    end\n",
    "    return model\n",
    "end\n",
    "\n",
    "function evaluate(model, eval_data; metrics)\n",
    "    println(\"Evaluation\\n\")\n",
    "    \n",
    "    data = gpu(eval_data)\n",
    "    for metric in metrics\n",
    "        compute_metric = bind_model(metric.fn, model)\n",
    "        metric_eval = compute_metric(data...)\n",
    "        println(rpad(metric.name, 10), \" : \", metric_eval)\n",
    "    end\n",
    "end"
   ]
  },
  {
   "cell_type": "code",
   "execution_count": 10,
   "metadata": {},
   "outputs": [
    {
     "data": {
      "text/plain": [
       "plot_train_log (generic function with 1 method)"
      ]
     },
     "execution_count": 10,
     "metadata": {},
     "output_type": "execute_result"
    }
   ],
   "source": [
    "function plot_loss(log; fig_size=(800, 400))\n",
    "    num_epochs = length(log.epoch_train_loss)\n",
    "    p = plot(; title=\"Epoch Loss\", xlabel=\"Epoch\", xlims=(0, num_epochs), xticks=0:num_epochs,\n",
    "               xrotation=90, xtickfontsize=5, ylabel=\"Loss\", framestyle=:semi, size=fig_size)\n",
    "    plot!(p, log.epoch_train_loss; label=\"Train\")\n",
    "    plot!(p, log.epoch_eval_loss; label=\"Eval\")\n",
    "    return p\n",
    "end\n",
    "\n",
    "function plot_metric(log; fig_size=(800, 400))\n",
    "    num_epochs = length(log.epoch_train_metric)\n",
    "    p = plot(; title=\"Epoch $(log.metric_name)\",\n",
    "               xlabel=\"Epoch\", xlims=(0, num_epochs), xticks=0:num_epochs,\n",
    "               xrotation=90, xtickfontsize=5, ylabel=log.metric_name,\n",
    "               framestyle=:semi, size=fig_size)\n",
    "    plot!(p, log.epoch_train_metric; label=\"Train\")\n",
    "    plot!(p, log.epoch_eval_metric; label=\"Eval\")\n",
    "    return p\n",
    "end\n",
    "\n",
    "function plot_train_log(log; fig_size=(1200, 350))\n",
    "    p_loss = plot_loss(log)\n",
    "    p_metric = plot_metric(log)\n",
    "    plot(p_loss, p_metric; layout=(1, 2), size=fig_size)\n",
    "end"
   ]
  },
  {
   "cell_type": "code",
   "execution_count": 11,
   "metadata": {},
   "outputs": [
    {
     "data": {
      "text/plain": [
       "accuracy (generic function with 1 method)"
      ]
     },
     "execution_count": 11,
     "metadata": {},
     "output_type": "execute_result"
    }
   ],
   "source": [
    "import Flux: logitcrossentropy, mse, onecold\n",
    "import Statistics: mean\n",
    "\n",
    "function crossentropy(model, x, y)\n",
    "    logits = model[1:end-1](x)\n",
    "    return logitcrossentropy(logits, y)\n",
    "end\n",
    "\n",
    "function crossentropy_noise(model, x, y)\n",
    "    x_aug = x .+ 0.1f0 * gpu(randn(eltype(x), size(x)))\n",
    "    logits = model[1:end-1](x)\n",
    "    return logitcrossentropy(logits, y)\n",
    "end\n",
    "\n",
    "function mse(model, x, y)\n",
    "    ŷ = model(x)\n",
    "    return mse(ŷ, y)\n",
    "end\n",
    "\n",
    "function accuracy(model, x, y)\n",
    "    ŷ = model(x)\n",
    "    return mean(onecold(cpu(ŷ)) .== onecold(cpu(y)))\n",
    "end"
   ]
  },
  {
   "cell_type": "markdown",
   "metadata": {
    "colab_type": "text",
    "id": "RMXKyAebQWbm"
   },
   "source": [
    "## CNN\n",
    "\n",
    "https://github.com/FluxML/model-zoo/blob/master/vision/mnist/conv.jl"
   ]
  },
  {
   "cell_type": "code",
   "execution_count": 12,
   "metadata": {
    "colab": {
     "base_uri": "https://localhost:8080/",
     "height": 54
    },
    "colab_type": "code",
    "id": "NodbMIjjQWbq",
    "outputId": "bb56c4ac-61d8-4aee-cd44-0d0442dc9fad"
   },
   "outputs": [
    {
     "data": {
      "text/plain": [
       "Chain(Conv((3, 3), 1=>16, relu), MaxPool((2, 2), pad = (0, 0, 0, 0), stride = (2, 2)), Conv((3, 3), 16=>32, relu), MaxPool((2, 2), pad = (0, 0, 0, 0), stride = (2, 2)), Conv((3, 3), 32=>32, relu), MaxPool((2, 2), pad = (0, 0, 0, 0), stride = (2, 2)), flatten, Dense(288, 10), softmax)"
      ]
     },
     "execution_count": 12,
     "metadata": {},
     "output_type": "execute_result"
    }
   ],
   "source": [
    "function make_cnn(input_shape, output_size; use_gpu=true)\n",
    "    fc_size = (input_shape.width ÷ 2 ÷ 2 ÷ 2) * (input_shape.height ÷ 2 ÷ 2 ÷ 2) * 32\n",
    "\n",
    "    model = Chain(\n",
    "        Conv((3, 3), input_shape.num_channels => 16, pad=(1, 1), relu),\n",
    "        MaxPool((2, 2)),\n",
    "\n",
    "        Conv((3, 3), 16 => 32, pad=(1, 1), relu),\n",
    "        MaxPool((2, 2)),\n",
    "\n",
    "        Conv((3, 3), 32 => 32, pad=(1, 1), relu),\n",
    "        MaxPool((2, 2)),\n",
    "\n",
    "        flatten,\n",
    "        Dense(fc_size, output_size),\n",
    "        softmax\n",
    "    )\n",
    "\n",
    "    if use_gpu\n",
    "        model = gpu(model)\n",
    "    end\n",
    "    \n",
    "    return model\n",
    "end\n",
    "\n",
    "cnn_input_shape = (width=28, height=28, num_channels=1)\n",
    "cnn_output_size = 10 # 0-9\n",
    "\n",
    "cnn = make_cnn(cnn_input_shape, cnn_output_size)"
   ]
  },
  {
   "cell_type": "code",
   "execution_count": 13,
   "metadata": {
    "colab": {
     "base_uri": "https://localhost:8080/",
     "height": 204
    },
    "colab_type": "code",
    "id": "TV2YmXl5QWb3",
    "outputId": "7169bc75-481f-4d0e-b198-2a89282c0868"
   },
   "outputs": [
    {
     "data": {
      "text/plain": [
       "10×256 CuArray{Float32,2,Nothing}:\n",
       " 0.106027   0.109194   0.105624   …  0.101774   0.104281   0.104623\n",
       " 0.0860874  0.0848391  0.0924384     0.0856652  0.0871659  0.0844299\n",
       " 0.0995795  0.102366   0.0938857     0.10037    0.0997504  0.0977106\n",
       " 0.100808   0.101715   0.0995766     0.107806   0.0966349  0.100296\n",
       " 0.110268   0.106878   0.110831      0.115563   0.114373   0.111519\n",
       " 0.102702   0.100636   0.099183   …  0.0986522  0.0998884  0.10111\n",
       " 0.0949962  0.0994629  0.0957265     0.0883231  0.101967   0.0974411\n",
       " 0.0983481  0.100439   0.0954931     0.095164   0.098423   0.100356\n",
       " 0.0944679  0.0887598  0.0977566     0.0975486  0.0895508  0.0954257\n",
       " 0.106716   0.105711   0.109485      0.109134   0.107966   0.107089"
      ]
     },
     "execution_count": 13,
     "metadata": {},
     "output_type": "execute_result"
    }
   ],
   "source": [
    "X1, y1 = gpu(dataset_train[1])\n",
    "ŷ1 = cnn(X1)"
   ]
  },
  {
   "cell_type": "code",
   "execution_count": 14,
   "metadata": {
    "colab": {
     "base_uri": "https://localhost:8080/",
     "height": 68
    },
    "colab_type": "code",
    "id": "wOTH9r0pQWcB",
    "outputId": "f9b5c0c4-bf97-41e7-d575-ef4c7e79ad85"
   },
   "outputs": [
    {
     "name": "stdout",
     "output_type": "stream",
     "text": [
      "Train (batch 1)\n",
      "\n",
      "Loss     : 2.303612\n",
      "Accuracy : 0.10546875\n"
     ]
    }
   ],
   "source": [
    "loss_train = crossentropy_noise(cnn, X1, y1)\n",
    "metric_train = accuracy(cnn, X1, y1)\n",
    "\n",
    "println(\"Train (batch 1)\\n\")    \n",
    "println(\"Loss     : \", loss_train)\n",
    "println(\"Accuracy : \", metric_train)"
   ]
  },
  {
   "cell_type": "code",
   "execution_count": 15,
   "metadata": {
    "colab": {
     "base_uri": "https://localhost:8080/",
     "height": 1000
    },
    "colab_type": "code",
    "id": "-gJemaoGQWcI",
    "outputId": "c80427c6-3a17-436a-b2bd-f8e7ba2a86c2"
   },
   "outputs": [
    {
     "name": "stdout",
     "output_type": "stream",
     "text": [
      "[1] Eval Accuracy: 0.9504\n",
      " -> New best Accuracy! Saving model out to cnn_mnist.bson\n",
      "[2] Eval Accuracy: 0.9704\n",
      " -> New best Accuracy! Saving model out to cnn_mnist.bson\n",
      "[3] Eval Accuracy: 0.9755\n",
      " -> New best Accuracy! Saving model out to cnn_mnist.bson\n",
      "[4] Eval Accuracy: 0.9799\n",
      " -> New best Accuracy! Saving model out to cnn_mnist.bson\n",
      "[5] Eval Accuracy: 0.9810\n",
      " -> New best Accuracy! Saving model out to cnn_mnist.bson\n",
      "[6] Eval Accuracy: 0.9821\n",
      " -> New best Accuracy! Saving model out to cnn_mnist.bson\n",
      "[7] Eval Accuracy: 0.9831\n",
      " -> New best Accuracy! Saving model out to cnn_mnist.bson\n",
      "[8] Eval Accuracy: 0.9840\n",
      " -> New best Accuracy! Saving model out to cnn_mnist.bson\n",
      "[9] Eval Accuracy: 0.9846\n",
      " -> New best Accuracy! Saving model out to cnn_mnist.bson\n",
      "[10] Eval Accuracy: 0.9848\n",
      " -> New best Accuracy! Saving model out to cnn_mnist.bson\n",
      "[11] Eval Accuracy: 0.9854\n",
      " -> New best Accuracy! Saving model out to cnn_mnist.bson\n",
      "[12] Eval Accuracy: 0.9857\n",
      " -> New best Accuracy! Saving model out to cnn_mnist.bson\n",
      "[13] Eval Accuracy: 0.9860\n",
      " -> New best Accuracy! Saving model out to cnn_mnist.bson\n",
      "[14] Eval Accuracy: 0.9865\n",
      " -> New best Accuracy! Saving model out to cnn_mnist.bson\n",
      "[15] Eval Accuracy: 0.9867\n",
      " -> New best Accuracy! Saving model out to cnn_mnist.bson\n",
      "[16] Eval Accuracy: 0.9864\n",
      "[17] Eval Accuracy: 0.9862\n",
      "[18] Eval Accuracy: 0.9855\n",
      "[19] Eval Accuracy: 0.9856\n",
      "[20] Eval Accuracy: 0.9856\n",
      " -> Haven't improved in a while, dropping learning rate to 0.0001!\n",
      "[21] Eval Accuracy: 0.9903\n",
      " -> New best Accuracy! Saving model out to cnn_mnist.bson\n",
      "[22] Eval Accuracy: 0.9903\n",
      " -> New best Accuracy! Saving model out to cnn_mnist.bson\n",
      "[23] Eval Accuracy: 0.9906\n",
      " -> New best Accuracy! Saving model out to cnn_mnist.bson\n",
      "[24] Eval Accuracy: 0.9905\n",
      "[25] Eval Accuracy: 0.9905\n",
      "[26] Eval Accuracy: 0.9906\n",
      " -> New best Accuracy! Saving model out to cnn_mnist.bson\n",
      "[27] Eval Accuracy: 0.9907\n",
      " -> New best Accuracy! Saving model out to cnn_mnist.bson\n",
      "[28] Eval Accuracy: 0.9907\n",
      " -> New best Accuracy! Saving model out to cnn_mnist.bson\n",
      "[29] Eval Accuracy: 0.9906\n",
      "[30] Eval Accuracy: 0.9908\n",
      " -> New best Accuracy! Saving model out to cnn_mnist.bson\n",
      "[31] Eval Accuracy: 0.9907\n",
      "[32] Eval Accuracy: 0.9908\n",
      " -> New best Accuracy! Saving model out to cnn_mnist.bson\n",
      "[33] Eval Accuracy: 0.9908\n",
      " -> New best Accuracy! Saving model out to cnn_mnist.bson\n",
      "[34] Eval Accuracy: 0.9908\n",
      " -> New best Accuracy! Saving model out to cnn_mnist.bson\n",
      "[35] Eval Accuracy: 0.9909\n",
      " -> New best Accuracy! Saving model out to cnn_mnist.bson\n",
      "[36] Eval Accuracy: 0.9909\n",
      " -> New best Accuracy! Saving model out to cnn_mnist.bson\n",
      "[37] Eval Accuracy: 0.9910\n",
      " -> New best Accuracy! Saving model out to cnn_mnist.bson\n",
      "[38] Eval Accuracy: 0.9910\n",
      " -> New best Accuracy! Saving model out to cnn_mnist.bson\n",
      "[39] Eval Accuracy: 0.9910\n",
      " -> New best Accuracy! Saving model out to cnn_mnist.bson\n",
      "[40] Eval Accuracy: 0.9911\n",
      " -> New best Accuracy! Saving model out to cnn_mnist.bson\n",
      "[41] Eval Accuracy: 0.9911\n",
      " -> New best Accuracy! Saving model out to cnn_mnist.bson\n",
      "[42] Eval Accuracy: 0.9910\n",
      "[43] Eval Accuracy: 0.9910\n",
      "[44] Eval Accuracy: 0.9910\n",
      "[45] Eval Accuracy: 0.9909\n",
      "[46] Eval Accuracy: 0.9909\n",
      " -> Haven't improved in a while, dropping learning rate to 1.0e-5!\n",
      "[47] Eval Accuracy: 0.9906\n",
      "[48] Eval Accuracy: 0.9906\n",
      "[49] Eval Accuracy: 0.9905\n",
      "[50] Eval Accuracy: 0.9905\n",
      "[51] Eval Accuracy: 0.9905\n",
      " -> Haven't improved in a while, dropping learning rate to 1.0000000000000002e-6!\n",
      "[52] Eval Accuracy: 0.9905\n",
      "[53] Eval Accuracy: 0.9905\n",
      "[54] Eval Accuracy: 0.9907\n",
      "[55] Eval Accuracy: 0.9907\n",
      "[56] Eval Accuracy: 0.9906\n",
      " -> Haven't improved in a while, dropping learning rate to 1.0000000000000002e-7!\n",
      "[57] Eval Accuracy: 0.9906\n",
      "[58] Eval Accuracy: 0.9906\n",
      "[59] Eval Accuracy: 0.9906\n",
      "[60] Eval Accuracy: 0.9906\n",
      "[61] Eval Accuracy: 0.9906\n",
      "[62] Eval Accuracy: 0.9906\n",
      "[63] Eval Accuracy: 0.9906\n",
      "[64] Eval Accuracy: 0.9906\n",
      "[65] Eval Accuracy: 0.9906\n",
      "[66] Eval Accuracy: 0.9906\n",
      " -> We're calling this converged.\n"
     ]
    }
   ],
   "source": [
    "log = run_train(cnn, dataset_train, dataset_test;\n",
    "                loss=crossentropy_noise,\n",
    "                metric=(name=\"Accuracy\", fn=accuracy),\n",
    "                model_file=\"cnn_mnist.bson\");"
   ]
  },
  {
   "cell_type": "code",
   "execution_count": 16,
   "metadata": {},
   "outputs": [
    {
     "data": {
      "image/png": "[encoded data removed]"
     },
     "execution_count": 16,
     "metadata": {},
     "output_type": "execute_result"
    }
   ],
   "source": [
    "plot_train_log(log)"
   ]
  },
  {
   "cell_type": "code",
   "execution_count": 17,
   "metadata": {
    "colab": {
     "base_uri": "https://localhost:8080/",
     "height": 54
    },
    "colab_type": "code",
    "id": "0b6tYj7tQWcX",
    "outputId": "792247ca-81fb-42c4-c848-c969a094e2aa"
   },
   "outputs": [
    {
     "name": "stdout",
     "output_type": "stream",
     "text": [
      "Evaluation\n",
      "\n",
      "Loss       : 0.033667997\n",
      "Accuracy   : 0.9911\n"
     ]
    }
   ],
   "source": [
    "best_cnn = load_model(\"cnn_mnist.bson\")\n",
    "evaluate(best_cnn, dataset_test;\n",
    "         metrics=[(name=\"Loss\", fn=crossentropy_noise), (name=\"Accuracy\", fn=accuracy)])"
   ]
  },
  {
   "cell_type": "code",
   "execution_count": 18,
   "metadata": {
    "colab": {},
    "colab_type": "code",
    "id": "NN6zs-UgQWcR"
   },
   "outputs": [],
   "source": [
    "best_cnn = nothing\n",
    "cnn = nothing\n",
    "X1 = nothing\n",
    "y1 = nothing\n",
    "ŷ1 = nothing\n",
    "GC.gc()"
   ]
  },
  {
   "cell_type": "markdown",
   "metadata": {
    "colab_type": "text",
    "id": "IiAOc9XbQWa7"
   },
   "source": [
    "## MLP\n",
    "\n",
    "https://github.com/FluxML/model-zoo/blob/master/vision/mnist/mlp.jl"
   ]
  },
  {
   "cell_type": "code",
   "execution_count": 19,
   "metadata": {
    "colab": {
     "base_uri": "https://localhost:8080/",
     "height": 68
    },
    "colab_type": "code",
    "id": "pWfHp-5DQWa9",
    "outputId": "99254191-48cb-464e-aea3-5d894d833159"
   },
   "outputs": [
    {
     "data": {
      "text/plain": [
       "Chain(flatten, Dense(784, 500, relu), Dense(500, 10), softmax)"
      ]
     },
     "execution_count": 19,
     "metadata": {},
     "output_type": "execute_result"
    }
   ],
   "source": [
    "function make_mlp(input_size, output_size, hidden_size; use_gpu=true)\n",
    "    model = Chain(\n",
    "        flatten,\n",
    "        Dense(input_size, hidden_size, relu),\n",
    "        Dense(hidden_size, output_size),\n",
    "        softmax\n",
    "    )\n",
    "    if use_gpu\n",
    "        model = gpu(model)\n",
    "    end\n",
    "    return model\n",
    "end\n",
    "\n",
    "mlp_input_size = 28 * 28 * 1 # w * h * #c\n",
    "mlp_output_size = 10 # 0-9\n",
    "mlp_hidden_size = 500\n",
    "\n",
    "mlp = make_mlp(mlp_input_size, mlp_output_size, mlp_hidden_size)"
   ]
  },
  {
   "cell_type": "code",
   "execution_count": 20,
   "metadata": {
    "colab": {
     "base_uri": "https://localhost:8080/",
     "height": 204
    },
    "colab_type": "code",
    "id": "vTcJcNO8QWbB",
    "outputId": "b0307fbc-2fc3-4944-9e4d-0b376ad506de"
   },
   "outputs": [
    {
     "data": {
      "text/plain": [
       "10×256 CuArray{Float32,2,Nothing}:\n",
       " 0.0990894  0.104886   0.0848008  …  0.0812579  0.110286   0.103854\n",
       " 0.0721532  0.0956504  0.080812      0.0764501  0.0813032  0.0740671\n",
       " 0.120756   0.107783   0.118661      0.130714   0.0973768  0.106867\n",
       " 0.0901349  0.0577495  0.0892127     0.0923822  0.0782266  0.0600356\n",
       " 0.125018   0.102042   0.15319       0.17375    0.0870664  0.180941\n",
       " 0.137373   0.0877757  0.107645   …  0.0822332  0.162327   0.114316\n",
       " 0.13354    0.139287   0.108263      0.135991   0.0934332  0.101185\n",
       " 0.104528   0.176408   0.0709608     0.123069   0.13388    0.156716\n",
       " 0.0557082  0.0455874  0.0785594     0.0574356  0.0578464  0.0546465\n",
       " 0.0616991  0.0828314  0.107896      0.0467174  0.0982553  0.0473715"
      ]
     },
     "execution_count": 20,
     "metadata": {},
     "output_type": "execute_result"
    }
   ],
   "source": [
    "X1, y1 = gpu(dataset_train[1])\n",
    "ŷ1 = mlp(X1)"
   ]
  },
  {
   "cell_type": "code",
   "execution_count": 21,
   "metadata": {
    "colab": {
     "base_uri": "https://localhost:8080/",
     "height": 136
    },
    "colab_type": "code",
    "id": "hXHbkPqjQWbF",
    "outputId": "fdaf6449-5419-4872-a295-e711d3bed7e3"
   },
   "outputs": [
    {
     "name": "stdout",
     "output_type": "stream",
     "text": [
      "Train (batch 1)\n",
      "\n",
      "Loss     : 2.4113116\n",
      "Accuracy : 0.0703125\n"
     ]
    }
   ],
   "source": [
    "loss_train = crossentropy(mlp, X1, y1)\n",
    "metric_train = accuracy(mlp, X1, y1)\n",
    "\n",
    "println(\"Train (batch 1)\\n\")    \n",
    "println(\"Loss     : \", loss_train)\n",
    "println(\"Accuracy : \", metric_train)"
   ]
  },
  {
   "cell_type": "code",
   "execution_count": 22,
   "metadata": {
    "colab": {
     "base_uri": "https://localhost:8080/",
     "height": 1000
    },
    "colab_type": "code",
    "id": "3sITeQsMQWbK",
    "outputId": "0ffb1904-3d80-4cc0-ef53-f85453478c7b"
   },
   "outputs": [
    {
     "name": "stdout",
     "output_type": "stream",
     "text": [
      "[1] Eval Accuracy: 0.9508\n",
      " -> New best Accuracy! Saving model out to mlp_mnist.bson\n",
      "[2] Eval Accuracy: 0.9637\n",
      " -> New best Accuracy! Saving model out to mlp_mnist.bson\n",
      "[3] Eval Accuracy: 0.9698\n",
      " -> New best Accuracy! Saving model out to mlp_mnist.bson\n",
      "[4] Eval Accuracy: 0.9724\n",
      " -> New best Accuracy! Saving model out to mlp_mnist.bson\n",
      "[5] Eval Accuracy: 0.9741\n",
      " -> New best Accuracy! Saving model out to mlp_mnist.bson\n",
      "[6] Eval Accuracy: 0.9747\n",
      " -> New best Accuracy! Saving model out to mlp_mnist.bson\n",
      "[7] Eval Accuracy: 0.9758\n",
      " -> New best Accuracy! Saving model out to mlp_mnist.bson\n",
      "[8] Eval Accuracy: 0.9763\n",
      " -> New best Accuracy! Saving model out to mlp_mnist.bson\n",
      "[9] Eval Accuracy: 0.9769\n",
      " -> New best Accuracy! Saving model out to mlp_mnist.bson\n",
      "[10] Eval Accuracy: 0.9770\n",
      " -> New best Accuracy! Saving model out to mlp_mnist.bson\n",
      "[11] Eval Accuracy: 0.9775\n",
      " -> New best Accuracy! Saving model out to mlp_mnist.bson\n",
      "[12] Eval Accuracy: 0.9782\n",
      " -> New best Accuracy! Saving model out to mlp_mnist.bson\n",
      "[13] Eval Accuracy: 0.9791\n",
      " -> New best Accuracy! Saving model out to mlp_mnist.bson\n",
      "[14] Eval Accuracy: 0.9797\n",
      " -> New best Accuracy! Saving model out to mlp_mnist.bson\n",
      "[15] Eval Accuracy: 0.9794\n",
      "[16] Eval Accuracy: 0.9789\n",
      "[17] Eval Accuracy: 0.9792\n",
      "[18] Eval Accuracy: 0.9794\n",
      "[19] Eval Accuracy: 0.9798\n",
      " -> New best Accuracy! Saving model out to mlp_mnist.bson\n",
      "[20] Eval Accuracy: 0.9802\n",
      " -> New best Accuracy! Saving model out to mlp_mnist.bson\n",
      "[21] Eval Accuracy: 0.9815\n",
      " -> New best Accuracy! Saving model out to mlp_mnist.bson\n",
      "[22] Eval Accuracy: 0.9818\n",
      " -> New best Accuracy! Saving model out to mlp_mnist.bson\n",
      "[23] Eval Accuracy: 0.9819\n",
      " -> New best Accuracy! Saving model out to mlp_mnist.bson\n",
      "[24] Eval Accuracy: 0.9818\n",
      "[25] Eval Accuracy: 0.9815\n",
      "[26] Eval Accuracy: 0.9806\n",
      "[27] Eval Accuracy: 0.9804\n",
      "[28] Eval Accuracy: 0.9804\n",
      " -> Haven't improved in a while, dropping learning rate to 0.0001!\n",
      "[29] Eval Accuracy: 0.9823\n",
      " -> New best Accuracy! Saving model out to mlp_mnist.bson\n",
      "[30] Eval Accuracy: 0.9826\n",
      " -> New best Accuracy! Saving model out to mlp_mnist.bson\n",
      "[31] Eval Accuracy: 0.9823\n",
      "[32] Eval Accuracy: 0.9824\n",
      "[33] Eval Accuracy: 0.9824\n",
      "[34] Eval Accuracy: 0.9825\n",
      "[35] Eval Accuracy: 0.9825\n",
      " -> Haven't improved in a while, dropping learning rate to 1.0e-5!\n",
      "[36] Eval Accuracy: 0.9824\n",
      "[37] Eval Accuracy: 0.9824\n",
      "[38] Eval Accuracy: 0.9824\n",
      "[39] Eval Accuracy: 0.9824\n",
      "[40] Eval Accuracy: 0.9824\n",
      " -> Haven't improved in a while, dropping learning rate to 1.0000000000000002e-6!\n",
      "[41] Eval Accuracy: 0.9824\n",
      "[42] Eval Accuracy: 0.9824\n",
      "[43] Eval Accuracy: 0.9824\n",
      "[44] Eval Accuracy: 0.9824\n",
      "[45] Eval Accuracy: 0.9824\n",
      " -> Haven't improved in a while, dropping learning rate to 1.0000000000000002e-7!\n",
      "[46] Eval Accuracy: 0.9824\n",
      "[47] Eval Accuracy: 0.9824\n",
      "[48] Eval Accuracy: 0.9824\n",
      "[49] Eval Accuracy: 0.9824\n",
      "[50] Eval Accuracy: 0.9824\n",
      "[51] Eval Accuracy: 0.9824\n",
      "[52] Eval Accuracy: 0.9824\n",
      "[53] Eval Accuracy: 0.9824\n",
      "[54] Eval Accuracy: 0.9824\n",
      "[55] Eval Accuracy: 0.9824\n",
      " -> We're calling this converged.\n"
     ]
    }
   ],
   "source": [
    "log = run_train(mlp, dataset_train, dataset_test;\n",
    "                loss=crossentropy,\n",
    "                metric=(name=\"Accuracy\", fn=accuracy),\n",
    "                model_file=\"mlp_mnist.bson\");"
   ]
  },
  {
   "cell_type": "code",
   "execution_count": 23,
   "metadata": {},
   "outputs": [
    {
     "data": {
      "image/png": "[encoded data removed]"
     },
     "execution_count": 23,
     "metadata": {},
     "output_type": "execute_result"
    }
   ],
   "source": [
    "plot_train_log(log)"
   ]
  },
  {
   "cell_type": "code",
   "execution_count": 24,
   "metadata": {
    "colab": {
     "base_uri": "https://localhost:8080/",
     "height": 34
    },
    "colab_type": "code",
    "id": "pWjJXxdKQWbU",
    "outputId": "b56d6126-3878-458d-adca-7f93d79a1cfc"
   },
   "outputs": [
    {
     "name": "stdout",
     "output_type": "stream",
     "text": [
      "Evaluation\n",
      "\n",
      "Loss       : 0.07242845\n",
      "Accuracy   : 0.9826\n"
     ]
    }
   ],
   "source": [
    "best_mlp = load_model(\"mlp_mnist.bson\")\n",
    "evaluate(best_mlp, dataset_test;\n",
    "         metrics=[(name=\"Loss\", fn=crossentropy), (name=\"Accuracy\", fn=accuracy)])"
   ]
  },
  {
   "cell_type": "code",
   "execution_count": 25,
   "metadata": {
    "colab": {},
    "colab_type": "code",
    "id": "-XGr8VKKQWbR"
   },
   "outputs": [],
   "source": [
    "best_mlp = nothing\n",
    "mlp = nothing\n",
    "X1 = nothing\n",
    "y1 = nothing\n",
    "ŷ1 = nothing\n",
    "GC.gc()"
   ]
  },
  {
   "cell_type": "markdown",
   "metadata": {
    "colab_type": "text",
    "id": "At4QL3tpQWcg"
   },
   "source": [
    "## Autoencoder\n",
    "\n",
    "https://github.com/FluxML/model-zoo/blob/master/vision/mnist/autoencoder.jl"
   ]
  },
  {
   "cell_type": "code",
   "execution_count": 26,
   "metadata": {
    "colab": {
     "base_uri": "https://localhost:8080/",
     "height": 54
    },
    "colab_type": "code",
    "id": "2FF9RV-7QWch",
    "outputId": "1838d9ee-acab-4765-8a74-0d2472425170"
   },
   "outputs": [
    {
     "data": {
      "text/plain": [
       "Chain(Chain(flatten, Dense(784, 500, leakyrelu), Dense(500, 50, leakyrelu)), Chain(Dense(50, 500, leakyrelu), Dense(500, 784, leakyrelu), Reshape((28, 28, 1))))"
      ]
     },
     "execution_count": 26,
     "metadata": {},
     "output_type": "execute_result"
    }
   ],
   "source": [
    "function make_autoencoder(input_shape, hidden_size, encoded_size; use_gpu=true)\n",
    "    encoder = Chain(\n",
    "        flatten,\n",
    "        Dense(prod(input_shape), hidden_size, leakyrelu),\n",
    "        Dense(hidden_size, encoded_size, leakyrelu),\n",
    "    )\n",
    "\n",
    "    decoder = Chain(\n",
    "        Dense(encoded_size, hidden_size, leakyrelu),\n",
    "        Dense(hidden_size, prod(input_shape), leakyrelu),\n",
    "        Reshape(input_shape),\n",
    "    )\n",
    "\n",
    "    model = Chain(encoder, decoder)\n",
    "\n",
    "    if use_gpu\n",
    "        model = gpu(model)\n",
    "    end\n",
    "    \n",
    "    return model\n",
    "end\n",
    "\n",
    "ae_input_shape = (28, 28, 1)\n",
    "ae_hidden_size = 500\n",
    "ae_encoded_size = 50\n",
    "\n",
    "autoencoder = make_autoencoder(ae_input_shape, ae_hidden_size, ae_encoded_size)"
   ]
  },
  {
   "cell_type": "code",
   "execution_count": 27,
   "metadata": {
    "colab": {
     "base_uri": "https://localhost:8080/",
     "height": 51
    },
    "colab_type": "code",
    "id": "0LXdAOnnQWcl",
    "outputId": "0cf93c9d-29c9-479d-ba13-c591a752374a"
   },
   "outputs": [
    {
     "name": "stdout",
     "output_type": "stream",
     "text": [
      "x : type=CuArray{Float32,4,Nothing}, size=(28, 28, 1, 256)\n",
      "x̂ : type=CuArray{Float32,4,CuArray{Float32,2,Nothing}}, size=(28, 28, 1, 256)\n"
     ]
    }
   ],
   "source": [
    "x1 = gpu(dataset_train[1].X)\n",
    "x̂1 = autoencoder(x1)\n",
    "println(\"x : type=$(typeof(x1)), size=$(size(x1))\")\n",
    "println(\"x̂ : type=$(typeof(x̂1)), size=$(size(x̂1))\")"
   ]
  },
  {
   "cell_type": "code",
   "execution_count": 28,
   "metadata": {
    "colab": {
     "base_uri": "https://localhost:8080/",
     "height": 85
    },
    "colab_type": "code",
    "id": "nDZoT_N8QWcr",
    "outputId": "a008d303-46f3-41b4-9115-81ab5410549d"
   },
   "outputs": [
    {
     "name": "stdout",
     "output_type": "stream",
     "text": [
      "Train (batch 1)\n",
      "\n",
      "Loss     : 0.10624546\n"
     ]
    }
   ],
   "source": [
    "autoencoder_mse(model, x) = mse(model, x, x)\n",
    "\n",
    "loss_train = autoencoder_mse(autoencoder, x1)\n",
    "\n",
    "println(\"Train (batch 1)\\n\")    \n",
    "println(\"Loss     : \", loss_train)"
   ]
  },
  {
   "cell_type": "code",
   "execution_count": 29,
   "metadata": {},
   "outputs": [
    {
     "name": "stdout",
     "output_type": "stream",
     "text": [
      "Train\n",
      "\n",
      "Number of batches   : 235\n",
      "First batch X shape : (28, 28, 1, 256)\n",
      "Last batch X shape  : (28, 28, 1, 96)\n",
      "\n",
      "Test\n",
      "\n",
      "X shape             : (28, 28, 1, 10000)\n"
     ]
    }
   ],
   "source": [
    "dataset2_train = [(X=X,) for (X, _) in dataset_train]\n",
    "dataset2_test = (X=dataset_test.X,)\n",
    "\n",
    "println(\"Train\\n\")\n",
    "println(\"Number of batches   : \", length(dataset2_train))\n",
    "println(\"First batch X shape : \", size(dataset2_train[1].X))\n",
    "println(\"Last batch X shape  : \", size(dataset2_train[end].X))\n",
    "println()\n",
    "println(\"Test\\n\")\n",
    "println(\"X shape             : \", size(dataset2_test.X))"
   ]
  },
  {
   "cell_type": "code",
   "execution_count": 30,
   "metadata": {
    "colab": {
     "base_uri": "https://localhost:8080/",
     "height": 1000
    },
    "colab_type": "code",
    "id": "1H5viCd1QWc1",
    "outputId": "fc28e18f-d387-4bc6-f446-dc2a2d5b41a4"
   },
   "outputs": [
    {
     "name": "stdout",
     "output_type": "stream",
     "text": [
      "[1] Eval MSE: 0.0122\n",
      " -> New best MSE! Saving model out to ae_mnist.bson\n",
      "[2] Eval MSE: 0.0100\n",
      " -> New best MSE! Saving model out to ae_mnist.bson\n",
      "[3] Eval MSE: 0.0090\n",
      " -> New best MSE! Saving model out to ae_mnist.bson\n",
      "[4] Eval MSE: 0.0083\n",
      " -> New best MSE! Saving model out to ae_mnist.bson\n",
      "[5] Eval MSE: 0.0076\n",
      " -> New best MSE! Saving model out to ae_mnist.bson\n",
      "[6] Eval MSE: 0.0073\n",
      " -> New best MSE! Saving model out to ae_mnist.bson\n",
      "[7] Eval MSE: 0.0070\n",
      " -> New best MSE! Saving model out to ae_mnist.bson\n",
      "[8] Eval MSE: 0.0067\n",
      " -> New best MSE! Saving model out to ae_mnist.bson\n",
      "[9] Eval MSE: 0.0065\n",
      " -> New best MSE! Saving model out to ae_mnist.bson\n",
      "[10] Eval MSE: 0.0064\n",
      " -> New best MSE! Saving model out to ae_mnist.bson\n",
      "[11] Eval MSE: 0.0062\n",
      " -> New best MSE! Saving model out to ae_mnist.bson\n",
      "[12] Eval MSE: 0.0060\n",
      " -> New best MSE! Saving model out to ae_mnist.bson\n",
      "[13] Eval MSE: 0.0059\n",
      " -> New best MSE! Saving model out to ae_mnist.bson\n",
      "[14] Eval MSE: 0.0058\n",
      " -> New best MSE! Saving model out to ae_mnist.bson\n",
      "[15] Eval MSE: 0.0058\n",
      " -> New best MSE! Saving model out to ae_mnist.bson\n",
      "[16] Eval MSE: 0.0057\n",
      " -> New best MSE! Saving model out to ae_mnist.bson\n",
      "[17] Eval MSE: 0.0057\n",
      " -> New best MSE! Saving model out to ae_mnist.bson\n",
      "[18] Eval MSE: 0.0056\n",
      " -> New best MSE! Saving model out to ae_mnist.bson\n",
      "[19] Eval MSE: 0.0056\n",
      " -> New best MSE! Saving model out to ae_mnist.bson\n",
      "[20] Eval MSE: 0.0056\n",
      "[21] Eval MSE: 0.0055\n",
      " -> New best MSE! Saving model out to ae_mnist.bson\n",
      "[22] Eval MSE: 0.0053\n",
      " -> New best MSE! Saving model out to ae_mnist.bson\n",
      "[23] Eval MSE: 0.0053\n",
      " -> New best MSE! Saving model out to ae_mnist.bson\n",
      "[24] Eval MSE: 0.0052\n",
      " -> New best MSE! Saving model out to ae_mnist.bson\n",
      "[25] Eval MSE: 0.0051\n",
      " -> New best MSE! Saving model out to ae_mnist.bson\n",
      "[26] Eval MSE: 0.0051\n",
      " -> New best MSE! Saving model out to ae_mnist.bson\n",
      "[27] Eval MSE: 0.0051\n",
      " -> New best MSE! Saving model out to ae_mnist.bson\n",
      "[28] Eval MSE: 0.0050\n",
      " -> New best MSE! Saving model out to ae_mnist.bson\n",
      "[29] Eval MSE: 0.0051\n",
      "[30] Eval MSE: 0.0051\n",
      "[31] Eval MSE: 0.0050\n",
      " -> New best MSE! Saving model out to ae_mnist.bson\n",
      "[32] Eval MSE: 0.0050\n",
      " -> New best MSE! Saving model out to ae_mnist.bson\n",
      "[33] Eval MSE: 0.0049\n",
      " -> New best MSE! Saving model out to ae_mnist.bson\n",
      "[34] Eval MSE: 0.0049\n",
      " -> New best MSE! Saving model out to ae_mnist.bson\n",
      "[35] Eval MSE: 0.0048\n",
      " -> New best MSE! Saving model out to ae_mnist.bson\n",
      "[36] Eval MSE: 0.0047\n",
      " -> New best MSE! Saving model out to ae_mnist.bson\n",
      "[37] Eval MSE: 0.0047\n",
      " -> New best MSE! Saving model out to ae_mnist.bson\n",
      "[38] Eval MSE: 0.0046\n",
      " -> New best MSE! Saving model out to ae_mnist.bson\n",
      "[39] Eval MSE: 0.0046\n",
      " -> New best MSE! Saving model out to ae_mnist.bson\n",
      "[40] Eval MSE: 0.0046\n",
      " -> New best MSE! Saving model out to ae_mnist.bson\n",
      "[41] Eval MSE: 0.0047\n",
      "[42] Eval MSE: 0.0047\n",
      "[43] Eval MSE: 0.0047\n",
      "[44] Eval MSE: 0.0047\n",
      "[45] Eval MSE: 0.0046\n",
      " -> New best MSE! Saving model out to ae_mnist.bson\n",
      "[46] Eval MSE: 0.0045\n",
      " -> New best MSE! Saving model out to ae_mnist.bson\n",
      "[47] Eval MSE: 0.0045\n",
      " -> New best MSE! Saving model out to ae_mnist.bson\n",
      "[48] Eval MSE: 0.0045\n",
      " -> New best MSE! Saving model out to ae_mnist.bson\n",
      "[49] Eval MSE: 0.0044\n",
      " -> New best MSE! Saving model out to ae_mnist.bson\n",
      "[50] Eval MSE: 0.0044\n",
      "[51] Eval MSE: 0.0044\n",
      " -> New best MSE! Saving model out to ae_mnist.bson\n",
      "[52] Eval MSE: 0.0044\n",
      "[53] Eval MSE: 0.0045\n",
      "[54] Eval MSE: 0.0044\n",
      "[55] Eval MSE: 0.0043\n",
      " -> New best MSE! Saving model out to ae_mnist.bson\n",
      "[56] Eval MSE: 0.0043\n",
      " -> New best MSE! Saving model out to ae_mnist.bson\n",
      "[57] Eval MSE: 0.0042\n",
      " -> New best MSE! Saving model out to ae_mnist.bson\n",
      "[58] Eval MSE: 0.0042\n",
      " -> New best MSE! Saving model out to ae_mnist.bson\n",
      "[59] Eval MSE: 0.0042\n",
      " -> New best MSE! Saving model out to ae_mnist.bson\n",
      "[60] Eval MSE: 0.0042\n",
      "[61] Eval MSE: 0.0042\n",
      "[62] Eval MSE: 0.0042\n",
      "[63] Eval MSE: 0.0042\n",
      "[64] Eval MSE: 0.0042\n",
      " -> Haven't improved in a while, dropping learning rate to 0.0001!\n",
      "[65] Eval MSE: 0.0037\n",
      " -> New best MSE! Saving model out to ae_mnist.bson\n",
      "[66] Eval MSE: 0.0037\n",
      " -> New best MSE! Saving model out to ae_mnist.bson\n",
      "[67] Eval MSE: 0.0037\n",
      " -> New best MSE! Saving model out to ae_mnist.bson\n",
      "[68] Eval MSE: 0.0037\n",
      " -> New best MSE! Saving model out to ae_mnist.bson\n",
      "[69] Eval MSE: 0.0037\n",
      " -> New best MSE! Saving model out to ae_mnist.bson\n",
      "[70] Eval MSE: 0.0037\n",
      " -> New best MSE! Saving model out to ae_mnist.bson\n",
      "[71] Eval MSE: 0.0037\n",
      " -> New best MSE! Saving model out to ae_mnist.bson\n",
      "[72] Eval MSE: 0.0037\n",
      " -> New best MSE! Saving model out to ae_mnist.bson\n",
      "[73] Eval MSE: 0.0036\n",
      " -> New best MSE! Saving model out to ae_mnist.bson\n",
      "[74] Eval MSE: 0.0036\n",
      " -> New best MSE! Saving model out to ae_mnist.bson\n",
      "[75] Eval MSE: 0.0036\n",
      " -> New best MSE! Saving model out to ae_mnist.bson\n",
      "[76] Eval MSE: 0.0036\n",
      " -> New best MSE! Saving model out to ae_mnist.bson\n",
      "[77] Eval MSE: 0.0036\n",
      " -> New best MSE! Saving model out to ae_mnist.bson\n",
      "[78] Eval MSE: 0.0036\n",
      " -> New best MSE! Saving model out to ae_mnist.bson\n",
      "[79] Eval MSE: 0.0036\n",
      " -> New best MSE! Saving model out to ae_mnist.bson\n",
      "[80] Eval MSE: 0.0036\n",
      " -> New best MSE! Saving model out to ae_mnist.bson\n",
      "[81] Eval MSE: 0.0036\n",
      " -> New best MSE! Saving model out to ae_mnist.bson\n",
      "[82] Eval MSE: 0.0036\n",
      " -> New best MSE! Saving model out to ae_mnist.bson\n",
      "[83] Eval MSE: 0.0036\n",
      " -> New best MSE! Saving model out to ae_mnist.bson\n",
      "[84] Eval MSE: 0.0036\n",
      " -> New best MSE! Saving model out to ae_mnist.bson\n",
      "[85] Eval MSE: 0.0036\n",
      " -> New best MSE! Saving model out to ae_mnist.bson\n",
      "[86] Eval MSE: 0.0036\n",
      " -> New best MSE! Saving model out to ae_mnist.bson\n",
      "[87] Eval MSE: 0.0036\n",
      " -> New best MSE! Saving model out to ae_mnist.bson\n",
      "[88] Eval MSE: 0.0036\n",
      " -> New best MSE! Saving model out to ae_mnist.bson\n",
      "[89] Eval MSE: 0.0036\n",
      " -> New best MSE! Saving model out to ae_mnist.bson\n",
      "[90] Eval MSE: 0.0036\n",
      " -> New best MSE! Saving model out to ae_mnist.bson\n",
      "[91] Eval MSE: 0.0036\n",
      " -> New best MSE! Saving model out to ae_mnist.bson\n",
      "[92] Eval MSE: 0.0036\n",
      " -> New best MSE! Saving model out to ae_mnist.bson\n",
      "[93] Eval MSE: 0.0036\n",
      " -> New best MSE! Saving model out to ae_mnist.bson\n",
      "[94] Eval MSE: 0.0036\n",
      " -> New best MSE! Saving model out to ae_mnist.bson\n",
      "[95] Eval MSE: 0.0036\n",
      " -> New best MSE! Saving model out to ae_mnist.bson\n",
      "[96] Eval MSE: 0.0036\n",
      " -> New best MSE! Saving model out to ae_mnist.bson\n",
      "[97] Eval MSE: 0.0036\n",
      " -> New best MSE! Saving model out to ae_mnist.bson\n",
      "[98] Eval MSE: 0.0036\n",
      " -> New best MSE! Saving model out to ae_mnist.bson\n",
      "[99] Eval MSE: 0.0036\n",
      " -> New best MSE! Saving model out to ae_mnist.bson\n",
      "[100] Eval MSE: 0.0036\n",
      " -> New best MSE! Saving model out to ae_mnist.bson\n"
     ]
    }
   ],
   "source": [
    "log = run_train(autoencoder, dataset2_train, dataset2_test;\n",
    "                loss=autoencoder_mse,\n",
    "                metric=(name=\"MSE\", fn=autoencoder_mse),\n",
    "                early_stopping_mode=:min,\n",
    "                model_file=\"ae_mnist.bson\");"
   ]
  },
  {
   "cell_type": "code",
   "execution_count": 31,
   "metadata": {},
   "outputs": [
    {
     "data": {
      "image/png": "[encoded data removed]"
     },
     "execution_count": 31,
     "metadata": {},
     "output_type": "execute_result"
    }
   ],
   "source": [
    "plot_train_log(log)"
   ]
  },
  {
   "cell_type": "code",
   "execution_count": 32,
   "metadata": {
    "colab": {
     "base_uri": "https://localhost:8080/",
     "height": 54
    },
    "colab_type": "code",
    "id": "ONAmCGZNQWc7",
    "outputId": "89d9ed41-2bb2-4fe1-a4eb-59619e9d5e32"
   },
   "outputs": [
    {
     "name": "stdout",
     "output_type": "stream",
     "text": [
      "Evaluation\n",
      "\n",
      "Loss       : 0.0035786002\n"
     ]
    }
   ],
   "source": [
    "best_autoencoder = load_model(\"ae_mnist.bson\")\n",
    "evaluate(best_autoencoder, dataset2_test;\n",
    "         metrics=[(name=\"Loss\", fn=autoencoder_mse)])"
   ]
  },
  {
   "cell_type": "code",
   "execution_count": 33,
   "metadata": {},
   "outputs": [],
   "source": [
    "best_autoencoder = nothing\n",
    "autoencoder = nothing\n",
    "x1 = nothing\n",
    "x̂1 = nothing\n",
    "GC.gc()"
   ]
  },
  {
   "cell_type": "code",
   "execution_count": null,
   "metadata": {},
   "outputs": [],
   "source": []
  }
 ],
 "metadata": {
  "accelerator": "GPU",
  "colab": {
   "name": "Julia - Deep Learning.ipynb",
   "provenance": [],
   "version": "0.3.2"
  },
  "kernelspec": {
   "display_name": "Julia 1.5.1",
   "language": "julia",
   "name": "julia-1.5"
  },
  "language_info": {
   "file_extension": ".jl",
   "mimetype": "application/julia",
   "name": "julia",
   "version": "1.4.0"
  }
 },
 "nbformat": 4,
 "nbformat_minor": 4
}
