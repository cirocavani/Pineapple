{
 "cells": [
  {
   "cell_type": "code",
   "execution_count": 1,
   "metadata": {},
   "outputs": [
    {
     "data": {
      "text/plain": [
       "\"/run/media/cavani/cavani_hdx/julia-abc/envs/RL\""
      ]
     },
     "execution_count": 1,
     "metadata": {},
     "output_type": "execute_result"
    }
   ],
   "source": [
    "reset = false\n",
    "\n",
    "PROJECT_DIR = abspath(joinpath(\"..\", \"envs\", \"RL\"))\n",
    "reset && isdir(PROJECT_DIR) && rm(PROJECT_DIR; recursive=true, force=true)\n",
    "\n",
    "PROJECT_DIR"
   ]
  },
  {
   "cell_type": "code",
   "execution_count": 2,
   "metadata": {},
   "outputs": [
    {
     "name": "stderr",
     "output_type": "stream",
     "text": [
      "\u001b[32m\u001b[1m Activating\u001b[22m\u001b[39m environment at `/run/media/cavani/cavani_hdx/julia-abc/envs/RL/Project.toml`\n"
     ]
    }
   ],
   "source": [
    "using Pkg\n",
    "Pkg.activate(PROJECT_DIR)"
   ]
  },
  {
   "cell_type": "code",
   "execution_count": 3,
   "metadata": {},
   "outputs": [
    {
     "name": "stderr",
     "output_type": "stream",
     "text": [
      "\u001b[32m\u001b[1m   Updating\u001b[22m\u001b[39m registry at `~/Workspace/julia-abc/software/julia-env/registries/General`\n"
     ]
    },
    {
     "name": "stdout",
     "output_type": "stream",
     "text": [
      "\u001b[?25l\u001b[2K"
     ]
    },
    {
     "name": "stderr",
     "output_type": "stream",
     "text": [
      "\u001b[32m\u001b[1m   Updating\u001b[22m\u001b[39m git-repo `https://github.com/JuliaRegistries/General.git`\n"
     ]
    },
    {
     "name": "stdout",
     "output_type": "stream",
     "text": [
      "\u001b[?25h"
     ]
    },
    {
     "name": "stderr",
     "output_type": "stream",
     "text": [
      "\u001b[32m\u001b[1m  Resolving\u001b[22m\u001b[39m package versions...\n",
      "\u001b[32m\u001b[1m   Updating\u001b[22m\u001b[39m `/run/media/cavani/cavani_hdx/julia-abc/envs/RL/Project.toml`\n",
      "\u001b[90m [no changes]\u001b[39m\n",
      "\u001b[32m\u001b[1m   Updating\u001b[22m\u001b[39m `/run/media/cavani/cavani_hdx/julia-abc/envs/RL/Manifest.toml`\n",
      "\u001b[90m [no changes]\u001b[39m\n"
     ]
    }
   ],
   "source": [
    "deps = [\n",
    "    \"ReinforcementLearning\",\n",
    "    \"Flux\",\n",
    "    \"CuArrays\",\n",
    "    \"CUDAnative\",\n",
    "    \"CUDAdrv\",\n",
    "    \"Plots\",\n",
    "    \"PyPlot\",\n",
    "]\n",
    "\n",
    "Pkg.add(deps)"
   ]
  },
  {
   "cell_type": "code",
   "execution_count": 4,
   "metadata": {},
   "outputs": [
    {
     "name": "stdout",
     "output_type": "stream",
     "text": [
      "\u001b[32m\u001b[1mStatus\u001b[22m\u001b[39m `/run/media/cavani/cavani_hdx/julia-abc/envs/RL/Project.toml`\n",
      " \u001b[90m [c5f51814]\u001b[39m\u001b[37m CUDAdrv v6.3.0\u001b[39m\n",
      " \u001b[90m [be33ccc6]\u001b[39m\u001b[37m CUDAnative v3.1.0\u001b[39m\n",
      " \u001b[90m [3a865a2d]\u001b[39m\u001b[37m CuArrays v2.2.0\u001b[39m\n",
      " \u001b[90m [587475ba]\u001b[39m\u001b[37m Flux v0.10.4\u001b[39m\n",
      " \u001b[90m [91a5bcdd]\u001b[39m\u001b[37m Plots v1.3.2\u001b[39m\n",
      " \u001b[90m [d330b81b]\u001b[39m\u001b[37m PyPlot v2.9.0\u001b[39m\n",
      " \u001b[90m [158674fc]\u001b[39m\u001b[37m ReinforcementLearning v0.4.0\u001b[39m\n"
     ]
    }
   ],
   "source": [
    "Pkg.status()"
   ]
  },
  {
   "cell_type": "code",
   "execution_count": 5,
   "metadata": {},
   "outputs": [
    {
     "name": "stderr",
     "output_type": "stream",
     "text": [
      "\u001b[32m\u001b[1m   Updating\u001b[22m\u001b[39m registry at `~/Workspace/julia-abc/software/julia-env/registries/General`\n"
     ]
    },
    {
     "name": "stdout",
     "output_type": "stream",
     "text": [
      "\u001b[?25l\u001b[2K"
     ]
    },
    {
     "name": "stderr",
     "output_type": "stream",
     "text": [
      "\u001b[32m\u001b[1m   Updating\u001b[22m\u001b[39m git-repo `https://github.com/JuliaRegistries/General.git`\n"
     ]
    },
    {
     "name": "stdout",
     "output_type": "stream",
     "text": [
      "\u001b[?25h"
     ]
    },
    {
     "name": "stderr",
     "output_type": "stream",
     "text": [
      "\u001b[32m\u001b[1m   Updating\u001b[22m\u001b[39m `/run/media/cavani/cavani_hdx/julia-abc/envs/RL/Project.toml`\n",
      "\u001b[90m [no changes]\u001b[39m\n",
      "\u001b[32m\u001b[1m   Updating\u001b[22m\u001b[39m `/run/media/cavani/cavani_hdx/julia-abc/envs/RL/Manifest.toml`\n",
      "\u001b[90m [no changes]\u001b[39m\n",
      "\u001b[32m\u001b[1mPrecompiling\u001b[22m\u001b[39m project...\n"
     ]
    },
    {
     "name": "stdout",
     "output_type": "stream",
     "text": [
      "\u001b[32m\u001b[1mStatus\u001b[22m\u001b[39m `/run/media/cavani/cavani_hdx/julia-abc/envs/RL/Project.toml`\n",
      " \u001b[90m [c5f51814]\u001b[39m\u001b[37m CUDAdrv v6.3.0\u001b[39m\n",
      " \u001b[90m [be33ccc6]\u001b[39m\u001b[37m CUDAnative v3.1.0\u001b[39m\n",
      " \u001b[90m [3a865a2d]\u001b[39m\u001b[37m CuArrays v2.2.0\u001b[39m\n",
      " \u001b[90m [587475ba]\u001b[39m\u001b[37m Flux v0.10.4\u001b[39m\n",
      " \u001b[90m [91a5bcdd]\u001b[39m\u001b[37m Plots v1.3.2\u001b[39m\n",
      " \u001b[90m [d330b81b]\u001b[39m\u001b[37m PyPlot v2.9.0\u001b[39m\n",
      " \u001b[90m [158674fc]\u001b[39m\u001b[37m ReinforcementLearning v0.4.0\u001b[39m\n"
     ]
    }
   ],
   "source": [
    "ENV[\"PYTHON\"] = joinpath(ENV[\"CONDA_INSTDIR\"], \"envs\", \"python\", \"bin\", \"python\")\n",
    "Pkg.update()\n",
    "Pkg.API.precompile()\n",
    "Pkg.status()"
   ]
  },
  {
   "cell_type": "code",
   "execution_count": 6,
   "metadata": {},
   "outputs": [
    {
     "name": "stdout",
     "output_type": "stream",
     "text": [
      "CUDAnative\n",
      "  1.913322 seconds (1.38 M allocations: 78.606 MiB)\n",
      "Plots\n",
      " 20.728284 seconds (20.08 M allocations: 1.062 GiB, 2.58% gc time)\n",
      "ReinforcementLearning\n",
      " 40.826167 seconds (61.64 M allocations: 3.279 GiB, 3.87% gc time)\n",
      "PyPlot\n",
      "  6.607068 seconds (6.15 M allocations: 314.018 MiB, 1.46% gc time)\n",
      "CuArrays\n",
      "  6.178623 seconds (7.52 M allocations: 430.870 MiB, 2.03% gc time)\n",
      "CUDAdrv\n",
      "  0.341961 seconds (185.24 k allocations: 12.019 MiB)\n",
      "Flux\n",
      " 33.963103 seconds (55.79 M allocations: 2.991 GiB, 4.58% gc time)\n"
     ]
    }
   ],
   "source": [
    "JULIA_BIN = joinpath(ENV[\"JULIA_INSTDIR\"], \"bin\", \"julia\")\n",
    "for (_, pkg) in Pkg.dependencies()\n",
    "    pkg.is_direct_dep && pkg.version !== nothing || continue\n",
    "    try\n",
    "        pkg_name = pkg.name\n",
    "        run(`$JULIA_BIN --project=$PROJECT_DIR -e \"println(\\\"$pkg_name\\\"); @time import $pkg_name\"`)\n",
    "    catch\n",
    "    end\n",
    "end"
   ]
  },
  {
   "cell_type": "code",
   "execution_count": 7,
   "metadata": {},
   "outputs": [
    {
     "name": "stderr",
     "output_type": "stream",
     "text": [
      "\u001b[32mProgress: 100%|█████████████████████████████████████████| Time: 0:00:02\u001b[39m\n",
      "┌ Info: stats for random policy\n",
      "│   avg_reward = 21.0591\n",
      "│   avg_fps = 1.1354088607307489e6\n",
      "└ @ Main In[7]:15\n"
     ]
    }
   ],
   "source": [
    "using ReinforcementLearning\n",
    "using Statistics: mean\n",
    "\n",
    "env = CartPoleEnv(; T=Float32, seed = 123)\n",
    "\n",
    "agent = Agent(\n",
    "    policy = RandomPolicy(env; seed = 456),\n",
    "    trajectory = CircularCompactSARTSATrajectory(; capacity = 3, state_type = Float32, state_size = (4,)),\n",
    ")\n",
    "\n",
    "hook = ComposedHook(TotalRewardPerEpisode(), TimePerStep())\n",
    "\n",
    "run(agent, env, StopAfterEpisode(10_000), hook)\n",
    "\n",
    "@info \"stats for random policy\" avg_reward = mean(hook[1].rewards) avg_fps = 1 / mean(hook[2].times)"
   ]
  },
  {
   "cell_type": "code",
   "execution_count": null,
   "metadata": {},
   "outputs": [],
   "source": []
  }
 ],
 "metadata": {
  "kernelspec": {
   "display_name": "Julia 1.4.1",
   "language": "julia",
   "name": "julia-1.4"
  },
  "language_info": {
   "file_extension": ".jl",
   "mimetype": "application/julia",
   "name": "julia",
   "version": "1.4.1"
  }
 },
 "nbformat": 4,
 "nbformat_minor": 4
}
