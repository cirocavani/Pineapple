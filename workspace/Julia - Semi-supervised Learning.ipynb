{
 "cells": [
  {
   "cell_type": "markdown",
   "metadata": {},
   "source": [
    "# Semi-supervised Learning with Deep Generative Models\n",
    "\n",
    "https://arxiv.org/abs/1406.5298"
   ]
  },
  {
   "cell_type": "code",
   "execution_count": 1,
   "metadata": {},
   "outputs": [
    {
     "name": "stderr",
     "output_type": "stream",
     "text": [
      "┌ Warning: Incompatibility detected between CUDA and LLVM 8.0+; disabling debug info emission for CUDA kernels\n",
      "└ @ CUDAnative /home/cavani/Workspace/julia-abc/software/julia-env/packages/CUDAnative/hfulr/src/CUDAnative.jl:114\n"
     ]
    },
    {
     "data": {
      "text/plain": [
       "Plots.PyPlotBackend()"
      ]
     },
     "execution_count": 1,
     "metadata": {},
     "output_type": "execute_result"
    }
   ],
   "source": [
    "using Flux\n",
    "using CuArrays\n",
    "using Plots\n",
    "using Plots.PlotMeasures\n",
    "using Distributions\n",
    "\n",
    "CuArrays.allowscalar(false)\n",
    "\n",
    "pyplot()"
   ]
  },
  {
   "cell_type": "markdown",
   "metadata": {},
   "source": [
    "## MNIST Dataset"
   ]
  },
  {
   "cell_type": "code",
   "execution_count": 2,
   "metadata": {},
   "outputs": [
    {
     "data": {
      "text/plain": [
       "make_dataset (generic function with 1 method)"
      ]
     },
     "execution_count": 2,
     "metadata": {},
     "output_type": "execute_result"
    }
   ],
   "source": [
    "import Flux: onehot\n",
    "import Base.Iterators: partition\n",
    "\n",
    "function load_mnist(split_name)\n",
    "    mnist = Flux.Data.MNIST\n",
    "    \n",
    "    images = mnist.images(split_name) # Array with N images of 28x28 8-bits gray\n",
    "    labels = mnist.labels(split_name) # Array with N labels scalar 0-9\n",
    "    \n",
    "    return (images=images, labels=labels)\n",
    "end\n",
    "\n",
    "function sample(data, size=10)\n",
    "    indices = rand(1:length(data.images), 10)\n",
    "    images = data.images[indices]\n",
    "    labels = data.labels[indices]\n",
    "    return (images=images, labels=labels)\n",
    "end\n",
    "\n",
    "function sample_classes(data, sample_size_per_class=10)\n",
    "    class_vector = sort(unique(data.labels))\n",
    "    samples = map(class_vector) do label\n",
    "        label_indices = findall(==(label), data.labels)\n",
    "        sample_indices = rand(label_indices, sample_size_per_class)\n",
    "        images = data.images[sample_indices]\n",
    "        images\n",
    "    end\n",
    "    return samples\n",
    "end\n",
    "\n",
    "plot_digit(image, label) = plot(image, xlabel=(label !== nothing ? \"Label $(label)\" : \"\"),\n",
    "                                guidefontsize=8, legend=false, margin=0mm, link=:both,\n",
    "                                ticks=nothing, border=:none)\n",
    "function plot_digits(images, labels=nothing; size=(800, 100), layout=(1, length(images)))\n",
    "    plots = map(1:prod(layout)) do i\n",
    "        image = images[i]\n",
    "        label = labels !== nothing ? labels[i] : nothing\n",
    "        plot_digit(image, label)\n",
    "    end\n",
    "    plot(plots..., layout=layout, size=size, bg_color=\"black\", fg_color=\"white\")\n",
    "end\n",
    "\n",
    "function compute_num_channels(image)\n",
    "    color_type = eltype(image)\n",
    "    if color_type <: Gray\n",
    "        return 1\n",
    "    elseif color_type <: RGB\n",
    "        return 3\n",
    "    else\n",
    "        error(\"Unknown color type: $(color_type)\")\n",
    "    end\n",
    "end\n",
    "\n",
    "function make_whcn_format(images)\n",
    "    width, height = size(images[1])\n",
    "    num_channels = compute_num_channels(images[1])\n",
    "    batch_size = length(images)\n",
    "    @assert num_channels == 1 # only Gray -> Foloat32 supported\n",
    "\n",
    "    images_tensor = Array{Float32, 4}(undef, width, height, num_channels, batch_size)\n",
    "    for (batch_index, image) in enumerate(images)\n",
    "        images_tensor[:, :, :, batch_index] = Float32.(reshape(image, width, height, num_channels))\n",
    "    end\n",
    "    return images_tensor\n",
    "end\n",
    "\n",
    "function make_onehot_format(labels, class_vector)\n",
    "    num_labels = length(class_vector)\n",
    "    batch_size = length(labels)\n",
    "    \n",
    "    labels_tensor = Array{Float32, 2}(undef, num_labels, batch_size)\n",
    "    for (batch_index, label) in enumerate(labels)\n",
    "        labels_tensor[:, batch_index] = Float32.(onehot(label, class_vector))\n",
    "    end\n",
    "    return labels_tensor\n",
    "end\n",
    "\n",
    "function make_batch(images, labels)\n",
    "    X = make_whcn_format(images)\n",
    "    y = make_onehot_format(labels, 0:9)\n",
    "    return (X=X, y=y)\n",
    "end\n",
    "\n",
    "function make_dataset(images, labels; batch_size)\n",
    "    batch_size == 0 && return make_batch(images, labels)\n",
    "    \n",
    "    num_examples = length(images)\n",
    "    num_batches = ceil(Int, num_examples / batch_size)\n",
    "    batch_indices = partition(1:num_examples, batch_size)\n",
    "    batches = map(batch_indices) do indices\n",
    "        make_batch(images[indices], labels[indices])\n",
    "    end\n",
    "    return batches\n",
    "end"
   ]
  },
  {
   "cell_type": "code",
   "execution_count": 3,
   "metadata": {},
   "outputs": [],
   "source": [
    "train_data = load_mnist(:train)\n",
    "test_data = load_mnist(:test)\n",
    "\n",
    "dataset_train = make_dataset(train_data...; batch_size=256)\n",
    "dataset_test = make_dataset(test_data...; batch_size=0);"
   ]
  },
  {
   "cell_type": "code",
   "execution_count": 4,
   "metadata": {},
   "outputs": [
    {
     "data": {
      "image/png": "[encoded data removed]"
     },
     "execution_count": 4,
     "metadata": {},
     "output_type": "execute_result"
    }
   ],
   "source": [
    "train_sample = sample(train_data)\n",
    "plot_digits(train_sample...)"
   ]
  },
  {
   "cell_type": "code",
   "execution_count": 5,
   "metadata": {},
   "outputs": [
    {
     "data": {
      "image/png": "[encoded data removed]"
     },
     "execution_count": 5,
     "metadata": {},
     "output_type": "execute_result"
    }
   ],
   "source": [
    "train_sample2 = sample_classes(train_data)\n",
    "plot_digits(vcat(train_sample2...); size=(800, 800), layout=(10, 10))"
   ]
  },
  {
   "cell_type": "code",
   "execution_count": 6,
   "metadata": {},
   "outputs": [
    {
     "name": "stdout",
     "output_type": "stream",
     "text": [
      "Train\n",
      "\n",
      "Number of batches   : 235\n",
      "First batch X shape : (28, 28, 1, 256)\n",
      "First batch y shape : (10, 256)\n",
      "Last batch X shape  : (28, 28, 1, 96)\n",
      "Last batch y shape  : (10, 96)\n",
      "\n",
      "Test\n",
      "\n",
      "X shape             : (28, 28, 1, 10000)\n",
      "y shape             : (10, 10000)\n"
     ]
    }
   ],
   "source": [
    "println(\"Train\\n\")\n",
    "println(\"Number of batches   : \", length(dataset_train))\n",
    "println(\"First batch X shape : \", size(dataset_train[1].X))\n",
    "println(\"First batch y shape : \", size(dataset_train[1].y))\n",
    "println(\"Last batch X shape  : \", size(dataset_train[end].X))\n",
    "println(\"Last batch y shape  : \", size(dataset_train[end].y))\n",
    "println()\n",
    "println(\"Test\\n\")\n",
    "println(\"X shape             : \", size(dataset_test.X))\n",
    "println(\"y shape             : \", size(dataset_test.y))"
   ]
  },
  {
   "cell_type": "code",
   "execution_count": 7,
   "metadata": {},
   "outputs": [
    {
     "data": {
      "text/plain": [
       "(600,)"
      ]
     },
     "execution_count": 7,
     "metadata": {},
     "output_type": "execute_result"
    }
   ],
   "source": [
    "using Flux.Data.MNIST\n",
    "\n",
    "# Load data, binarise it, and partition into mini-batches of M.\n",
    "X = float.(hcat(vec.(MNIST.images())...)) .> 0.5\n",
    "N, M = size(X, 2), 100\n",
    "data = [X[:,i] for i in Iterators.partition(1:N,M)];\n",
    "\n",
    "size(data)"
   ]
  },
  {
   "cell_type": "code",
   "execution_count": 8,
   "metadata": {},
   "outputs": [
    {
     "data": {
      "text/plain": [
       "logpdf (generic function with 64 methods)"
      ]
     },
     "execution_count": 8,
     "metadata": {},
     "output_type": "execute_result"
    }
   ],
   "source": [
    "# Extend distributions slightly to have a numerically stable logpdf for `p` close to 1 or 0.\n",
    "import Distributions: logpdf\n",
    "logpdf(b::Bernoulli, y::Bool) = y * log(b.p + eps(Float32)) + (1f0 - y) * log(1 - b.p + eps(Float32))"
   ]
  },
  {
   "cell_type": "code",
   "execution_count": 9,
   "metadata": {},
   "outputs": [
    {
     "data": {
      "text/plain": [
       "Chain(Dense(5, 500, tanh), Dense(500, 784, σ))"
      ]
     },
     "execution_count": 9,
     "metadata": {},
     "output_type": "execute_result"
    }
   ],
   "source": [
    "################################# Define Model #################################\n",
    "\n",
    "# Latent dimensionality, # hidden units.\n",
    "Dz, Dh = 5, 500\n",
    "\n",
    "# Components of recognition model / \"encoder\" MLP.\n",
    "A, μ, logσ = Dense(28^2, Dh, tanh), Dense(Dh, Dz), Dense(Dh, Dz)\n",
    "g(X) = (h = A(X); (μ(h), logσ(h)))\n",
    "z(μ, logσ) = μ + exp(logσ) * randn(Float32)\n",
    "\n",
    "# Generative model / \"decoder\" MLP.\n",
    "f = Chain(Dense(Dz, Dh, tanh), Dense(Dh, 28^2, σ))"
   ]
  },
  {
   "cell_type": "code",
   "execution_count": 10,
   "metadata": {},
   "outputs": [
    {
     "data": {
      "text/plain": [
       "modelsample (generic function with 1 method)"
      ]
     },
     "execution_count": 10,
     "metadata": {},
     "output_type": "execute_result"
    }
   ],
   "source": [
    "####################### Define ways of doing things with the model. #######################\n",
    "\n",
    "# KL-divergence between approximation posterior and N(0, 1) prior.\n",
    "kl_q_p(μ, logσ) = 0.5f0 * sum(exp.(2f0 .* logσ) + μ.^2 .- 1f0 .- (2 .* logσ))\n",
    "\n",
    "# logp(x|z) - conditional probability of data given latents.\n",
    "logp_x_z(x, z) = sum(logpdf.(Bernoulli.(f(z)), x))\n",
    "\n",
    "# Monte Carlo estimator of mean ELBO using M samples.\n",
    "L̄(X) = ((μ̂, logσ̂) = g(X); (logp_x_z(X, z.(μ̂, logσ̂)) - kl_q_p(μ̂, logσ̂)) * 1 // M)\n",
    "\n",
    "loss(X) = -L̄(X) + 0.01f0 * sum(x->sum(x.^2), params(f))\n",
    "\n",
    "# Sample from the learned model.\n",
    "modelsample() = rand.(Bernoulli.(f(z.(zeros(Dz), zeros(Dz)))))"
   ]
  },
  {
   "cell_type": "code",
   "execution_count": 11,
   "metadata": {},
   "outputs": [
    {
     "name": "stderr",
     "output_type": "stream",
     "text": [
      "┌ Info: Epoch 1\n",
      "└ @ Main In[11]:10\n"
     ]
    },
    {
     "name": "stdout",
     "output_type": "stream",
     "text": [
      "-(L̄(X[:, rand(1:N, M)])) = 546.39795f0\n",
      "-(L̄(X[:, rand(1:N, M)])) = 227.1756f0\n",
      "-(L̄(X[:, rand(1:N, M)])) = 200.3289f0\n",
      "-(L̄(X[:, rand(1:N, M)])) = 184.23395f0\n",
      "-(L̄(X[:, rand(1:N, M)])) = 175.02106f0\n",
      "-(L̄(X[:, rand(1:N, M)])) = 175.13611f0\n",
      "-(L̄(X[:, rand(1:N, M)])) = 172.91798f0\n",
      "-(L̄(X[:, rand(1:N, M)])) = 164.14784f0\n",
      "-(L̄(X[:, rand(1:N, M)])) = 157.91588f0\n",
      "-(L̄(X[:, rand(1:N, M)])) = 159.08096f0\n",
      "-(L̄(X[:, rand(1:N, M)])) = 165.71664f0\n",
      "-(L̄(X[:, rand(1:N, M)])) = 167.04677f0\n",
      "-(L̄(X[:, rand(1:N, M)])) = 169.85309f0\n",
      "-(L̄(X[:, rand(1:N, M)])) = 170.25093f0\n",
      "-(L̄(X[:, rand(1:N, M)])) = 164.0806f0\n",
      "-(L̄(X[:, rand(1:N, M)])) = 164.69713f0\n",
      "-(L̄(X[:, rand(1:N, M)])) = 157.29361f0\n",
      "-(L̄(X[:, rand(1:N, M)])) = 158.56749f0\n",
      "-(L̄(X[:, rand(1:N, M)])) = 164.19496f0\n",
      "-(L̄(X[:, rand(1:N, M)])) = 155.68983f0\n",
      "-(L̄(X[:, rand(1:N, M)])) = 164.932f0\n",
      "-(L̄(X[:, rand(1:N, M)])) = 163.09901f0\n"
     ]
    },
    {
     "name": "stderr",
     "output_type": "stream",
     "text": [
      "┌ Info: Epoch 2\n",
      "└ @ Main In[11]:10\n"
     ]
    },
    {
     "name": "stdout",
     "output_type": "stream",
     "text": [
      "-(L̄(X[:, rand(1:N, M)])) = 161.7964f0\n",
      "-(L̄(X[:, rand(1:N, M)])) = 158.42014f0\n",
      "-(L̄(X[:, rand(1:N, M)])) = 157.73834f0\n",
      "-(L̄(X[:, rand(1:N, M)])) = 161.04465f0\n",
      "-(L̄(X[:, rand(1:N, M)])) = 150.53601f0\n",
      "-(L̄(X[:, rand(1:N, M)])) = 149.11383f0\n",
      "-(L̄(X[:, rand(1:N, M)])) = 155.58682f0\n",
      "-(L̄(X[:, rand(1:N, M)])) = 149.78912f0\n",
      "-(L̄(X[:, rand(1:N, M)])) = 158.66731f0\n",
      "-(L̄(X[:, rand(1:N, M)])) = 153.69214f0\n",
      "-(L̄(X[:, rand(1:N, M)])) = 156.45015f0\n",
      "-(L̄(X[:, rand(1:N, M)])) = 148.3454f0\n",
      "-(L̄(X[:, rand(1:N, M)])) = 158.84273f0\n",
      "-(L̄(X[:, rand(1:N, M)])) = 156.00694f0\n",
      "-(L̄(X[:, rand(1:N, M)])) = 147.71986f0\n",
      "-(L̄(X[:, rand(1:N, M)])) = 147.79303f0\n",
      "-(L̄(X[:, rand(1:N, M)])) = 155.41464f0\n",
      "-(L̄(X[:, rand(1:N, M)])) = 154.3278f0\n",
      "-(L̄(X[:, rand(1:N, M)])) = 152.2415f0\n",
      "-(L̄(X[:, rand(1:N, M)])) = 144.2533f0\n",
      "-(L̄(X[:, rand(1:N, M)])) = 147.98378f0\n"
     ]
    },
    {
     "name": "stderr",
     "output_type": "stream",
     "text": [
      "┌ Info: Epoch 3\n",
      "└ @ Main In[11]:10\n"
     ]
    },
    {
     "name": "stdout",
     "output_type": "stream",
     "text": [
      "-(L̄(X[:, rand(1:N, M)])) = 150.78911f0\n",
      "-(L̄(X[:, rand(1:N, M)])) = 150.40053f0\n",
      "-(L̄(X[:, rand(1:N, M)])) = 148.0711f0\n",
      "-(L̄(X[:, rand(1:N, M)])) = 143.02232f0\n",
      "-(L̄(X[:, rand(1:N, M)])) = 143.22603f0\n",
      "-(L̄(X[:, rand(1:N, M)])) = 147.62f0\n",
      "-(L̄(X[:, rand(1:N, M)])) = 149.58177f0\n",
      "-(L̄(X[:, rand(1:N, M)])) = 138.55713f0\n",
      "-(L̄(X[:, rand(1:N, M)])) = 141.45386f0\n",
      "-(L̄(X[:, rand(1:N, M)])) = 144.4152f0\n",
      "-(L̄(X[:, rand(1:N, M)])) = 146.7241f0\n",
      "-(L̄(X[:, rand(1:N, M)])) = 141.68684f0\n",
      "-(L̄(X[:, rand(1:N, M)])) = 147.10858f0\n",
      "-(L̄(X[:, rand(1:N, M)])) = 140.25873f0\n",
      "-(L̄(X[:, rand(1:N, M)])) = 150.6041f0\n",
      "-(L̄(X[:, rand(1:N, M)])) = 139.96092f0\n",
      "-(L̄(X[:, rand(1:N, M)])) = 135.61107f0\n",
      "-(L̄(X[:, rand(1:N, M)])) = 135.84494f0\n",
      "-(L̄(X[:, rand(1:N, M)])) = 150.40886f0\n",
      "-(L̄(X[:, rand(1:N, M)])) = 143.63808f0\n",
      "-(L̄(X[:, rand(1:N, M)])) = 140.55032f0\n",
      "-(L̄(X[:, rand(1:N, M)])) = 141.96881f0\n"
     ]
    },
    {
     "name": "stderr",
     "output_type": "stream",
     "text": [
      "┌ Info: Epoch 4\n",
      "└ @ Main In[11]:10\n"
     ]
    },
    {
     "name": "stdout",
     "output_type": "stream",
     "text": [
      "-(L̄(X[:, rand(1:N, M)])) = 148.09752f0\n",
      "-(L̄(X[:, rand(1:N, M)])) = 140.97762f0\n",
      "-(L̄(X[:, rand(1:N, M)])) = 140.03795f0\n",
      "-(L̄(X[:, rand(1:N, M)])) = 140.87846f0\n",
      "-(L̄(X[:, rand(1:N, M)])) = 140.24188f0\n",
      "-(L̄(X[:, rand(1:N, M)])) = 141.63707f0\n",
      "-(L̄(X[:, rand(1:N, M)])) = 140.93681f0\n",
      "-(L̄(X[:, rand(1:N, M)])) = 137.61804f0\n",
      "-(L̄(X[:, rand(1:N, M)])) = 143.02423f0\n",
      "-(L̄(X[:, rand(1:N, M)])) = 141.17378f0\n",
      "-(L̄(X[:, rand(1:N, M)])) = 139.6372f0\n",
      "-(L̄(X[:, rand(1:N, M)])) = 151.19818f0\n",
      "-(L̄(X[:, rand(1:N, M)])) = 147.82466f0\n",
      "-(L̄(X[:, rand(1:N, M)])) = 140.76704f0\n",
      "-(L̄(X[:, rand(1:N, M)])) = 137.40875f0\n",
      "-(L̄(X[:, rand(1:N, M)])) = 141.81631f0\n",
      "-(L̄(X[:, rand(1:N, M)])) = 136.89937f0\n",
      "-(L̄(X[:, rand(1:N, M)])) = 135.52982f0\n",
      "-(L̄(X[:, rand(1:N, M)])) = 143.58784f0\n",
      "-(L̄(X[:, rand(1:N, M)])) = 141.1614f0\n",
      "-(L̄(X[:, rand(1:N, M)])) = 137.12222f0\n"
     ]
    },
    {
     "name": "stderr",
     "output_type": "stream",
     "text": [
      "┌ Info: Epoch 5\n",
      "└ @ Main In[11]:10\n"
     ]
    },
    {
     "name": "stdout",
     "output_type": "stream",
     "text": [
      "-(L̄(X[:, rand(1:N, M)])) = 136.29504f0\n",
      "-(L̄(X[:, rand(1:N, M)])) = 140.62949f0\n",
      "-(L̄(X[:, rand(1:N, M)])) = 142.76277f0\n",
      "-(L̄(X[:, rand(1:N, M)])) = 132.95894f0\n",
      "-(L̄(X[:, rand(1:N, M)])) = 138.18732f0\n",
      "-(L̄(X[:, rand(1:N, M)])) = 133.91318f0\n",
      "-(L̄(X[:, rand(1:N, M)])) = 147.14131f0\n",
      "-(L̄(X[:, rand(1:N, M)])) = 135.66016f0\n",
      "-(L̄(X[:, rand(1:N, M)])) = 139.463f0\n",
      "-(L̄(X[:, rand(1:N, M)])) = 134.74434f0\n",
      "-(L̄(X[:, rand(1:N, M)])) = 139.08719f0\n",
      "-(L̄(X[:, rand(1:N, M)])) = 132.03351f0\n",
      "-(L̄(X[:, rand(1:N, M)])) = 134.89825f0\n",
      "-(L̄(X[:, rand(1:N, M)])) = 133.69337f0\n",
      "-(L̄(X[:, rand(1:N, M)])) = 137.01376f0\n",
      "-(L̄(X[:, rand(1:N, M)])) = 139.23335f0\n",
      "-(L̄(X[:, rand(1:N, M)])) = 133.46332f0\n",
      "-(L̄(X[:, rand(1:N, M)])) = 128.3824f0\n",
      "-(L̄(X[:, rand(1:N, M)])) = 141.96147f0\n",
      "-(L̄(X[:, rand(1:N, M)])) = 133.5388f0\n",
      "-(L̄(X[:, rand(1:N, M)])) = 128.4766f0\n",
      "-(L̄(X[:, rand(1:N, M)])) = 145.44046f0\n"
     ]
    },
    {
     "name": "stderr",
     "output_type": "stream",
     "text": [
      "┌ Info: Epoch 6\n",
      "└ @ Main In[11]:10\n"
     ]
    },
    {
     "name": "stdout",
     "output_type": "stream",
     "text": [
      "-(L̄(X[:, rand(1:N, M)])) = 143.24666f0\n",
      "-(L̄(X[:, rand(1:N, M)])) = 136.45232f0\n",
      "-(L̄(X[:, rand(1:N, M)])) = 134.17308f0\n",
      "-(L̄(X[:, rand(1:N, M)])) = 139.41304f0\n",
      "-(L̄(X[:, rand(1:N, M)])) = 134.81432f0\n",
      "-(L̄(X[:, rand(1:N, M)])) = 134.52553f0\n",
      "-(L̄(X[:, rand(1:N, M)])) = 138.31445f0\n",
      "-(L̄(X[:, rand(1:N, M)])) = 131.86227f0\n",
      "-(L̄(X[:, rand(1:N, M)])) = 142.17078f0\n",
      "-(L̄(X[:, rand(1:N, M)])) = 128.93007f0\n",
      "-(L̄(X[:, rand(1:N, M)])) = 130.44954f0\n",
      "-(L̄(X[:, rand(1:N, M)])) = 140.7938f0\n",
      "-(L̄(X[:, rand(1:N, M)])) = 136.95753f0\n",
      "-(L̄(X[:, rand(1:N, M)])) = 131.07568f0\n",
      "-(L̄(X[:, rand(1:N, M)])) = 133.82716f0\n",
      "-(L̄(X[:, rand(1:N, M)])) = 132.54346f0\n",
      "-(L̄(X[:, rand(1:N, M)])) = 136.41928f0\n",
      "-(L̄(X[:, rand(1:N, M)])) = 131.02821f0\n",
      "-(L̄(X[:, rand(1:N, M)])) = 135.89444f0\n",
      "-(L̄(X[:, rand(1:N, M)])) = 132.3879f0\n",
      "-(L̄(X[:, rand(1:N, M)])) = 135.90794f0\n"
     ]
    },
    {
     "name": "stderr",
     "output_type": "stream",
     "text": [
      "┌ Info: Epoch 7\n",
      "└ @ Main In[11]:10\n"
     ]
    },
    {
     "name": "stdout",
     "output_type": "stream",
     "text": [
      "-(L̄(X[:, rand(1:N, M)])) = 129.62872f0\n",
      "-(L̄(X[:, rand(1:N, M)])) = 132.99841f0\n",
      "-(L̄(X[:, rand(1:N, M)])) = 132.92554f0\n",
      "-(L̄(X[:, rand(1:N, M)])) = 133.98387f0\n",
      "-(L̄(X[:, rand(1:N, M)])) = 130.754f0\n",
      "-(L̄(X[:, rand(1:N, M)])) = 139.09769f0\n",
      "-(L̄(X[:, rand(1:N, M)])) = 137.1508f0\n",
      "-(L̄(X[:, rand(1:N, M)])) = 136.05797f0\n",
      "-(L̄(X[:, rand(1:N, M)])) = 140.96634f0\n",
      "-(L̄(X[:, rand(1:N, M)])) = 135.83765f0\n",
      "-(L̄(X[:, rand(1:N, M)])) = 136.60655f0\n",
      "-(L̄(X[:, rand(1:N, M)])) = 137.08955f0\n",
      "-(L̄(X[:, rand(1:N, M)])) = 131.89967f0\n",
      "-(L̄(X[:, rand(1:N, M)])) = 139.25296f0\n",
      "-(L̄(X[:, rand(1:N, M)])) = 134.9593f0\n",
      "-(L̄(X[:, rand(1:N, M)])) = 136.0391f0\n",
      "-(L̄(X[:, rand(1:N, M)])) = 134.08746f0\n",
      "-(L̄(X[:, rand(1:N, M)])) = 134.50781f0\n",
      "-(L̄(X[:, rand(1:N, M)])) = 135.59076f0\n",
      "-(L̄(X[:, rand(1:N, M)])) = 128.75221f0\n",
      "-(L̄(X[:, rand(1:N, M)])) = 131.21825f0\n",
      "-(L̄(X[:, rand(1:N, M)])) = 134.99278f0\n"
     ]
    },
    {
     "name": "stderr",
     "output_type": "stream",
     "text": [
      "┌ Info: Epoch 8\n",
      "└ @ Main In[11]:10\n"
     ]
    },
    {
     "name": "stdout",
     "output_type": "stream",
     "text": [
      "-(L̄(X[:, rand(1:N, M)])) = 137.2878f0\n",
      "-(L̄(X[:, rand(1:N, M)])) = 130.9691f0\n",
      "-(L̄(X[:, rand(1:N, M)])) = 128.95251f0\n",
      "-(L̄(X[:, rand(1:N, M)])) = 135.41281f0\n",
      "-(L̄(X[:, rand(1:N, M)])) = 136.48138f0\n",
      "-(L̄(X[:, rand(1:N, M)])) = 136.02043f0\n",
      "-(L̄(X[:, rand(1:N, M)])) = 130.83928f0\n",
      "-(L̄(X[:, rand(1:N, M)])) = 130.11935f0\n",
      "-(L̄(X[:, rand(1:N, M)])) = 129.94324f0\n",
      "-(L̄(X[:, rand(1:N, M)])) = 134.99316f0\n",
      "-(L̄(X[:, rand(1:N, M)])) = 132.3436f0\n",
      "-(L̄(X[:, rand(1:N, M)])) = 134.49493f0\n",
      "-(L̄(X[:, rand(1:N, M)])) = 137.28267f0\n",
      "-(L̄(X[:, rand(1:N, M)])) = 135.35968f0\n",
      "-(L̄(X[:, rand(1:N, M)])) = 131.98692f0\n",
      "-(L̄(X[:, rand(1:N, M)])) = 130.13567f0\n",
      "-(L̄(X[:, rand(1:N, M)])) = 125.867645f0\n",
      "-(L̄(X[:, rand(1:N, M)])) = 128.80952f0\n",
      "-(L̄(X[:, rand(1:N, M)])) = 130.84058f0\n",
      "-(L̄(X[:, rand(1:N, M)])) = 133.6727f0\n",
      "-(L̄(X[:, rand(1:N, M)])) = 127.07953f0\n"
     ]
    },
    {
     "name": "stderr",
     "output_type": "stream",
     "text": [
      "┌ Info: Epoch 9\n",
      "└ @ Main In[11]:10\n"
     ]
    },
    {
     "name": "stdout",
     "output_type": "stream",
     "text": [
      "-(L̄(X[:, rand(1:N, M)])) = 133.96721f0\n",
      "-(L̄(X[:, rand(1:N, M)])) = 137.74727f0\n",
      "-(L̄(X[:, rand(1:N, M)])) = 129.56134f0\n",
      "-(L̄(X[:, rand(1:N, M)])) = 124.4941f0\n",
      "-(L̄(X[:, rand(1:N, M)])) = 128.75085f0\n",
      "-(L̄(X[:, rand(1:N, M)])) = 127.760056f0\n",
      "-(L̄(X[:, rand(1:N, M)])) = 140.60663f0\n",
      "-(L̄(X[:, rand(1:N, M)])) = 136.91733f0\n",
      "-(L̄(X[:, rand(1:N, M)])) = 130.42274f0\n",
      "-(L̄(X[:, rand(1:N, M)])) = 131.31064f0\n",
      "-(L̄(X[:, rand(1:N, M)])) = 126.22201f0\n",
      "-(L̄(X[:, rand(1:N, M)])) = 129.01f0\n",
      "-(L̄(X[:, rand(1:N, M)])) = 128.76756f0\n",
      "-(L̄(X[:, rand(1:N, M)])) = 130.4334f0\n",
      "-(L̄(X[:, rand(1:N, M)])) = 131.81662f0\n",
      "-(L̄(X[:, rand(1:N, M)])) = 134.84457f0\n",
      "-(L̄(X[:, rand(1:N, M)])) = 122.79034f0\n",
      "-(L̄(X[:, rand(1:N, M)])) = 127.40986f0\n",
      "-(L̄(X[:, rand(1:N, M)])) = 133.64563f0\n",
      "-(L̄(X[:, rand(1:N, M)])) = 130.46982f0\n",
      "-(L̄(X[:, rand(1:N, M)])) = 131.17245f0\n"
     ]
    },
    {
     "name": "stderr",
     "output_type": "stream",
     "text": [
      "┌ Info: Epoch 10\n",
      "└ @ Main In[11]:10\n"
     ]
    },
    {
     "name": "stdout",
     "output_type": "stream",
     "text": [
      "-(L̄(X[:, rand(1:N, M)])) = 135.11125f0\n",
      "-(L̄(X[:, rand(1:N, M)])) = 129.49095f0\n",
      "-(L̄(X[:, rand(1:N, M)])) = 124.88943f0\n",
      "-(L̄(X[:, rand(1:N, M)])) = 134.06395f0\n",
      "-(L̄(X[:, rand(1:N, M)])) = 128.41093f0\n",
      "-(L̄(X[:, rand(1:N, M)])) = 136.49153f0\n",
      "-(L̄(X[:, rand(1:N, M)])) = 132.89087f0\n",
      "-(L̄(X[:, rand(1:N, M)])) = 124.82368f0\n",
      "-(L̄(X[:, rand(1:N, M)])) = 135.21361f0\n",
      "-(L̄(X[:, rand(1:N, M)])) = 135.23021f0\n",
      "-(L̄(X[:, rand(1:N, M)])) = 131.17613f0\n",
      "-(L̄(X[:, rand(1:N, M)])) = 128.2076f0\n",
      "-(L̄(X[:, rand(1:N, M)])) = 127.59591f0\n",
      "-(L̄(X[:, rand(1:N, M)])) = 128.34283f0\n",
      "-(L̄(X[:, rand(1:N, M)])) = 134.24599f0\n",
      "-(L̄(X[:, rand(1:N, M)])) = 134.24115f0\n",
      "-(L̄(X[:, rand(1:N, M)])) = 126.963356f0\n",
      "-(L̄(X[:, rand(1:N, M)])) = 131.6481f0\n",
      "-(L̄(X[:, rand(1:N, M)])) = 129.58548f0\n",
      "-(L̄(X[:, rand(1:N, M)])) = 124.50628f0\n",
      "-(L̄(X[:, rand(1:N, M)])) = 127.93744f0\n",
      "-(L̄(X[:, rand(1:N, M)])) = 128.7902f0\n"
     ]
    }
   ],
   "source": [
    "################################# Learn Parameters ##############################\n",
    "\n",
    "import Flux: throttle, params\n",
    "\n",
    "evalcb = throttle(() -> @show(-L̄(X[:, rand(1:N, M)])), 30)\n",
    "opt = ADAM()\n",
    "ps = params(A, μ, logσ, f)\n",
    "\n",
    "for i = 1:10\n",
    "  @info \"Epoch $i\"\n",
    "  Flux.train!(loss, ps, zip(data), opt, cb=evalcb)\n",
    "end"
   ]
  },
  {
   "cell_type": "code",
   "execution_count": 13,
   "metadata": {},
   "outputs": [],
   "source": [
    "################################# Sample Output ##############################\n",
    "\n",
    "using Images\n",
    "\n",
    "img(x) = Gray.(reshape(x, 28, 28))\n",
    "\n",
    "sample_image = hcat(img.([modelsample() for i = 1:10])...)\n",
    "save(\"sample.png\", sample_image)"
   ]
  },
  {
   "cell_type": "code",
   "execution_count": null,
   "metadata": {},
   "outputs": [],
   "source": []
  }
 ],
 "metadata": {
  "kernelspec": {
   "display_name": "Julia 1.3.1",
   "language": "julia",
   "name": "julia-1.3"
  },
  "language_info": {
   "file_extension": ".jl",
   "mimetype": "application/julia",
   "name": "julia",
   "version": "1.4.0"
  }
 },
 "nbformat": 4,
 "nbformat_minor": 4
}
