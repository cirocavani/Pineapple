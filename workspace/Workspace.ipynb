{
 "cells": [
  {
   "cell_type": "markdown",
   "metadata": {
    "colab_type": "text",
    "id": "view-in-github"
   },
   "source": [
    "<a href=\"https://colab.research.google.com/github/cirocavani/julia-abc/blob/master/workspace/Julia%20-%20Workspace.ipynb\" target=\"_parent\"><img src=\"https://colab.research.google.com/assets/colab-badge.svg\" alt=\"Open In Colab\"/></a>"
   ]
  },
  {
   "cell_type": "code",
   "execution_count": 1,
   "metadata": {
    "colab": {
     "base_uri": "https://localhost:8080/",
     "height": 153
    },
    "colab_type": "code",
    "id": "x8dRk7EFMDfi",
    "outputId": "b0abe1b5-04b2-4a95-aa3f-9677df874f97"
   },
   "outputs": [
    {
     "name": "stdout",
     "output_type": "stream",
     "text": [
      "Julia Version 1.5.1\n",
      "Commit 697e782ab8 (2020-08-25 20:08 UTC)\n",
      "Platform Info:\n",
      "  OS: Linux (x86_64-pc-linux-gnu)\n",
      "  uname: Linux 5.8.5-arch1-1 #1 SMP PREEMPT Thu, 27 Aug 2020 18:53:02 +0000 x86_64 unknown\n",
      "  CPU: Intel(R) Core(TM) i5-4200U CPU @ 1.60GHz: \n",
      "              speed         user         nice          sys         idle          irq\n",
      "       #1  2295 MHz    1046902 s        199 s     155189 s    7617353 s      41636 s\n",
      "       #2  2295 MHz     791534 s        322 s     122427 s     127440 s      12844 s\n",
      "       #3  2294 MHz    1198704 s        347 s     130853 s     131487 s      20137 s\n",
      "       #4  2294 MHz     756934 s        273 s     114964 s     128998 s      11146 s\n",
      "       \n",
      "  Memory: 7.678234100341797 GB (538.828125 MB free)\n",
      "  Uptime: 342123.0 sec\n",
      "  Load Avg:  1.97802734375  1.89892578125  2.24853515625\n",
      "  WORD_SIZE: 64\n",
      "  LIBM: libopenlibm\n",
      "  LLVM: libLLVM-9.0.1 (ORCJIT, haswell)\n",
      "Environment:\n",
      "  JULIA_DEPOT_PATH = /home/cavani/Workspace/julia-abc/software/julia-env\n",
      "  JULIA_PROJECT = /home/cavani/Workspace/julia-abc\n",
      "  JULIA_INSTDIR = /home/cavani/Workspace/julia-abc/software/julia\n",
      "  JAVA_HOME = /usr/lib/jvm/java-8-openjdk\n",
      "  HOME = /home/cavani\n",
      "  TERM = xterm-256color\n",
      "  CUDA_PATH = /opt/cuda\n",
      "  JULIA_DEPOT_PATH = /home/cavani/Workspace/julia-abc/software/julia-env\n",
      "  PATH = /home/cavani/Workspace/julia-abc/software/conda/envs/jupyter/bin:/home/cavani/Workspace/julia-abc/software/conda/condabin:/home/cavani/Workspace/julia-abc/software/conda/bin:/home/cavani/Workspace/julia-abc/software/julia/bin:/usr/local/bin:/usr/local/sbin:/usr/bin:/opt/cuda/bin:/var/lib/flatpak/exports/bin:/usr/lib/jvm/default/bin:/usr/bin/site_perl:/usr/bin/vendor_perl:/usr/bin/core_perl:/opt/cuda/bin:/var/lib/flatpak/exports/bin:/usr/lib/jvm/default/bin:/usr/bin/site_perl:/usr/bin/vendor_perl:/usr/bin/core_perl\n",
      "  PROJECT_HOME = /home/cavani/Workspace/julia-abc\n"
     ]
    }
   ],
   "source": [
    "versioninfo(verbose=true)"
   ]
  },
  {
   "cell_type": "code",
   "execution_count": 2,
   "metadata": {
    "colab": {
     "base_uri": "https://localhost:8080/",
     "height": 170
    },
    "colab_type": "code",
    "id": "SQJG_5LSMDfs",
    "outputId": "aa068cba-f3be-47e3-d3bb-444723e36419"
   },
   "outputs": [
    {
     "name": "stdout",
     "output_type": "stream",
     "text": [
      "\u001b[32m\u001b[1mStatus\u001b[22m\u001b[39m `/run/media/cavani/cavani_hdx/julia-abc/Project.toml`\n",
      " \u001b[90m [fbb218c0] \u001b[39m\u001b[37mBSON v0.2.6\u001b[39m\n",
      " \u001b[90m [336ed68f] \u001b[39m\u001b[37mCSV v0.7.7\u001b[39m\n",
      " \u001b[90m [052768ef] \u001b[39m\u001b[37mCUDA v1.3.3\u001b[39m\n",
      " \u001b[90m [a93c6f00] \u001b[39m\u001b[37mDataFrames v0.21.7\u001b[39m\n",
      " \u001b[90m [864edb3b] \u001b[39m\u001b[37mDataStructures v0.18.3\u001b[39m\n",
      " \u001b[90m [31c24e10] \u001b[39m\u001b[37mDistributions v0.23.11\u001b[39m\n",
      " \u001b[90m [587475ba] \u001b[39m\u001b[37mFlux v0.11.1\u001b[39m\n",
      " \u001b[90m [56b9baea] \u001b[39m\u001b[37mGym v0.1.0 `https://github.com/cirocavani/Gym.jl#master`\u001b[39m\n",
      " \u001b[90m [7073ff75] \u001b[39m\u001b[37mIJulia v1.21.3\u001b[39m\n",
      " \u001b[90m [6218d12a] \u001b[39m\u001b[37mImageMagick v1.1.6\u001b[39m\n",
      " \u001b[90m [916415d5] \u001b[39m\u001b[37mImages v0.22.4\u001b[39m\n",
      " \u001b[90m [91a5bcdd] \u001b[39m\u001b[37mPlots v1.6.2\u001b[39m\n",
      " \u001b[90m [08abe8d2] \u001b[39m\u001b[37mPrettyTables v0.9.1\u001b[39m\n",
      " \u001b[90m [d330b81b] \u001b[39m\u001b[37mPyPlot v2.9.0\u001b[39m\n",
      " \u001b[90m [e88e6eb3] \u001b[39m\u001b[37mZygote v0.5.5\u001b[39m\n"
     ]
    }
   ],
   "source": [
    "import Pkg\n",
    "Pkg.status()"
   ]
  },
  {
   "cell_type": "code",
   "execution_count": null,
   "metadata": {
    "colab": {},
    "colab_type": "code",
    "id": "_mPJIewyMDfx"
   },
   "outputs": [],
   "source": []
  }
 ],
 "metadata": {
  "accelerator": "GPU",
  "colab": {
   "include_colab_link": true,
   "name": "Julia - Workspace.ipynb",
   "provenance": [],
   "version": "0.3.2"
  },
  "kernelspec": {
   "display_name": "Julia 1.5.1",
   "language": "julia",
   "name": "julia-1.5"
  },
  "language_info": {
   "file_extension": ".jl",
   "mimetype": "application/julia",
   "name": "julia",
   "version": "1.5.1"
  }
 },
 "nbformat": 4,
 "nbformat_minor": 4
}
