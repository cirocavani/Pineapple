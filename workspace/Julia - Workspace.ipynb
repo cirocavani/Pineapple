{
  "nbformat": 4,
  "nbformat_minor": 0,
  "metadata": {
    "kernelspec": {
      "display_name": "Julia 1.1.1",
      "language": "julia",
      "name": "julia-1.1"
    },
    "language_info": {
      "file_extension": ".jl",
      "mimetype": "application/julia",
      "name": "julia",
      "version": "1.1.1"
    },
    "colab": {
      "name": "Julia - Workspace.ipynb",
      "version": "0.3.2",
      "provenance": [],
      "include_colab_link": true
    },
    "accelerator": "GPU"
  },
  "cells": [
    {
      "cell_type": "markdown",
      "metadata": {
        "id": "view-in-github",
        "colab_type": "text"
      },
      "source": [
        "<a href=\"https://colab.research.google.com/github/cirocavani/Pineapple/blob/master/workspace/Julia%20-%20Workspace.ipynb\" target=\"_parent\"><img src=\"https://colab.research.google.com/assets/colab-badge.svg\" alt=\"Open In Colab\"/></a>"
      ]
    },
    {
      "cell_type": "code",
      "metadata": {
        "id": "x8dRk7EFMDfi",
        "colab_type": "code",
        "colab": {
          "base_uri": "https://localhost:8080/",
          "height": 153
        },
        "outputId": "b0abe1b5-04b2-4a95-aa3f-9677df874f97"
      },
      "source": [
        "versioninfo()"
      ],
      "execution_count": 1,
      "outputs": [
        {
          "output_type": "stream",
          "text": [
            "Julia Version 1.1.1\n",
            "Commit 55e36cc308 (2019-05-16 04:10 UTC)\n",
            "Platform Info:\n",
            "  OS: Linux (x86_64-pc-linux-gnu)\n",
            "  CPU: Intel(R) Xeon(R) CPU @ 2.20GHz\n",
            "  WORD_SIZE: 64\n",
            "  LIBM: libopenlibm\n",
            "  LLVM: libLLVM-6.0.1 (ORCJIT, broadwell)\n"
          ],
          "name": "stdout"
        }
      ]
    },
    {
      "cell_type": "code",
      "metadata": {
        "id": "SQJG_5LSMDfs",
        "colab_type": "code",
        "colab": {
          "base_uri": "https://localhost:8080/",
          "height": 170
        },
        "outputId": "aa068cba-f3be-47e3-d3bb-444723e36419"
      },
      "source": [
        "import Pkg\n",
        "Pkg.status()"
      ],
      "execution_count": 2,
      "outputs": [
        {
          "output_type": "stream",
          "text": [
            "\u001b[32m\u001b[1m    Status\u001b[22m\u001b[39m `~/.julia/environments/v1.1/Project.toml`\n",
            " \u001b[90m [fbb218c0]\u001b[39m\u001b[37m BSON v0.2.3\u001b[39m\n",
            " \u001b[90m [3a865a2d]\u001b[39m\u001b[37m CuArrays v1.1.0\u001b[39m\n",
            " \u001b[90m [31c24e10]\u001b[39m\u001b[37m Distributions v0.21.1\u001b[39m\n",
            " \u001b[90m [587475ba]\u001b[39m\u001b[37m Flux v0.8.3\u001b[39m\n",
            " \u001b[90m [7073ff75]\u001b[39m\u001b[37m IJulia v1.19.0\u001b[39m\n",
            " \u001b[90m [6218d12a]\u001b[39m\u001b[37m ImageMagick v0.7.5\u001b[39m\n",
            " \u001b[90m [916415d5]\u001b[39m\u001b[37m Images v0.18.0\u001b[39m\n",
            " \u001b[90m [10745b16]\u001b[39m\u001b[37m Statistics \u001b[39m\n"
          ],
          "name": "stdout"
        }
      ]
    },
    {
      "cell_type": "code",
      "metadata": {
        "id": "_mPJIewyMDfx",
        "colab_type": "code",
        "colab": {}
      },
      "source": [
        ""
      ],
      "execution_count": 0,
      "outputs": []
    }
  ]
}